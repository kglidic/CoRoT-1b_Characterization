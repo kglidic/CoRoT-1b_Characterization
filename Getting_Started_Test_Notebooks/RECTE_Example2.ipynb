{
 "cells": [
  {
   "cell_type": "code",
   "execution_count": 1,
   "metadata": {},
   "outputs": [
    {
     "data": {
      "text/html": [
       "\n",
       "    <div class=\"bk-root\">\n",
       "        <a href=\"https://bokeh.org\" target=\"_blank\" class=\"bk-logo bk-logo-small bk-logo-notebook\"></a>\n",
       "        <span id=\"1001\">Loading BokehJS ...</span>\n",
       "    </div>"
      ]
     },
     "metadata": {},
     "output_type": "display_data"
    },
    {
     "data": {
      "application/javascript": [
       "\n",
       "(function(root) {\n",
       "  function now() {\n",
       "    return new Date();\n",
       "  }\n",
       "\n",
       "  var force = true;\n",
       "\n",
       "  if (typeof root._bokeh_onload_callbacks === \"undefined\" || force === true) {\n",
       "    root._bokeh_onload_callbacks = [];\n",
       "    root._bokeh_is_loading = undefined;\n",
       "  }\n",
       "\n",
       "  var JS_MIME_TYPE = 'application/javascript';\n",
       "  var HTML_MIME_TYPE = 'text/html';\n",
       "  var EXEC_MIME_TYPE = 'application/vnd.bokehjs_exec.v0+json';\n",
       "  var CLASS_NAME = 'output_bokeh rendered_html';\n",
       "\n",
       "  /**\n",
       "   * Render data to the DOM node\n",
       "   */\n",
       "  function render(props, node) {\n",
       "    var script = document.createElement(\"script\");\n",
       "    node.appendChild(script);\n",
       "  }\n",
       "\n",
       "  /**\n",
       "   * Handle when an output is cleared or removed\n",
       "   */\n",
       "  function handleClearOutput(event, handle) {\n",
       "    var cell = handle.cell;\n",
       "\n",
       "    var id = cell.output_area._bokeh_element_id;\n",
       "    var server_id = cell.output_area._bokeh_server_id;\n",
       "    // Clean up Bokeh references\n",
       "    if (id != null && id in Bokeh.index) {\n",
       "      Bokeh.index[id].model.document.clear();\n",
       "      delete Bokeh.index[id];\n",
       "    }\n",
       "\n",
       "    if (server_id !== undefined) {\n",
       "      // Clean up Bokeh references\n",
       "      var cmd = \"from bokeh.io.state import curstate; print(curstate().uuid_to_server['\" + server_id + \"'].get_sessions()[0].document.roots[0]._id)\";\n",
       "      cell.notebook.kernel.execute(cmd, {\n",
       "        iopub: {\n",
       "          output: function(msg) {\n",
       "            var id = msg.content.text.trim();\n",
       "            if (id in Bokeh.index) {\n",
       "              Bokeh.index[id].model.document.clear();\n",
       "              delete Bokeh.index[id];\n",
       "            }\n",
       "          }\n",
       "        }\n",
       "      });\n",
       "      // Destroy server and session\n",
       "      var cmd = \"import bokeh.io.notebook as ion; ion.destroy_server('\" + server_id + \"')\";\n",
       "      cell.notebook.kernel.execute(cmd);\n",
       "    }\n",
       "  }\n",
       "\n",
       "  /**\n",
       "   * Handle when a new output is added\n",
       "   */\n",
       "  function handleAddOutput(event, handle) {\n",
       "    var output_area = handle.output_area;\n",
       "    var output = handle.output;\n",
       "\n",
       "    // limit handleAddOutput to display_data with EXEC_MIME_TYPE content only\n",
       "    if ((output.output_type != \"display_data\") || (!output.data.hasOwnProperty(EXEC_MIME_TYPE))) {\n",
       "      return\n",
       "    }\n",
       "\n",
       "    var toinsert = output_area.element.find(\".\" + CLASS_NAME.split(' ')[0]);\n",
       "\n",
       "    if (output.metadata[EXEC_MIME_TYPE][\"id\"] !== undefined) {\n",
       "      toinsert[toinsert.length - 1].firstChild.textContent = output.data[JS_MIME_TYPE];\n",
       "      // store reference to embed id on output_area\n",
       "      output_area._bokeh_element_id = output.metadata[EXEC_MIME_TYPE][\"id\"];\n",
       "    }\n",
       "    if (output.metadata[EXEC_MIME_TYPE][\"server_id\"] !== undefined) {\n",
       "      var bk_div = document.createElement(\"div\");\n",
       "      bk_div.innerHTML = output.data[HTML_MIME_TYPE];\n",
       "      var script_attrs = bk_div.children[0].attributes;\n",
       "      for (var i = 0; i < script_attrs.length; i++) {\n",
       "        toinsert[toinsert.length - 1].firstChild.setAttribute(script_attrs[i].name, script_attrs[i].value);\n",
       "        toinsert[toinsert.length - 1].firstChild.textContent = bk_div.children[0].textContent\n",
       "      }\n",
       "      // store reference to server id on output_area\n",
       "      output_area._bokeh_server_id = output.metadata[EXEC_MIME_TYPE][\"server_id\"];\n",
       "    }\n",
       "  }\n",
       "\n",
       "  function register_renderer(events, OutputArea) {\n",
       "\n",
       "    function append_mime(data, metadata, element) {\n",
       "      // create a DOM node to render to\n",
       "      var toinsert = this.create_output_subarea(\n",
       "        metadata,\n",
       "        CLASS_NAME,\n",
       "        EXEC_MIME_TYPE\n",
       "      );\n",
       "      this.keyboard_manager.register_events(toinsert);\n",
       "      // Render to node\n",
       "      var props = {data: data, metadata: metadata[EXEC_MIME_TYPE]};\n",
       "      render(props, toinsert[toinsert.length - 1]);\n",
       "      element.append(toinsert);\n",
       "      return toinsert\n",
       "    }\n",
       "\n",
       "    /* Handle when an output is cleared or removed */\n",
       "    events.on('clear_output.CodeCell', handleClearOutput);\n",
       "    events.on('delete.Cell', handleClearOutput);\n",
       "\n",
       "    /* Handle when a new output is added */\n",
       "    events.on('output_added.OutputArea', handleAddOutput);\n",
       "\n",
       "    /**\n",
       "     * Register the mime type and append_mime function with output_area\n",
       "     */\n",
       "    OutputArea.prototype.register_mime_type(EXEC_MIME_TYPE, append_mime, {\n",
       "      /* Is output safe? */\n",
       "      safe: true,\n",
       "      /* Index of renderer in `output_area.display_order` */\n",
       "      index: 0\n",
       "    });\n",
       "  }\n",
       "\n",
       "  // register the mime type if in Jupyter Notebook environment and previously unregistered\n",
       "  if (root.Jupyter !== undefined) {\n",
       "    var events = require('base/js/events');\n",
       "    var OutputArea = require('notebook/js/outputarea').OutputArea;\n",
       "\n",
       "    if (OutputArea.prototype.mime_types().indexOf(EXEC_MIME_TYPE) == -1) {\n",
       "      register_renderer(events, OutputArea);\n",
       "    }\n",
       "  }\n",
       "\n",
       "  \n",
       "  if (typeof (root._bokeh_timeout) === \"undefined\" || force === true) {\n",
       "    root._bokeh_timeout = Date.now() + 5000;\n",
       "    root._bokeh_failed_load = false;\n",
       "  }\n",
       "\n",
       "  var NB_LOAD_WARNING = {'data': {'text/html':\n",
       "     \"<div style='background-color: #fdd'>\\n\"+\n",
       "     \"<p>\\n\"+\n",
       "     \"BokehJS does not appear to have successfully loaded. If loading BokehJS from CDN, this \\n\"+\n",
       "     \"may be due to a slow or bad network connection. Possible fixes:\\n\"+\n",
       "     \"</p>\\n\"+\n",
       "     \"<ul>\\n\"+\n",
       "     \"<li>re-rerun `output_notebook()` to attempt to load from CDN again, or</li>\\n\"+\n",
       "     \"<li>use INLINE resources instead, as so:</li>\\n\"+\n",
       "     \"</ul>\\n\"+\n",
       "     \"<code>\\n\"+\n",
       "     \"from bokeh.resources import INLINE\\n\"+\n",
       "     \"output_notebook(resources=INLINE)\\n\"+\n",
       "     \"</code>\\n\"+\n",
       "     \"</div>\"}};\n",
       "\n",
       "  function display_loaded() {\n",
       "    var el = document.getElementById(\"1001\");\n",
       "    if (el != null) {\n",
       "      el.textContent = \"BokehJS is loading...\";\n",
       "    }\n",
       "    if (root.Bokeh !== undefined) {\n",
       "      if (el != null) {\n",
       "        el.textContent = \"BokehJS \" + root.Bokeh.version + \" successfully loaded.\";\n",
       "      }\n",
       "    } else if (Date.now() < root._bokeh_timeout) {\n",
       "      setTimeout(display_loaded, 100)\n",
       "    }\n",
       "  }\n",
       "\n",
       "\n",
       "  function run_callbacks() {\n",
       "    try {\n",
       "      root._bokeh_onload_callbacks.forEach(function(callback) {\n",
       "        if (callback != null)\n",
       "          callback();\n",
       "      });\n",
       "    } finally {\n",
       "      delete root._bokeh_onload_callbacks\n",
       "    }\n",
       "    console.debug(\"Bokeh: all callbacks have finished\");\n",
       "  }\n",
       "\n",
       "  function load_libs(css_urls, js_urls, callback) {\n",
       "    if (css_urls == null) css_urls = [];\n",
       "    if (js_urls == null) js_urls = [];\n",
       "\n",
       "    root._bokeh_onload_callbacks.push(callback);\n",
       "    if (root._bokeh_is_loading > 0) {\n",
       "      console.debug(\"Bokeh: BokehJS is being loaded, scheduling callback at\", now());\n",
       "      return null;\n",
       "    }\n",
       "    if (js_urls == null || js_urls.length === 0) {\n",
       "      run_callbacks();\n",
       "      return null;\n",
       "    }\n",
       "    console.debug(\"Bokeh: BokehJS not loaded, scheduling load and callback at\", now());\n",
       "    root._bokeh_is_loading = css_urls.length + js_urls.length;\n",
       "\n",
       "    function on_load() {\n",
       "      root._bokeh_is_loading--;\n",
       "      if (root._bokeh_is_loading === 0) {\n",
       "        console.debug(\"Bokeh: all BokehJS libraries/stylesheets loaded\");\n",
       "        run_callbacks()\n",
       "      }\n",
       "    }\n",
       "\n",
       "    function on_error() {\n",
       "      console.error(\"failed to load \" + url);\n",
       "    }\n",
       "\n",
       "    for (var i = 0; i < css_urls.length; i++) {\n",
       "      var url = css_urls[i];\n",
       "      const element = document.createElement(\"link\");\n",
       "      element.onload = on_load;\n",
       "      element.onerror = on_error;\n",
       "      element.rel = \"stylesheet\";\n",
       "      element.type = \"text/css\";\n",
       "      element.href = url;\n",
       "      console.debug(\"Bokeh: injecting link tag for BokehJS stylesheet: \", url);\n",
       "      document.body.appendChild(element);\n",
       "    }\n",
       "\n",
       "    const hashes = {\"https://cdn.bokeh.org/bokeh/release/bokeh-2.1.0.min.js\": \"YobFyzPeVUsFQydHkJGsJL1kyfHnWxOlPc3EwaV22TmBaeGoXHLWx5aRRVPS9xlE\", \"https://cdn.bokeh.org/bokeh/release/bokeh-widgets-2.1.0.min.js\": \"NuAg9+TcTQQqvQCTtkCneRrpkTiMhhfiq0KHiBzx8ECiKiLWXHN6i6ia3q7b3eHu\", \"https://cdn.bokeh.org/bokeh/release/bokeh-tables-2.1.0.min.js\": \"uMVqQc8JqHitD67bXTn9a06Mrk3EiHRaZ18EJENQenAKJ/KL71SakdXYomZQpGRr\", \"https://cdn.bokeh.org/bokeh/release/bokeh-gl-2.1.0.min.js\": \"u+eGuEXC8aw0VSCm2mH+b/tQEAitUOYiR1H6SuIVEdUmXsf4vN8m/SmXpmjb7U/X\"};\n",
       "\n",
       "    for (var i = 0; i < js_urls.length; i++) {\n",
       "      var url = js_urls[i];\n",
       "      var element = document.createElement('script');\n",
       "      element.onload = on_load;\n",
       "      element.onerror = on_error;\n",
       "      element.async = false;\n",
       "      element.src = url;\n",
       "      if (url in hashes) {\n",
       "        element.crossOrigin = \"anonymous\";\n",
       "        element.integrity = \"sha384-\" + hashes[url];\n",
       "      }\n",
       "      console.debug(\"Bokeh: injecting script tag for BokehJS library: \", url);\n",
       "      document.head.appendChild(element);\n",
       "    }\n",
       "  };\n",
       "\n",
       "  function inject_raw_css(css) {\n",
       "    const element = document.createElement(\"style\");\n",
       "    element.appendChild(document.createTextNode(css));\n",
       "    document.body.appendChild(element);\n",
       "  }\n",
       "\n",
       "  \n",
       "  var js_urls = [\"https://cdn.bokeh.org/bokeh/release/bokeh-2.1.0.min.js\", \"https://cdn.bokeh.org/bokeh/release/bokeh-widgets-2.1.0.min.js\", \"https://cdn.bokeh.org/bokeh/release/bokeh-tables-2.1.0.min.js\", \"https://cdn.bokeh.org/bokeh/release/bokeh-gl-2.1.0.min.js\"];\n",
       "  var css_urls = [];\n",
       "  \n",
       "\n",
       "  var inline_js = [\n",
       "    function(Bokeh) {\n",
       "      Bokeh.set_log_level(\"info\");\n",
       "    },\n",
       "    function(Bokeh) {\n",
       "    \n",
       "    \n",
       "    }\n",
       "  ];\n",
       "\n",
       "  function run_inline_js() {\n",
       "    \n",
       "    if (root.Bokeh !== undefined || force === true) {\n",
       "      \n",
       "    for (var i = 0; i < inline_js.length; i++) {\n",
       "      inline_js[i].call(root, root.Bokeh);\n",
       "    }\n",
       "    if (force === true) {\n",
       "        display_loaded();\n",
       "      }} else if (Date.now() < root._bokeh_timeout) {\n",
       "      setTimeout(run_inline_js, 100);\n",
       "    } else if (!root._bokeh_failed_load) {\n",
       "      console.log(\"Bokeh: BokehJS failed to load within specified timeout.\");\n",
       "      root._bokeh_failed_load = true;\n",
       "    } else if (force !== true) {\n",
       "      var cell = $(document.getElementById(\"1001\")).parents('.cell').data().cell;\n",
       "      cell.output_area.append_execute_result(NB_LOAD_WARNING)\n",
       "    }\n",
       "\n",
       "  }\n",
       "\n",
       "  if (root._bokeh_is_loading === 0) {\n",
       "    console.debug(\"Bokeh: BokehJS loaded, going straight to plotting\");\n",
       "    run_inline_js();\n",
       "  } else {\n",
       "    load_libs(css_urls, js_urls, function() {\n",
       "      console.debug(\"Bokeh: BokehJS plotting callback run at\", now());\n",
       "      run_inline_js();\n",
       "    });\n",
       "  }\n",
       "}(window));"
      ],
      "application/vnd.bokehjs_load.v0+json": "\n(function(root) {\n  function now() {\n    return new Date();\n  }\n\n  var force = true;\n\n  if (typeof root._bokeh_onload_callbacks === \"undefined\" || force === true) {\n    root._bokeh_onload_callbacks = [];\n    root._bokeh_is_loading = undefined;\n  }\n\n  \n\n  \n  if (typeof (root._bokeh_timeout) === \"undefined\" || force === true) {\n    root._bokeh_timeout = Date.now() + 5000;\n    root._bokeh_failed_load = false;\n  }\n\n  var NB_LOAD_WARNING = {'data': {'text/html':\n     \"<div style='background-color: #fdd'>\\n\"+\n     \"<p>\\n\"+\n     \"BokehJS does not appear to have successfully loaded. If loading BokehJS from CDN, this \\n\"+\n     \"may be due to a slow or bad network connection. Possible fixes:\\n\"+\n     \"</p>\\n\"+\n     \"<ul>\\n\"+\n     \"<li>re-rerun `output_notebook()` to attempt to load from CDN again, or</li>\\n\"+\n     \"<li>use INLINE resources instead, as so:</li>\\n\"+\n     \"</ul>\\n\"+\n     \"<code>\\n\"+\n     \"from bokeh.resources import INLINE\\n\"+\n     \"output_notebook(resources=INLINE)\\n\"+\n     \"</code>\\n\"+\n     \"</div>\"}};\n\n  function display_loaded() {\n    var el = document.getElementById(\"1001\");\n    if (el != null) {\n      el.textContent = \"BokehJS is loading...\";\n    }\n    if (root.Bokeh !== undefined) {\n      if (el != null) {\n        el.textContent = \"BokehJS \" + root.Bokeh.version + \" successfully loaded.\";\n      }\n    } else if (Date.now() < root._bokeh_timeout) {\n      setTimeout(display_loaded, 100)\n    }\n  }\n\n\n  function run_callbacks() {\n    try {\n      root._bokeh_onload_callbacks.forEach(function(callback) {\n        if (callback != null)\n          callback();\n      });\n    } finally {\n      delete root._bokeh_onload_callbacks\n    }\n    console.debug(\"Bokeh: all callbacks have finished\");\n  }\n\n  function load_libs(css_urls, js_urls, callback) {\n    if (css_urls == null) css_urls = [];\n    if (js_urls == null) js_urls = [];\n\n    root._bokeh_onload_callbacks.push(callback);\n    if (root._bokeh_is_loading > 0) {\n      console.debug(\"Bokeh: BokehJS is being loaded, scheduling callback at\", now());\n      return null;\n    }\n    if (js_urls == null || js_urls.length === 0) {\n      run_callbacks();\n      return null;\n    }\n    console.debug(\"Bokeh: BokehJS not loaded, scheduling load and callback at\", now());\n    root._bokeh_is_loading = css_urls.length + js_urls.length;\n\n    function on_load() {\n      root._bokeh_is_loading--;\n      if (root._bokeh_is_loading === 0) {\n        console.debug(\"Bokeh: all BokehJS libraries/stylesheets loaded\");\n        run_callbacks()\n      }\n    }\n\n    function on_error() {\n      console.error(\"failed to load \" + url);\n    }\n\n    for (var i = 0; i < css_urls.length; i++) {\n      var url = css_urls[i];\n      const element = document.createElement(\"link\");\n      element.onload = on_load;\n      element.onerror = on_error;\n      element.rel = \"stylesheet\";\n      element.type = \"text/css\";\n      element.href = url;\n      console.debug(\"Bokeh: injecting link tag for BokehJS stylesheet: \", url);\n      document.body.appendChild(element);\n    }\n\n    const hashes = {\"https://cdn.bokeh.org/bokeh/release/bokeh-2.1.0.min.js\": \"YobFyzPeVUsFQydHkJGsJL1kyfHnWxOlPc3EwaV22TmBaeGoXHLWx5aRRVPS9xlE\", \"https://cdn.bokeh.org/bokeh/release/bokeh-widgets-2.1.0.min.js\": \"NuAg9+TcTQQqvQCTtkCneRrpkTiMhhfiq0KHiBzx8ECiKiLWXHN6i6ia3q7b3eHu\", \"https://cdn.bokeh.org/bokeh/release/bokeh-tables-2.1.0.min.js\": \"uMVqQc8JqHitD67bXTn9a06Mrk3EiHRaZ18EJENQenAKJ/KL71SakdXYomZQpGRr\", \"https://cdn.bokeh.org/bokeh/release/bokeh-gl-2.1.0.min.js\": \"u+eGuEXC8aw0VSCm2mH+b/tQEAitUOYiR1H6SuIVEdUmXsf4vN8m/SmXpmjb7U/X\"};\n\n    for (var i = 0; i < js_urls.length; i++) {\n      var url = js_urls[i];\n      var element = document.createElement('script');\n      element.onload = on_load;\n      element.onerror = on_error;\n      element.async = false;\n      element.src = url;\n      if (url in hashes) {\n        element.crossOrigin = \"anonymous\";\n        element.integrity = \"sha384-\" + hashes[url];\n      }\n      console.debug(\"Bokeh: injecting script tag for BokehJS library: \", url);\n      document.head.appendChild(element);\n    }\n  };\n\n  function inject_raw_css(css) {\n    const element = document.createElement(\"style\");\n    element.appendChild(document.createTextNode(css));\n    document.body.appendChild(element);\n  }\n\n  \n  var js_urls = [\"https://cdn.bokeh.org/bokeh/release/bokeh-2.1.0.min.js\", \"https://cdn.bokeh.org/bokeh/release/bokeh-widgets-2.1.0.min.js\", \"https://cdn.bokeh.org/bokeh/release/bokeh-tables-2.1.0.min.js\", \"https://cdn.bokeh.org/bokeh/release/bokeh-gl-2.1.0.min.js\"];\n  var css_urls = [];\n  \n\n  var inline_js = [\n    function(Bokeh) {\n      Bokeh.set_log_level(\"info\");\n    },\n    function(Bokeh) {\n    \n    \n    }\n  ];\n\n  function run_inline_js() {\n    \n    if (root.Bokeh !== undefined || force === true) {\n      \n    for (var i = 0; i < inline_js.length; i++) {\n      inline_js[i].call(root, root.Bokeh);\n    }\n    if (force === true) {\n        display_loaded();\n      }} else if (Date.now() < root._bokeh_timeout) {\n      setTimeout(run_inline_js, 100);\n    } else if (!root._bokeh_failed_load) {\n      console.log(\"Bokeh: BokehJS failed to load within specified timeout.\");\n      root._bokeh_failed_load = true;\n    } else if (force !== true) {\n      var cell = $(document.getElementById(\"1001\")).parents('.cell').data().cell;\n      cell.output_area.append_execute_result(NB_LOAD_WARNING)\n    }\n\n  }\n\n  if (root._bokeh_is_loading === 0) {\n    console.debug(\"Bokeh: BokehJS loaded, going straight to plotting\");\n    run_inline_js();\n  } else {\n    load_libs(css_urls, js_urls, function() {\n      console.debug(\"Bokeh: BokehJS plotting callback run at\", now());\n      run_inline_js();\n    });\n  }\n}(window));"
     },
     "metadata": {},
     "output_type": "display_data"
    }
   ],
   "source": [
    "#import the module\n",
    "from pipeline import spec_pipeline\n",
    "\n",
    "import matplotlib.pyplot as plt\n",
    "%matplotlib inline\n",
    "\n",
    "#import bokeh to enable interactive plots\n",
    "from bokeh.plotting import figure\n",
    "from bokeh.io import output_notebook, push_notebook, show\n",
    "\n",
    "output_notebook()\n",
    "\n",
    "#import yaml to read in the parameter file\n",
    "import yaml\n",
    "\n",
    "#imports to use RECTE\n",
    "import os\n",
    "from astropy.table import QTable\n",
    "import astropy.units as u\n",
    "import numpy as np\n",
    "from astropy.io import fits\n",
    "from astropy.table import Table, join\n"
   ]
  },
  {
   "cell_type": "code",
   "execution_count": 2,
   "metadata": {},
   "outputs": [
    {
     "data": {
      "text/plain": [
       "{'procFiles': ['/home/kglidic/Software/tser_tools/tshirt/corot1_visit1/*_flt.fits',\n",
       "  '/home/kglidic/Software/tser_tools/tshirt/corot1_visit2/*_flt.fits',\n",
       "  '/home/kglidic/Software/tser_tools/tshirt/corot1_visit3/*_flt.fits',\n",
       "  '/home/kglidic/Software/tser_tools/tshirt/corot1_visit4/*_flt.fits'],\n",
       " 'excludeList': ['ibh717giq_flt.fits',\n",
       "  'ibh719gkq_flt.fits',\n",
       "  'ibh720i5q_flt.fits',\n",
       "  'ibh721olq_flt.fits'],\n",
       " 'srcName': 'CoRoT-1',\n",
       " 'srcNameShort': 'corot1',\n",
       " 'nightName': ['visit1', 'visit2', 'visit3', 'visit4'],\n",
       " 'dispDirection': 'x',\n",
       " 'starPositions': [74],\n",
       " 'refPhotCentering': None,\n",
       " 'bkgSubDirections': ['Y'],\n",
       " 'bkgRegionsX': [[None, None]],\n",
       " 'bkgOrderX': 0,\n",
       " 'bkgRegionsY': [[[9, 32], [41, 49], [92, 122]],\n",
       "  [[0, 14], [25, 32], [39, 56], [100, 121]],\n",
       "  [[9, 32], [39, 46], [92, 122]],\n",
       "  [[9, 32], [39, 46], [92, 122]]],\n",
       " 'bkgOrderY': 1,\n",
       " 'apWidth': 30.0,\n",
       " 'dispPixels': [0, 128],\n",
       " 'numSplineKnots': 6,\n",
       " 'splineSpecFitOrder': 2,\n",
       " 'sigForBadPx': 300,\n",
       " 'jdRef': 2457551,\n",
       " 'timingMethod': None,\n",
       " 'isCube': False,\n",
       " 'cubePlane': 0,\n",
       " 'doCentering': False,\n",
       " 'FITSextension': 1,\n",
       " 'HEADextension': 0,\n",
       " 'isSlope': True,\n",
       " 'readNoise': 20,\n",
       " 'detectorGain': 1.0,\n",
       " 'dateFormat': 'Two Part',\n",
       " 'itimeKeyword': 'EXPTIME'}"
      ]
     },
     "execution_count": 2,
     "metadata": {},
     "output_type": "execute_result"
    }
   ],
   "source": [
    "with open(\"corot1_batch_file.yaml\", \"r\") as stream:\n",
    "    bparamfile = yaml.safe_load(stream)\n",
    "    \n",
    "bparamfile"
   ]
  },
  {
   "cell_type": "code",
   "execution_count": 3,
   "metadata": {},
   "outputs": [],
   "source": [
    "bspec = spec_pipeline.batch_spec(batchFile='corot1_batch_file.yaml')"
   ]
  },
  {
   "cell_type": "code",
   "execution_count": 5,
   "metadata": {},
   "outputs": [
    {
     "data": {
      "text/plain": [
       "<pipeline.spec_pipeline.batch_spec at 0x7f3964f2b748>"
      ]
     },
     "execution_count": 5,
     "metadata": {},
     "output_type": "execute_result"
    }
   ],
   "source": [
    "bspec"
   ]
  },
  {
   "cell_type": "code",
   "execution_count": 4,
   "metadata": {
    "scrolled": true
   },
   "outputs": [
    {
     "name": "stdout",
     "output_type": "stream",
     "text": [
      "Working on showStarChoices for batch CoRoT-1 corot1_visit1 \n"
     ]
    },
    {
     "ename": "FileNotFoundError",
     "evalue": "[Errno 2] No such file or directory: '/home/kglidic/Software/tser_tools/tshirt/corot1_visit1/ibh717iuq_flt.fits'",
     "output_type": "error",
     "traceback": [
      "\u001b[0;31m---------------------------------------------------------------------------\u001b[0m",
      "\u001b[0;31mFileNotFoundError\u001b[0m                         Traceback (most recent call last)",
      "\u001b[0;32m<ipython-input-4-3389d1c6bbf4>\u001b[0m in \u001b[0;36m<module>\u001b[0;34m\u001b[0m\n\u001b[0;32m----> 1\u001b[0;31m \u001b[0mbspec\u001b[0m\u001b[0;34m.\u001b[0m\u001b[0mbatch_run\u001b[0m\u001b[0;34m(\u001b[0m\u001b[0;34m'showStarChoices'\u001b[0m\u001b[0;34m,\u001b[0m\u001b[0mvmax\u001b[0m\u001b[0;34m=\u001b[0m\u001b[0;36m1000\u001b[0m\u001b[0;34m,\u001b[0m\u001b[0mshowPlot\u001b[0m\u001b[0;34m=\u001b[0m\u001b[0;32mTrue\u001b[0m\u001b[0;34m)\u001b[0m\u001b[0;34m\u001b[0m\u001b[0;34m\u001b[0m\u001b[0m\n\u001b[0m",
      "\u001b[0;32m~/Software/tser_tools/tshirt/pipeline/phot_pipeline.py\u001b[0m in \u001b[0;36mbatch_run\u001b[0;34m(self, method, **kwargs)\u001b[0m\n\u001b[1;32m   1621\u001b[0m                                                          thisPhot.dataFileDescrip))\n\u001b[1;32m   1622\u001b[0m             \u001b[0mphotMethod\u001b[0m \u001b[0;34m=\u001b[0m \u001b[0mgetattr\u001b[0m\u001b[0;34m(\u001b[0m\u001b[0mthisPhot\u001b[0m\u001b[0;34m,\u001b[0m\u001b[0mmethod\u001b[0m\u001b[0;34m)\u001b[0m\u001b[0;34m\u001b[0m\u001b[0;34m\u001b[0m\u001b[0m\n\u001b[0;32m-> 1623\u001b[0;31m             \u001b[0mresult\u001b[0m \u001b[0;34m=\u001b[0m \u001b[0mphotMethod\u001b[0m\u001b[0;34m(\u001b[0m\u001b[0;34m**\u001b[0m\u001b[0mkwargs\u001b[0m\u001b[0;34m)\u001b[0m\u001b[0;34m\u001b[0m\u001b[0;34m\u001b[0m\u001b[0m\n\u001b[0m\u001b[1;32m   1624\u001b[0m             \u001b[0mbatch_result\u001b[0m\u001b[0;34m.\u001b[0m\u001b[0mappend\u001b[0m\u001b[0;34m(\u001b[0m\u001b[0mresult\u001b[0m\u001b[0;34m)\u001b[0m\u001b[0;34m\u001b[0m\u001b[0;34m\u001b[0m\u001b[0m\n\u001b[1;32m   1625\u001b[0m         \u001b[0;32mif\u001b[0m \u001b[0mall\u001b[0m\u001b[0;34m(\u001b[0m\u001b[0mv\u001b[0m \u001b[0;32mis\u001b[0m \u001b[0;32mNone\u001b[0m \u001b[0;32mfor\u001b[0m \u001b[0mv\u001b[0m \u001b[0;32min\u001b[0m \u001b[0mbatch_result\u001b[0m\u001b[0;34m)\u001b[0m\u001b[0;34m:\u001b[0m\u001b[0;34m\u001b[0m\u001b[0;34m\u001b[0m\u001b[0m\n",
      "\u001b[0;32m~/Software/tser_tools/tshirt/pipeline/spec_pipeline.py\u001b[0m in \u001b[0;36mshowStarChoices\u001b[0;34m(self, img, head, showBack, srcLabel, figSize, vmin, vmax, xlim, ylim, showPlot)\u001b[0m\n\u001b[1;32m   1546\u001b[0m         \u001b[0mfig\u001b[0m\u001b[0;34m,\u001b[0m \u001b[0max\u001b[0m \u001b[0;34m=\u001b[0m \u001b[0mplt\u001b[0m\u001b[0;34m.\u001b[0m\u001b[0msubplots\u001b[0m\u001b[0;34m(\u001b[0m\u001b[0mfigsize\u001b[0m\u001b[0;34m=\u001b[0m\u001b[0mfigSize\u001b[0m\u001b[0;34m)\u001b[0m\u001b[0;34m\u001b[0m\u001b[0;34m\u001b[0m\u001b[0m\n\u001b[1;32m   1547\u001b[0m \u001b[0;34m\u001b[0m\u001b[0m\n\u001b[0;32m-> 1548\u001b[0;31m         \u001b[0mimg\u001b[0m\u001b[0;34m,\u001b[0m \u001b[0mhead\u001b[0m \u001b[0;34m=\u001b[0m \u001b[0mself\u001b[0m\u001b[0;34m.\u001b[0m\u001b[0mget_default_im\u001b[0m\u001b[0;34m(\u001b[0m\u001b[0mimg\u001b[0m\u001b[0;34m=\u001b[0m\u001b[0mimg\u001b[0m\u001b[0;34m,\u001b[0m\u001b[0mhead\u001b[0m\u001b[0;34m=\u001b[0m\u001b[0;32mNone\u001b[0m\u001b[0;34m)\u001b[0m\u001b[0;34m\u001b[0m\u001b[0;34m\u001b[0m\u001b[0m\n\u001b[0m\u001b[1;32m   1549\u001b[0m \u001b[0;34m\u001b[0m\u001b[0m\n\u001b[1;32m   1550\u001b[0m         \u001b[0;32mif\u001b[0m \u001b[0mvmin\u001b[0m \u001b[0;34m==\u001b[0m \u001b[0;32mNone\u001b[0m\u001b[0;34m:\u001b[0m\u001b[0;34m\u001b[0m\u001b[0;34m\u001b[0m\u001b[0m\n",
      "\u001b[0;32m~/Software/tser_tools/tshirt/pipeline/phot_pipeline.py\u001b[0m in \u001b[0;36mget_default_im\u001b[0;34m(self, img, head)\u001b[0m\n\u001b[1;32m    222\u001b[0m         \u001b[0;31m## Get the data\u001b[0m\u001b[0;34m\u001b[0m\u001b[0;34m\u001b[0m\u001b[0;34m\u001b[0m\u001b[0m\n\u001b[1;32m    223\u001b[0m         \u001b[0;32mif\u001b[0m \u001b[0mimg\u001b[0m \u001b[0;32mis\u001b[0m \u001b[0;32mNone\u001b[0m\u001b[0;34m:\u001b[0m\u001b[0;34m\u001b[0m\u001b[0;34m\u001b[0m\u001b[0m\n\u001b[0;32m--> 224\u001b[0;31m             \u001b[0mimg\u001b[0m\u001b[0;34m,\u001b[0m \u001b[0mhead\u001b[0m \u001b[0;34m=\u001b[0m \u001b[0mself\u001b[0m\u001b[0;34m.\u001b[0m\u001b[0mgetImg\u001b[0m\u001b[0;34m(\u001b[0m\u001b[0mself\u001b[0m\u001b[0;34m.\u001b[0m\u001b[0mfileL\u001b[0m\u001b[0;34m[\u001b[0m\u001b[0mself\u001b[0m\u001b[0;34m.\u001b[0m\u001b[0mnImg\u001b[0m \u001b[0;34m//\u001b[0m \u001b[0;36m2\u001b[0m\u001b[0;34m]\u001b[0m\u001b[0;34m)\u001b[0m\u001b[0;34m\u001b[0m\u001b[0;34m\u001b[0m\u001b[0m\n\u001b[0m\u001b[1;32m    225\u001b[0m \u001b[0;34m\u001b[0m\u001b[0m\n\u001b[1;32m    226\u001b[0m         \u001b[0;32mreturn\u001b[0m \u001b[0mimg\u001b[0m\u001b[0;34m,\u001b[0m \u001b[0mhead\u001b[0m\u001b[0;34m\u001b[0m\u001b[0;34m\u001b[0m\u001b[0m\n",
      "\u001b[0;32m~/Software/tser_tools/tshirt/pipeline/phot_pipeline.py\u001b[0m in \u001b[0;36mgetImg\u001b[0;34m(self, path)\u001b[0m\n\u001b[1;32m   1456\u001b[0m         \u001b[0mext\u001b[0m \u001b[0;34m=\u001b[0m \u001b[0mself\u001b[0m\u001b[0;34m.\u001b[0m\u001b[0mparam\u001b[0m\u001b[0;34m[\u001b[0m\u001b[0;34m'FITSextension'\u001b[0m\u001b[0;34m]\u001b[0m\u001b[0;34m\u001b[0m\u001b[0;34m\u001b[0m\u001b[0m\n\u001b[1;32m   1457\u001b[0m         \u001b[0mheadExtension\u001b[0m \u001b[0;34m=\u001b[0m \u001b[0mself\u001b[0m\u001b[0;34m.\u001b[0m\u001b[0mparam\u001b[0m\u001b[0;34m[\u001b[0m\u001b[0;34m'HEADextension'\u001b[0m\u001b[0;34m]\u001b[0m\u001b[0;34m\u001b[0m\u001b[0;34m\u001b[0m\u001b[0m\n\u001b[0;32m-> 1458\u001b[0;31m         \u001b[0mHDUList\u001b[0m \u001b[0;34m=\u001b[0m \u001b[0mfits\u001b[0m\u001b[0;34m.\u001b[0m\u001b[0mopen\u001b[0m\u001b[0;34m(\u001b[0m\u001b[0mpath\u001b[0m\u001b[0;34m)\u001b[0m\u001b[0;34m\u001b[0m\u001b[0;34m\u001b[0m\u001b[0m\n\u001b[0m\u001b[1;32m   1459\u001b[0m         \u001b[0mdata\u001b[0m \u001b[0;34m=\u001b[0m \u001b[0mHDUList\u001b[0m\u001b[0;34m[\u001b[0m\u001b[0mext\u001b[0m\u001b[0;34m]\u001b[0m\u001b[0;34m.\u001b[0m\u001b[0mdata\u001b[0m\u001b[0;34m\u001b[0m\u001b[0;34m\u001b[0m\u001b[0m\n\u001b[1;32m   1460\u001b[0m         \u001b[0;32mif\u001b[0m \u001b[0mself\u001b[0m\u001b[0;34m.\u001b[0m\u001b[0mparam\u001b[0m\u001b[0;34m[\u001b[0m\u001b[0;34m'isCube'\u001b[0m\u001b[0;34m]\u001b[0m \u001b[0;34m==\u001b[0m \u001b[0;32mTrue\u001b[0m\u001b[0;34m:\u001b[0m\u001b[0;34m\u001b[0m\u001b[0;34m\u001b[0m\u001b[0m\n",
      "\u001b[0;32m~/miniconda3/envs/astroconda/lib/python3.6/site-packages/astropy/io/fits/hdu/hdulist.py\u001b[0m in \u001b[0;36mfitsopen\u001b[0;34m(name, mode, memmap, save_backup, cache, lazy_load_hdus, **kwargs)\u001b[0m\n\u001b[1;32m    163\u001b[0m \u001b[0;34m\u001b[0m\u001b[0m\n\u001b[1;32m    164\u001b[0m     return HDUList.fromfile(name, mode, memmap, save_backup, cache,\n\u001b[0;32m--> 165\u001b[0;31m                             lazy_load_hdus, **kwargs)\n\u001b[0m\u001b[1;32m    166\u001b[0m \u001b[0;34m\u001b[0m\u001b[0m\n\u001b[1;32m    167\u001b[0m \u001b[0;34m\u001b[0m\u001b[0m\n",
      "\u001b[0;32m~/miniconda3/envs/astroconda/lib/python3.6/site-packages/astropy/io/fits/hdu/hdulist.py\u001b[0m in \u001b[0;36mfromfile\u001b[0;34m(cls, fileobj, mode, memmap, save_backup, cache, lazy_load_hdus, **kwargs)\u001b[0m\n\u001b[1;32m    403\u001b[0m         return cls._readfrom(fileobj=fileobj, mode=mode, memmap=memmap,\n\u001b[1;32m    404\u001b[0m                              \u001b[0msave_backup\u001b[0m\u001b[0;34m=\u001b[0m\u001b[0msave_backup\u001b[0m\u001b[0;34m,\u001b[0m \u001b[0mcache\u001b[0m\u001b[0;34m=\u001b[0m\u001b[0mcache\u001b[0m\u001b[0;34m,\u001b[0m\u001b[0;34m\u001b[0m\u001b[0;34m\u001b[0m\u001b[0m\n\u001b[0;32m--> 405\u001b[0;31m                              lazy_load_hdus=lazy_load_hdus, **kwargs)\n\u001b[0m\u001b[1;32m    406\u001b[0m \u001b[0;34m\u001b[0m\u001b[0m\n\u001b[1;32m    407\u001b[0m     \u001b[0;34m@\u001b[0m\u001b[0mclassmethod\u001b[0m\u001b[0;34m\u001b[0m\u001b[0;34m\u001b[0m\u001b[0m\n",
      "\u001b[0;32m~/miniconda3/envs/astroconda/lib/python3.6/site-packages/astropy/io/fits/hdu/hdulist.py\u001b[0m in \u001b[0;36m_readfrom\u001b[0;34m(cls, fileobj, data, mode, memmap, save_backup, cache, lazy_load_hdus, **kwargs)\u001b[0m\n\u001b[1;32m   1052\u001b[0m             \u001b[0;32mif\u001b[0m \u001b[0;32mnot\u001b[0m \u001b[0misinstance\u001b[0m\u001b[0;34m(\u001b[0m\u001b[0mfileobj\u001b[0m\u001b[0;34m,\u001b[0m \u001b[0m_File\u001b[0m\u001b[0;34m)\u001b[0m\u001b[0;34m:\u001b[0m\u001b[0;34m\u001b[0m\u001b[0;34m\u001b[0m\u001b[0m\n\u001b[1;32m   1053\u001b[0m                 \u001b[0;31m# instantiate a FITS file object (ffo)\u001b[0m\u001b[0;34m\u001b[0m\u001b[0;34m\u001b[0m\u001b[0;34m\u001b[0m\u001b[0m\n\u001b[0;32m-> 1054\u001b[0;31m                 \u001b[0mfileobj\u001b[0m \u001b[0;34m=\u001b[0m \u001b[0m_File\u001b[0m\u001b[0;34m(\u001b[0m\u001b[0mfileobj\u001b[0m\u001b[0;34m,\u001b[0m \u001b[0mmode\u001b[0m\u001b[0;34m=\u001b[0m\u001b[0mmode\u001b[0m\u001b[0;34m,\u001b[0m \u001b[0mmemmap\u001b[0m\u001b[0;34m=\u001b[0m\u001b[0mmemmap\u001b[0m\u001b[0;34m,\u001b[0m \u001b[0mcache\u001b[0m\u001b[0;34m=\u001b[0m\u001b[0mcache\u001b[0m\u001b[0;34m)\u001b[0m\u001b[0;34m\u001b[0m\u001b[0;34m\u001b[0m\u001b[0m\n\u001b[0m\u001b[1;32m   1055\u001b[0m             \u001b[0;31m# The Astropy mode is determined by the _File initializer if the\u001b[0m\u001b[0;34m\u001b[0m\u001b[0;34m\u001b[0m\u001b[0;34m\u001b[0m\u001b[0m\n\u001b[1;32m   1056\u001b[0m             \u001b[0;31m# supplied mode was None\u001b[0m\u001b[0;34m\u001b[0m\u001b[0;34m\u001b[0m\u001b[0;34m\u001b[0m\u001b[0m\n",
      "\u001b[0;32m~/miniconda3/envs/astroconda/lib/python3.6/site-packages/astropy/utils/decorators.py\u001b[0m in \u001b[0;36mwrapper\u001b[0;34m(*args, **kwargs)\u001b[0m\n\u001b[1;32m    533\u001b[0m                     \u001b[0mwarnings\u001b[0m\u001b[0;34m.\u001b[0m\u001b[0mwarn\u001b[0m\u001b[0;34m(\u001b[0m\u001b[0mmessage\u001b[0m\u001b[0;34m,\u001b[0m \u001b[0mwarning_type\u001b[0m\u001b[0;34m,\u001b[0m \u001b[0mstacklevel\u001b[0m\u001b[0;34m=\u001b[0m\u001b[0;36m2\u001b[0m\u001b[0;34m)\u001b[0m\u001b[0;34m\u001b[0m\u001b[0;34m\u001b[0m\u001b[0m\n\u001b[1;32m    534\u001b[0m \u001b[0;34m\u001b[0m\u001b[0m\n\u001b[0;32m--> 535\u001b[0;31m             \u001b[0;32mreturn\u001b[0m \u001b[0mfunction\u001b[0m\u001b[0;34m(\u001b[0m\u001b[0;34m*\u001b[0m\u001b[0margs\u001b[0m\u001b[0;34m,\u001b[0m \u001b[0;34m**\u001b[0m\u001b[0mkwargs\u001b[0m\u001b[0;34m)\u001b[0m\u001b[0;34m\u001b[0m\u001b[0;34m\u001b[0m\u001b[0m\n\u001b[0m\u001b[1;32m    536\u001b[0m \u001b[0;34m\u001b[0m\u001b[0m\n\u001b[1;32m    537\u001b[0m         \u001b[0;32mreturn\u001b[0m \u001b[0mwrapper\u001b[0m\u001b[0;34m\u001b[0m\u001b[0;34m\u001b[0m\u001b[0m\n",
      "\u001b[0;32m~/miniconda3/envs/astroconda/lib/python3.6/site-packages/astropy/io/fits/file.py\u001b[0m in \u001b[0;36m__init__\u001b[0;34m(self, fileobj, mode, memmap, overwrite, cache)\u001b[0m\n\u001b[1;32m    191\u001b[0m             \u001b[0mself\u001b[0m\u001b[0;34m.\u001b[0m\u001b[0m_open_fileobj\u001b[0m\u001b[0;34m(\u001b[0m\u001b[0mfileobj\u001b[0m\u001b[0;34m,\u001b[0m \u001b[0mmode\u001b[0m\u001b[0;34m,\u001b[0m \u001b[0moverwrite\u001b[0m\u001b[0;34m)\u001b[0m\u001b[0;34m\u001b[0m\u001b[0;34m\u001b[0m\u001b[0m\n\u001b[1;32m    192\u001b[0m         \u001b[0;32melif\u001b[0m \u001b[0misinstance\u001b[0m\u001b[0;34m(\u001b[0m\u001b[0mfileobj\u001b[0m\u001b[0;34m,\u001b[0m \u001b[0mstr\u001b[0m\u001b[0;34m)\u001b[0m\u001b[0;34m:\u001b[0m\u001b[0;34m\u001b[0m\u001b[0;34m\u001b[0m\u001b[0m\n\u001b[0;32m--> 193\u001b[0;31m             \u001b[0mself\u001b[0m\u001b[0;34m.\u001b[0m\u001b[0m_open_filename\u001b[0m\u001b[0;34m(\u001b[0m\u001b[0mfileobj\u001b[0m\u001b[0;34m,\u001b[0m \u001b[0mmode\u001b[0m\u001b[0;34m,\u001b[0m \u001b[0moverwrite\u001b[0m\u001b[0;34m)\u001b[0m\u001b[0;34m\u001b[0m\u001b[0;34m\u001b[0m\u001b[0m\n\u001b[0m\u001b[1;32m    194\u001b[0m         \u001b[0;32melse\u001b[0m\u001b[0;34m:\u001b[0m\u001b[0;34m\u001b[0m\u001b[0;34m\u001b[0m\u001b[0m\n\u001b[1;32m    195\u001b[0m             \u001b[0mself\u001b[0m\u001b[0;34m.\u001b[0m\u001b[0m_open_filelike\u001b[0m\u001b[0;34m(\u001b[0m\u001b[0mfileobj\u001b[0m\u001b[0;34m,\u001b[0m \u001b[0mmode\u001b[0m\u001b[0;34m,\u001b[0m \u001b[0moverwrite\u001b[0m\u001b[0;34m)\u001b[0m\u001b[0;34m\u001b[0m\u001b[0;34m\u001b[0m\u001b[0m\n",
      "\u001b[0;32m~/miniconda3/envs/astroconda/lib/python3.6/site-packages/astropy/io/fits/file.py\u001b[0m in \u001b[0;36m_open_filename\u001b[0;34m(self, filename, mode, overwrite)\u001b[0m\n\u001b[1;32m    572\u001b[0m \u001b[0;34m\u001b[0m\u001b[0m\n\u001b[1;32m    573\u001b[0m         \u001b[0;32mif\u001b[0m \u001b[0;32mnot\u001b[0m \u001b[0mself\u001b[0m\u001b[0;34m.\u001b[0m\u001b[0m_try_read_compressed\u001b[0m\u001b[0;34m(\u001b[0m\u001b[0mself\u001b[0m\u001b[0;34m.\u001b[0m\u001b[0mname\u001b[0m\u001b[0;34m,\u001b[0m \u001b[0mmagic\u001b[0m\u001b[0;34m,\u001b[0m \u001b[0mmode\u001b[0m\u001b[0;34m,\u001b[0m \u001b[0mext\u001b[0m\u001b[0;34m=\u001b[0m\u001b[0mext\u001b[0m\u001b[0;34m)\u001b[0m\u001b[0;34m:\u001b[0m\u001b[0;34m\u001b[0m\u001b[0;34m\u001b[0m\u001b[0m\n\u001b[0;32m--> 574\u001b[0;31m             \u001b[0mself\u001b[0m\u001b[0;34m.\u001b[0m\u001b[0m_file\u001b[0m \u001b[0;34m=\u001b[0m \u001b[0mfileobj_open\u001b[0m\u001b[0;34m(\u001b[0m\u001b[0mself\u001b[0m\u001b[0;34m.\u001b[0m\u001b[0mname\u001b[0m\u001b[0;34m,\u001b[0m \u001b[0mIO_FITS_MODES\u001b[0m\u001b[0;34m[\u001b[0m\u001b[0mmode\u001b[0m\u001b[0;34m]\u001b[0m\u001b[0;34m)\u001b[0m\u001b[0;34m\u001b[0m\u001b[0;34m\u001b[0m\u001b[0m\n\u001b[0m\u001b[1;32m    575\u001b[0m             \u001b[0mself\u001b[0m\u001b[0;34m.\u001b[0m\u001b[0mclose_on_error\u001b[0m \u001b[0;34m=\u001b[0m \u001b[0;32mTrue\u001b[0m\u001b[0;34m\u001b[0m\u001b[0;34m\u001b[0m\u001b[0m\n\u001b[1;32m    576\u001b[0m \u001b[0;34m\u001b[0m\u001b[0m\n",
      "\u001b[0;32m~/miniconda3/envs/astroconda/lib/python3.6/site-packages/astropy/io/fits/util.py\u001b[0m in \u001b[0;36mfileobj_open\u001b[0;34m(filename, mode)\u001b[0m\n\u001b[1;32m    394\u001b[0m     \"\"\"\n\u001b[1;32m    395\u001b[0m \u001b[0;34m\u001b[0m\u001b[0m\n\u001b[0;32m--> 396\u001b[0;31m     \u001b[0;32mreturn\u001b[0m \u001b[0mopen\u001b[0m\u001b[0;34m(\u001b[0m\u001b[0mfilename\u001b[0m\u001b[0;34m,\u001b[0m \u001b[0mmode\u001b[0m\u001b[0;34m,\u001b[0m \u001b[0mbuffering\u001b[0m\u001b[0;34m=\u001b[0m\u001b[0;36m0\u001b[0m\u001b[0;34m)\u001b[0m\u001b[0;34m\u001b[0m\u001b[0;34m\u001b[0m\u001b[0m\n\u001b[0m\u001b[1;32m    397\u001b[0m \u001b[0;34m\u001b[0m\u001b[0m\n\u001b[1;32m    398\u001b[0m \u001b[0;34m\u001b[0m\u001b[0m\n",
      "\u001b[0;31mFileNotFoundError\u001b[0m: [Errno 2] No such file or directory: '/home/kglidic/Software/tser_tools/tshirt/corot1_visit1/ibh717iuq_flt.fits'"
     ]
    },
    {
     "data": {
      "image/png": "[encoded data removed]",
      "text/plain": [
       "<Figure size 432x288 with 1 Axes>"
      ]
     },
     "metadata": {
      "needs_background": "light"
     },
     "output_type": "display_data"
    }
   ],
   "source": [
    "bspec.batch_run('showStarChoices',vmax=1000,showPlot=True)"
   ]
  },
  {
   "cell_type": "code",
   "execution_count": 6,
   "metadata": {},
   "outputs": [
    {
     "name": "stdout",
     "output_type": "stream",
     "text": [
      "Working on do_extraction for batch CoRoT-1 corot1_visit1 \n",
      "On 0 of 98On 75 of 98\n",
      "On 15 of 98\n",
      "On 30 of 98\n",
      "On 45 of 98\n",
      "On 60 of 98\n",
      "\n",
      "On 90 of 98\n"
     ]
    },
    {
     "ename": "FileNotFoundError",
     "evalue": "[Errno 2] No such file or directory: '/home/kglidic/Software/tser_tools/tshirt/corot1_visit1/ibh717gmq_flt.fits'",
     "output_type": "error",
     "traceback": [
      "\u001b[0;31m---------------------------------------------------------------------------\u001b[0m",
      "\u001b[0;31mRemoteTraceback\u001b[0m                           Traceback (most recent call last)",
      "\u001b[0;31mRemoteTraceback\u001b[0m: \n\"\"\"\nTraceback (most recent call last):\n  File \"/home/kglidic/miniconda3/envs/astroconda/lib/python3.6/multiprocessing/pool.py\", line 119, in worker\n    result = (True, func(*args, **kwds))\n  File \"/home/kglidic/miniconda3/envs/astroconda/lib/python3.6/multiprocessing/pool.py\", line 44, in mapstar\n    return list(map(*args))\n  File \"/home/kglidic/Software/tser_tools/tshirt/pipeline/phot_pipeline.py\", line 53, in run_one_phot_method\n    return photMethod(ind)\n  File \"/home/kglidic/Software/tser_tools/tshirt/pipeline/spec_pipeline.py\", line 741, in spec_for_one_file\n    img, head = self.getImg(oneImgName)\n  File \"/home/kglidic/Software/tser_tools/tshirt/pipeline/phot_pipeline.py\", line 1458, in getImg\n    HDUList = fits.open(path)\n  File \"/home/kglidic/miniconda3/envs/astroconda/lib/python3.6/site-packages/astropy/io/fits/hdu/hdulist.py\", line 165, in fitsopen\n    lazy_load_hdus, **kwargs)\n  File \"/home/kglidic/miniconda3/envs/astroconda/lib/python3.6/site-packages/astropy/io/fits/hdu/hdulist.py\", line 405, in fromfile\n    lazy_load_hdus=lazy_load_hdus, **kwargs)\n  File \"/home/kglidic/miniconda3/envs/astroconda/lib/python3.6/site-packages/astropy/io/fits/hdu/hdulist.py\", line 1054, in _readfrom\n    fileobj = _File(fileobj, mode=mode, memmap=memmap, cache=cache)\n  File \"/home/kglidic/miniconda3/envs/astroconda/lib/python3.6/site-packages/astropy/utils/decorators.py\", line 535, in wrapper\n    return function(*args, **kwargs)\n  File \"/home/kglidic/miniconda3/envs/astroconda/lib/python3.6/site-packages/astropy/io/fits/file.py\", line 193, in __init__\n    self._open_filename(fileobj, mode, overwrite)\n  File \"/home/kglidic/miniconda3/envs/astroconda/lib/python3.6/site-packages/astropy/io/fits/file.py\", line 574, in _open_filename\n    self._file = fileobj_open(self.name, IO_FITS_MODES[mode])\n  File \"/home/kglidic/miniconda3/envs/astroconda/lib/python3.6/site-packages/astropy/io/fits/util.py\", line 396, in fileobj_open\n    return open(filename, mode, buffering=0)\nFileNotFoundError: [Errno 2] No such file or directory: '/home/kglidic/Software/tser_tools/tshirt/corot1_visit1/ibh717gmq_flt.fits'\n\"\"\"",
      "\nThe above exception was the direct cause of the following exception:\n",
      "\u001b[0;31mFileNotFoundError\u001b[0m                         Traceback (most recent call last)",
      "\u001b[0;32m<ipython-input-6-dbd12df00190>\u001b[0m in \u001b[0;36m<module>\u001b[0;34m\u001b[0m\n\u001b[0;32m----> 1\u001b[0;31m \u001b[0mbspec\u001b[0m\u001b[0;34m.\u001b[0m\u001b[0mbatch_run\u001b[0m\u001b[0;34m(\u001b[0m\u001b[0;34m'do_extraction'\u001b[0m\u001b[0;34m,\u001b[0m\u001b[0museMultiprocessing\u001b[0m\u001b[0;34m=\u001b[0m\u001b[0;32mTrue\u001b[0m\u001b[0;34m)\u001b[0m\u001b[0;34m\u001b[0m\u001b[0;34m\u001b[0m\u001b[0m\n\u001b[0m",
      "\u001b[0;32m~/Software/tser_tools/tshirt/pipeline/phot_pipeline.py\u001b[0m in \u001b[0;36mbatch_run\u001b[0;34m(self, method, **kwargs)\u001b[0m\n\u001b[1;32m   1621\u001b[0m                                                          thisPhot.dataFileDescrip))\n\u001b[1;32m   1622\u001b[0m             \u001b[0mphotMethod\u001b[0m \u001b[0;34m=\u001b[0m \u001b[0mgetattr\u001b[0m\u001b[0;34m(\u001b[0m\u001b[0mthisPhot\u001b[0m\u001b[0;34m,\u001b[0m\u001b[0mmethod\u001b[0m\u001b[0;34m)\u001b[0m\u001b[0;34m\u001b[0m\u001b[0;34m\u001b[0m\u001b[0m\n\u001b[0;32m-> 1623\u001b[0;31m             \u001b[0mresult\u001b[0m \u001b[0;34m=\u001b[0m \u001b[0mphotMethod\u001b[0m\u001b[0;34m(\u001b[0m\u001b[0;34m**\u001b[0m\u001b[0mkwargs\u001b[0m\u001b[0;34m)\u001b[0m\u001b[0;34m\u001b[0m\u001b[0;34m\u001b[0m\u001b[0m\n\u001b[0m\u001b[1;32m   1624\u001b[0m             \u001b[0mbatch_result\u001b[0m\u001b[0;34m.\u001b[0m\u001b[0mappend\u001b[0m\u001b[0;34m(\u001b[0m\u001b[0mresult\u001b[0m\u001b[0;34m)\u001b[0m\u001b[0;34m\u001b[0m\u001b[0;34m\u001b[0m\u001b[0m\n\u001b[1;32m   1625\u001b[0m         \u001b[0;32mif\u001b[0m \u001b[0mall\u001b[0m\u001b[0;34m(\u001b[0m\u001b[0mv\u001b[0m \u001b[0;32mis\u001b[0m \u001b[0;32mNone\u001b[0m \u001b[0;32mfor\u001b[0m \u001b[0mv\u001b[0m \u001b[0;32min\u001b[0m \u001b[0mbatch_result\u001b[0m\u001b[0;34m)\u001b[0m\u001b[0;34m:\u001b[0m\u001b[0;34m\u001b[0m\u001b[0;34m\u001b[0m\u001b[0m\n",
      "\u001b[0;32m~/Software/tser_tools/tshirt/pipeline/spec_pipeline.py\u001b[0m in \u001b[0;36mdo_extraction\u001b[0;34m(self, useMultiprocessing)\u001b[0m\n\u001b[1;32m    217\u001b[0m \u001b[0;34m\u001b[0m\u001b[0m\n\u001b[1;32m    218\u001b[0m         \u001b[0;32mif\u001b[0m \u001b[0museMultiprocessing\u001b[0m \u001b[0;34m==\u001b[0m \u001b[0;32mTrue\u001b[0m\u001b[0;34m:\u001b[0m\u001b[0;34m\u001b[0m\u001b[0;34m\u001b[0m\u001b[0m\n\u001b[0;32m--> 219\u001b[0;31m             \u001b[0moutputSpec\u001b[0m \u001b[0;34m=\u001b[0m \u001b[0mphot_pipeline\u001b[0m\u001b[0;34m.\u001b[0m\u001b[0mrun_multiprocessing_phot\u001b[0m\u001b[0;34m(\u001b[0m\u001b[0mself\u001b[0m\u001b[0;34m,\u001b[0m\u001b[0mfileCountArray\u001b[0m\u001b[0;34m,\u001b[0m\u001b[0mmethod\u001b[0m\u001b[0;34m=\u001b[0m\u001b[0;34m'spec_for_one_file'\u001b[0m\u001b[0;34m)\u001b[0m\u001b[0;34m\u001b[0m\u001b[0;34m\u001b[0m\u001b[0m\n\u001b[0m\u001b[1;32m    220\u001b[0m         \u001b[0;32melse\u001b[0m\u001b[0;34m:\u001b[0m\u001b[0;34m\u001b[0m\u001b[0;34m\u001b[0m\u001b[0m\n\u001b[1;32m    221\u001b[0m             \u001b[0moutputSpec\u001b[0m \u001b[0;34m=\u001b[0m \u001b[0;34m[\u001b[0m\u001b[0;34m]\u001b[0m\u001b[0;34m\u001b[0m\u001b[0;34m\u001b[0m\u001b[0m\n",
      "\u001b[0;32m~/Software/tser_tools/tshirt/pipeline/phot_pipeline.py\u001b[0m in \u001b[0;36mrun_multiprocessing_phot\u001b[0;34m(photObj, fileIndices, method)\u001b[0m\n\u001b[1;32m     76\u001b[0m     \u001b[0mp\u001b[0m \u001b[0;34m=\u001b[0m \u001b[0mPool\u001b[0m\u001b[0;34m(\u001b[0m\u001b[0mmaxCPUs\u001b[0m\u001b[0;34m)\u001b[0m\u001b[0;34m\u001b[0m\u001b[0;34m\u001b[0m\u001b[0m\n\u001b[1;32m     77\u001b[0m \u001b[0;34m\u001b[0m\u001b[0m\n\u001b[0;32m---> 78\u001b[0;31m     \u001b[0moutputDat\u001b[0m \u001b[0;34m=\u001b[0m \u001b[0mp\u001b[0m\u001b[0;34m.\u001b[0m\u001b[0mmap\u001b[0m\u001b[0;34m(\u001b[0m\u001b[0mrun_one_phot_method\u001b[0m\u001b[0;34m,\u001b[0m\u001b[0mallInput\u001b[0m\u001b[0;34m)\u001b[0m\u001b[0;34m\u001b[0m\u001b[0;34m\u001b[0m\u001b[0m\n\u001b[0m\u001b[1;32m     79\u001b[0m     \u001b[0mp\u001b[0m\u001b[0;34m.\u001b[0m\u001b[0mclose\u001b[0m\u001b[0;34m(\u001b[0m\u001b[0;34m)\u001b[0m\u001b[0;34m\u001b[0m\u001b[0;34m\u001b[0m\u001b[0m\n\u001b[1;32m     80\u001b[0m     \u001b[0;32mreturn\u001b[0m \u001b[0moutputDat\u001b[0m\u001b[0;34m\u001b[0m\u001b[0;34m\u001b[0m\u001b[0m\n",
      "\u001b[0;32m~/miniconda3/envs/astroconda/lib/python3.6/multiprocessing/pool.py\u001b[0m in \u001b[0;36mmap\u001b[0;34m(self, func, iterable, chunksize)\u001b[0m\n\u001b[1;32m    264\u001b[0m         \u001b[0;32min\u001b[0m \u001b[0ma\u001b[0m \u001b[0mlist\u001b[0m \u001b[0mthat\u001b[0m \u001b[0;32mis\u001b[0m \u001b[0mreturned\u001b[0m\u001b[0;34m.\u001b[0m\u001b[0;34m\u001b[0m\u001b[0;34m\u001b[0m\u001b[0m\n\u001b[1;32m    265\u001b[0m         '''\n\u001b[0;32m--> 266\u001b[0;31m         \u001b[0;32mreturn\u001b[0m \u001b[0mself\u001b[0m\u001b[0;34m.\u001b[0m\u001b[0m_map_async\u001b[0m\u001b[0;34m(\u001b[0m\u001b[0mfunc\u001b[0m\u001b[0;34m,\u001b[0m \u001b[0miterable\u001b[0m\u001b[0;34m,\u001b[0m \u001b[0mmapstar\u001b[0m\u001b[0;34m,\u001b[0m \u001b[0mchunksize\u001b[0m\u001b[0;34m)\u001b[0m\u001b[0;34m.\u001b[0m\u001b[0mget\u001b[0m\u001b[0;34m(\u001b[0m\u001b[0;34m)\u001b[0m\u001b[0;34m\u001b[0m\u001b[0;34m\u001b[0m\u001b[0m\n\u001b[0m\u001b[1;32m    267\u001b[0m \u001b[0;34m\u001b[0m\u001b[0m\n\u001b[1;32m    268\u001b[0m     \u001b[0;32mdef\u001b[0m \u001b[0mstarmap\u001b[0m\u001b[0;34m(\u001b[0m\u001b[0mself\u001b[0m\u001b[0;34m,\u001b[0m \u001b[0mfunc\u001b[0m\u001b[0;34m,\u001b[0m \u001b[0miterable\u001b[0m\u001b[0;34m,\u001b[0m \u001b[0mchunksize\u001b[0m\u001b[0;34m=\u001b[0m\u001b[0;32mNone\u001b[0m\u001b[0;34m)\u001b[0m\u001b[0;34m:\u001b[0m\u001b[0;34m\u001b[0m\u001b[0;34m\u001b[0m\u001b[0m\n",
      "\u001b[0;32m~/miniconda3/envs/astroconda/lib/python3.6/multiprocessing/pool.py\u001b[0m in \u001b[0;36mget\u001b[0;34m(self, timeout)\u001b[0m\n\u001b[1;32m    642\u001b[0m             \u001b[0;32mreturn\u001b[0m \u001b[0mself\u001b[0m\u001b[0;34m.\u001b[0m\u001b[0m_value\u001b[0m\u001b[0;34m\u001b[0m\u001b[0;34m\u001b[0m\u001b[0m\n\u001b[1;32m    643\u001b[0m         \u001b[0;32melse\u001b[0m\u001b[0;34m:\u001b[0m\u001b[0;34m\u001b[0m\u001b[0;34m\u001b[0m\u001b[0m\n\u001b[0;32m--> 644\u001b[0;31m             \u001b[0;32mraise\u001b[0m \u001b[0mself\u001b[0m\u001b[0;34m.\u001b[0m\u001b[0m_value\u001b[0m\u001b[0;34m\u001b[0m\u001b[0;34m\u001b[0m\u001b[0m\n\u001b[0m\u001b[1;32m    645\u001b[0m \u001b[0;34m\u001b[0m\u001b[0m\n\u001b[1;32m    646\u001b[0m     \u001b[0;32mdef\u001b[0m \u001b[0m_set\u001b[0m\u001b[0;34m(\u001b[0m\u001b[0mself\u001b[0m\u001b[0;34m,\u001b[0m \u001b[0mi\u001b[0m\u001b[0;34m,\u001b[0m \u001b[0mobj\u001b[0m\u001b[0;34m)\u001b[0m\u001b[0;34m:\u001b[0m\u001b[0;34m\u001b[0m\u001b[0;34m\u001b[0m\u001b[0m\n",
      "\u001b[0;31mFileNotFoundError\u001b[0m: [Errno 2] No such file or directory: '/home/kglidic/Software/tser_tools/tshirt/corot1_visit1/ibh717gmq_flt.fits'"
     ]
    }
   ],
   "source": [
    "bspec.batch_run('do_extraction',useMultiprocessing=True)"
   ]
  },
  {
   "cell_type": "code",
   "execution_count": 11,
   "metadata": {
    "scrolled": true
   },
   "outputs": [
    {
     "name": "stdout",
     "output_type": "stream",
     "text": [
      "Working on plot_one_spec for batch CoRoT-1 corot1_visit1 \n"
     ]
    },
    {
     "data": {
      "image/png": "[encoded data removed]",
      "text/plain": [
       "<Figure size 432x288 with 1 Axes>"
      ]
     },
     "metadata": {
      "needs_background": "light"
     },
     "output_type": "display_data"
    },
    {
     "name": "stdout",
     "output_type": "stream",
     "text": [
      "Working on plot_one_spec for batch CoRoT-1 corot1_visit2 \n"
     ]
    },
    {
     "data": {
      "image/png": "[encoded data removed]",
      "text/plain": [
       "<Figure size 432x288 with 1 Axes>"
      ]
     },
     "metadata": {
      "needs_background": "light"
     },
     "output_type": "display_data"
    },
    {
     "name": "stdout",
     "output_type": "stream",
     "text": [
      "Working on plot_one_spec for batch CoRoT-1 corot1_visit3 \n"
     ]
    },
    {
     "data": {
      "image/png": "[encoded data removed]",
      "text/plain": [
       "<Figure size 432x288 with 1 Axes>"
      ]
     },
     "metadata": {
      "needs_background": "light"
     },
     "output_type": "display_data"
    },
    {
     "name": "stdout",
     "output_type": "stream",
     "text": [
      "Working on plot_one_spec for batch CoRoT-1 corot1_visit4 \n"
     ]
    },
    {
     "data": {
      "image/png": "[encoded data removed]",
      "text/plain": [
       "<Figure size 432x288 with 1 Axes>"
      ]
     },
     "metadata": {
      "needs_background": "light"
     },
     "output_type": "display_data"
    }
   ],
   "source": [
    "bspec.batch_run('plot_one_spec')"
   ]
  },
  {
   "cell_type": "code",
   "execution_count": 12,
   "metadata": {
    "scrolled": false
   },
   "outputs": [
    {
     "name": "stdout",
     "output_type": "stream",
     "text": [
      "Working on plot_wavebin_series for batch CoRoT-1 corot1_visit1 \n"
     ]
    },
    {
     "data": {
      "text/html": [
       "\n",
       "\n",
       "\n",
       "\n",
       "\n",
       "\n",
       "  <div class=\"bk-root\" id=\"0cd68da0-7d47-427e-9979-67d720e96bfe\" data-root-id=\"1003\"></div>\n"
      ]
     },
     "metadata": {},
     "output_type": "display_data"
    },
    {
     "data": {
      "application/javascript": [
       "(function(root) {\n",
       "  function embed_document(root) {\n",
       "    \n",
       "  var docs_json = {\"19c3c7d6-04e1-4254-b7b0-640d83f8a9f2\":{\"roots\":{\"references\":[{\"attributes\":{\"background_fill_color\":\"#f5f5f5\",\"below\":[{\"id\":\"1012\"}],\"center\":[{\"id\":\"1015\"},{\"id\":\"1019\"}],\"left\":[{\"id\":\"1016\"}],\"renderers\":[{\"id\":\"1037\"}],\"title\":{\"id\":\"1041\"},\"toolbar\":{\"id\":\"1027\"},\"x_range\":{\"id\":\"1004\"},\"x_scale\":{\"id\":\"1008\"},\"y_range\":{\"id\":\"1006\"},\"y_scale\":{\"id\":\"1010\"}},\"id\":\"1003\",\"subtype\":\"Figure\",\"type\":\"Plot\"},{\"attributes\":{},\"id\":\"1023\",\"type\":\"SaveTool\"},{\"attributes\":{\"fill_color\":{\"value\":\"#1b9e77\"},\"line_color\":{\"value\":\"#1b9e77\"},\"x\":{\"field\":\"t\"},\"y\":{\"field\":\"y00\"}},\"id\":\"1035\",\"type\":\"Circle\"},{\"attributes\":{\"active_drag\":\"auto\",\"active_inspect\":\"auto\",\"active_multi\":null,\"active_scroll\":\"auto\",\"active_tap\":\"auto\",\"tools\":[{\"id\":\"1020\"},{\"id\":\"1021\"},{\"id\":\"1022\"},{\"id\":\"1023\"},{\"id\":\"1024\"},{\"id\":\"1025\"},{\"id\":\"1039\"}]},\"id\":\"1027\",\"type\":\"Toolbar\"},{\"attributes\":{},\"id\":\"1043\",\"type\":\"BasicTickFormatter\"},{\"attributes\":{},\"id\":\"1045\",\"type\":\"BasicTickFormatter\"},{\"attributes\":{},\"id\":\"1048\",\"type\":\"UnionRenderers\"},{\"attributes\":{},\"id\":\"1006\",\"type\":\"DataRange1d\"},{\"attributes\":{\"text\":\"\"},\"id\":\"1041\",\"type\":\"Title\"},{\"attributes\":{},\"id\":\"1024\",\"type\":\"ResetTool\"},{\"attributes\":{\"source\":{\"id\":\"1002\"}},\"id\":\"1038\",\"type\":\"CDSView\"},{\"attributes\":{\"formatter\":{\"id\":\"1043\"},\"ticker\":{\"id\":\"1013\"}},\"id\":\"1012\",\"type\":\"LinearAxis\"},{\"attributes\":{},\"id\":\"1021\",\"type\":\"WheelZoomTool\"},{\"attributes\":{},\"id\":\"1047\",\"type\":\"Selection\"},{\"attributes\":{},\"id\":\"1008\",\"type\":\"LinearScale\"},{\"attributes\":{},\"id\":\"1020\",\"type\":\"PanTool\"},{\"attributes\":{\"overlay\":{\"id\":\"1026\"}},\"id\":\"1022\",\"type\":\"BoxZoomTool\"},{\"attributes\":{\"callback\":null,\"tooltips\":[[\"name\",\"@name\"],[\"index\",\"@ind\"]]},\"id\":\"1039\",\"type\":\"HoverTool\"},{\"attributes\":{\"data\":{\"ind\":[0,1,2,3,4,5,6,7,8,9,10,11,12,13,14,15,16,17,18,19,20,21,22,23,24,25,26,27,28,29,30,31,32,33,34,35,36,37,38,39,40,41,42,43,44,45,46,47,48,49,50,51,52,53,54,55,56,57,58,59,60,61,62,63,64,65,66,67,68,69,70,71,72,73,74,75,76,77,78,79,80,81,82,83,84,85,86,87,88,89,90,91,92,93,94,95,96,97],\"name\":[\"ibh717gjq_flt.fits\",\"ibh717gkq_flt.fits\",\"ibh717glq_flt.fits\",\"ibh717gmq_flt.fits\",\"ibh717gnq_flt.fits\",\"ibh717goq_flt.fits\",\"ibh717gpq_flt.fits\",\"ibh717gqq_flt.fits\",\"ibh717grq_flt.fits\",\"ibh717gsq_flt.fits\",\"ibh717gtq_flt.fits\",\"ibh717guq_flt.fits\",\"ibh717gwq_flt.fits\",\"ibh717gxq_flt.fits\",\"ibh717gyq_flt.fits\",\"ibh717gzq_flt.fits\",\"ibh717h0q_flt.fits\",\"ibh717h1q_flt.fits\",\"ibh717h2q_flt.fits\",\"ibh717h3q_flt.fits\",\"ibh717h4q_flt.fits\",\"ibh717h5q_flt.fits\",\"ibh717h6q_flt.fits\",\"ibh717hrq_flt.fits\",\"ibh717htq_flt.fits\",\"ibh717huq_flt.fits\",\"ibh717hvq_flt.fits\",\"ibh717hwq_flt.fits\",\"ibh717hxq_flt.fits\",\"ibh717hyq_flt.fits\",\"ibh717hzq_flt.fits\",\"ibh717i0q_flt.fits\",\"ibh717i1q_flt.fits\",\"ibh717i2q_flt.fits\",\"ibh717i3q_flt.fits\",\"ibh717i4q_flt.fits\",\"ibh717i6q_flt.fits\",\"ibh717i7q_flt.fits\",\"ibh717i8q_flt.fits\",\"ibh717i9q_flt.fits\",\"ibh717iaq_flt.fits\",\"ibh717ibq_flt.fits\",\"ibh717icq_flt.fits\",\"ibh717idq_flt.fits\",\"ibh717ieq_flt.fits\",\"ibh717ifq_flt.fits\",\"ibh717igq_flt.fits\",\"ibh717ihq_flt.fits\",\"ibh717itq_flt.fits\",\"ibh717iuq_flt.fits\",\"ibh717ivq_flt.fits\",\"ibh717iwq_flt.fits\",\"ibh717ixq_flt.fits\",\"ibh717iyq_flt.fits\",\"ibh717izq_flt.fits\",\"ibh717j0q_flt.fits\",\"ibh717j1q_flt.fits\",\"ibh717j2q_flt.fits\",\"ibh717j3q_flt.fits\",\"ibh717j4q_flt.fits\",\"ibh717j6q_flt.fits\",\"ibh717j7q_flt.fits\",\"ibh717j8q_flt.fits\",\"ibh717j9q_flt.fits\",\"ibh717jaq_flt.fits\",\"ibh717jbq_flt.fits\",\"ibh717jcq_flt.fits\",\"ibh717jdq_flt.fits\",\"ibh717jeq_flt.fits\",\"ibh717jfq_flt.fits\",\"ibh717jgq_flt.fits\",\"ibh717jhq_flt.fits\",\"ibh717jjq_flt.fits\",\"ibh717k0q_flt.fits\",\"ibh717k1q_flt.fits\",\"ibh717k2q_flt.fits\",\"ibh717k3q_flt.fits\",\"ibh717k4q_flt.fits\",\"ibh717k5q_flt.fits\",\"ibh717k6q_flt.fits\",\"ibh717k7q_flt.fits\",\"ibh717k8q_flt.fits\",\"ibh717k9q_flt.fits\",\"ibh717kaq_flt.fits\",\"ibh717kcq_flt.fits\",\"ibh717kdq_flt.fits\",\"ibh717keq_flt.fits\",\"ibh717kfq_flt.fits\",\"ibh717kgq_flt.fits\",\"ibh717khq_flt.fits\",\"ibh717kiq_flt.fits\",\"ibh717kjq_flt.fits\",\"ibh717kkq_flt.fits\",\"ibh717klq_flt.fits\",\"ibh717kmq_flt.fits\",\"ibh717knq_flt.fits\",\"ibh717koq_flt.fits\",\"ibh717kpq_flt.fits\"],\"t\":{\"__ndarray__\":\"AACAhsoO2j8AAABnWyXaPwAAgEfsO9o/AAAAKH1S2j8AAIAIDmnaPwAAAOmef9o/AACAyS+W2j8AAACqwKzaPwAAgIpRw9o/AAAAa+LZ2j8AAIBLc/DaPwAAACwEB9s/AACADJUd2z8AAADtJTTbPwAAgM22Sts/AAAArkdh2z8AAICO2HfbPwAAAG9pjts/AACAT/qk2z8AAAAwi7vbPwAAgBAc0ts/AAAA8azo2z8AAIDRPf/bPwAAAArXI94/AAAA62c63j8AAIDL+FDePwAAAKyJZ94/AACAjBp+3j8AAABtq5TePwAAgE08q94/AAAALs3B3j8AAIAOXtjePwAAAO/u7t4/AACAz38F3z8AAACwEBzfPwAAgJChMt8/AAAAcTJJ3z8AAIBRw1/fPwAAADJUdt8/AACAEuWM3z8AAADzdaPfPwAAgNMGut8/AAAAtJfQ3z8AAICUKOffPwAAAHW5/d8/AADAKiUK4D8AAACbbRXgPwAAgAu2IOA/AADAYeoy4T8AAADSMj7hPwAAQEJ7SeE/AADAssNU4T8AAAAjDGDhPwAAQJNUa+E/AACAA5124T8AAMBz5YHhPwAAAOQtjeE/AABAVHaY4T8AAIDEvqPhPwAAwDQHr+E/AAAApU+64T8AAEAVmMXhPwAAgIXg0OE/AADA9Sjc4T8AAABmcefhPwAAQNa58uE/AACARgL+4T8AAMC2SgniPwAAACeTFOI/AABAl9sf4j8AAIAHJCviPwAAwHdsNuI/AAAA6LRB4j8AAECEAVTjPwAAgPRJX+M/AAAAZZJq4z8AAEDV2nXjPwAAgEUjgeM/AADAtWuM4z8AAAAmtJfjPwAAQJb8ouM/AACABkWu4z8AAMB2jbnjPwAAAOfVxOM/AABAVx7Q4z8AAIDHZtvjPwAAwDev5uM/AAAAqPfx4z8AAEAYQP3jPwAAgIiICOQ/AADA+NAT5D8AAABpGR/kPwAAQNlhKuQ/AACASao15D8AAMC58kDkPwAAACo7TOQ/AABAmoNX5D8AAIAKzGLkPw==\",\"dtype\":\"float64\",\"order\":\"little\",\"shape\":[98]},\"y00\":{\"__ndarray__\":\"7n7r65217z98ejRbu+DvP2SinSHw7O8/9a7Mnf/07z+bxb/IegDwP2bZYyMOA/A/iRh7+JgD8D8ya7aI3gXwP1s57QCpBfA/tS4jMx0F8D+jyFJFrgXwP2C/AptwCfA/jb82p1oJ8D8MbYf+yQnwP4ovr8lVCvA/CVzC1cYK8D8mhk7skArwP3XtyvKpC/A/MlANHH0L8D+HDiW3dQ7wP55vEGq5DPA/22Ngq88M8D+dXXyWxw3wP5xv0mYW/+8/PiW0s+0I8D/0k1HAUgfwP1tkFF2rCvA/SsuMmJcK8D9X8TXkgAvwPy0n5eR2C/A/hArnwcUM8D8anwiyMQ7wP/jlSrseDPA/xqOdze0M8D9jop+DHAzwPwzD5ZApDvA/RByTgcgL8D8mjAjsZQzwPx8mVwuzD/A/V9lJYp4P8D9TbWXZDw/wP5PtJDLrD/A/u/9pem4Q8D9VNik8Hg/wPyVIkG7mDfA/HB6qLxgR8D8mk3mYBhDwPwmFqC0XEPA/MsiWzHQA8D/p9s/mUQnwP20WcDvvCvA/DzZFJXoM8D9acooiHQjwP9LDvq6SA/A/yZJH0kz27z8FzOOsQ+nvPzVtGLvV2e8/gwFcU0LK7z+4ftSm37nvP1wsng9Oqu8/x3gtKbea7z+KWYA/RIrvPz6t3P6uh+8/80XzziWF7z+KR7MjM4DvPyspXWvHgO8/eEpimsF/7z+NbVMIhX3vP4ljFVvafe8/fXg+cLJ77z9tdesD53rvP2Aq500gfO8/4c4k5Ut77z9f4KiAfVvvP2X2saOqa+8/Qsuk0Cpz7z/RdLvsTnLvPySE0oIWde8/eGjgfs107z8Zr/C5qXDvP7tsJYE/ee8/gfmr0Vd47z/WJ3RFuXnvP+kP93zGdO8/e4/m2/h97z+aHcyh/HzvP8IdEm0BfO8/ZAzYjcqA7z9vnJ0B74HvP/o4OyOnhO8/itMvIU2F7z9W7edxtIXvP9dBQ6Hlhe8/njlFJo6S7z9ODb2v56LvP4BGmmQktu8/kUjZd9rA7z9bfhwjmtbvPw==\",\"dtype\":\"float64\",\"order\":\"little\",\"shape\":[98]}},\"selected\":{\"id\":\"1047\"},\"selection_policy\":{\"id\":\"1048\"}},\"id\":\"1002\",\"type\":\"ColumnDataSource\"},{\"attributes\":{\"bottom_units\":\"screen\",\"fill_alpha\":0.5,\"fill_color\":\"lightgrey\",\"left_units\":\"screen\",\"level\":\"overlay\",\"line_alpha\":1.0,\"line_color\":\"black\",\"line_dash\":[4,4],\"line_width\":2,\"right_units\":\"screen\",\"top_units\":\"screen\"},\"id\":\"1026\",\"type\":\"BoxAnnotation\"},{\"attributes\":{\"data_source\":{\"id\":\"1002\"},\"glyph\":{\"id\":\"1035\"},\"hover_glyph\":null,\"muted_glyph\":null,\"nonselection_glyph\":{\"id\":\"1036\"},\"selection_glyph\":null,\"view\":{\"id\":\"1038\"}},\"id\":\"1037\",\"type\":\"GlyphRenderer\"},{\"attributes\":{},\"id\":\"1010\",\"type\":\"LinearScale\"},{\"attributes\":{},\"id\":\"1017\",\"type\":\"BasicTicker\"},{\"attributes\":{\"axis\":{\"id\":\"1016\"},\"dimension\":1,\"grid_line_color\":\"white\",\"ticker\":null},\"id\":\"1019\",\"type\":\"Grid\"},{\"attributes\":{},\"id\":\"1013\",\"type\":\"BasicTicker\"},{\"attributes\":{\"axis\":{\"id\":\"1012\"},\"grid_line_color\":\"white\",\"ticker\":null},\"id\":\"1015\",\"type\":\"Grid\"},{\"attributes\":{\"fill_alpha\":{\"value\":0.1},\"fill_color\":{\"value\":\"#1b9e77\"},\"line_alpha\":{\"value\":0.1},\"line_color\":{\"value\":\"#1b9e77\"},\"x\":{\"field\":\"t\"},\"y\":{\"field\":\"y00\"}},\"id\":\"1036\",\"type\":\"Circle\"},{\"attributes\":{},\"id\":\"1025\",\"type\":\"HelpTool\"},{\"attributes\":{\"formatter\":{\"id\":\"1045\"},\"ticker\":{\"id\":\"1017\"}},\"id\":\"1016\",\"type\":\"LinearAxis\"},{\"attributes\":{},\"id\":\"1004\",\"type\":\"DataRange1d\"}],\"root_ids\":[\"1003\"]},\"title\":\"Bokeh Application\",\"version\":\"2.1.0\"}};\n",
       "  var render_items = [{\"docid\":\"19c3c7d6-04e1-4254-b7b0-640d83f8a9f2\",\"root_ids\":[\"1003\"],\"roots\":{\"1003\":\"0cd68da0-7d47-427e-9979-67d720e96bfe\"}}];\n",
       "  root.Bokeh.embed.embed_items_notebook(docs_json, render_items);\n",
       "\n",
       "  }\n",
       "  if (root.Bokeh !== undefined) {\n",
       "    embed_document(root);\n",
       "  } else {\n",
       "    var attempts = 0;\n",
       "    var timer = setInterval(function(root) {\n",
       "      if (root.Bokeh !== undefined) {\n",
       "        clearInterval(timer);\n",
       "        embed_document(root);\n",
       "      } else {\n",
       "        attempts++;\n",
       "        if (attempts > 100) {\n",
       "          clearInterval(timer);\n",
       "          console.log(\"Bokeh: ERROR: Unable to run BokehJS code because BokehJS library is missing\");\n",
       "        }\n",
       "      }\n",
       "    }, 10, root)\n",
       "  }\n",
       "})(window);"
      ],
      "application/vnd.bokehjs_exec.v0+json": ""
     },
     "metadata": {
      "application/vnd.bokehjs_exec.v0+json": {
       "id": "1003"
      }
     },
     "output_type": "display_data"
    },
    {
     "name": "stdout",
     "output_type": "stream",
     "text": [
      "Working on plot_wavebin_series for batch CoRoT-1 corot1_visit2 \n"
     ]
    },
    {
     "data": {
      "text/html": [
       "\n",
       "\n",
       "\n",
       "\n",
       "\n",
       "\n",
       "  <div class=\"bk-root\" id=\"a6ed12ed-ce4a-4947-b533-a44cd99d2b45\" data-root-id=\"1205\"></div>\n"
      ]
     },
     "metadata": {},
     "output_type": "display_data"
    },
    {
     "data": {
      "application/javascript": [
       "(function(root) {\n",
       "  function embed_document(root) {\n",
       "    \n",
       "  var docs_json = {\"2aed04c6-c313-4a25-b25b-cdf47770fd17\":{\"roots\":{\"references\":[{\"attributes\":{\"background_fill_color\":\"#f5f5f5\",\"below\":[{\"id\":\"1214\"}],\"center\":[{\"id\":\"1217\"},{\"id\":\"1221\"}],\"left\":[{\"id\":\"1218\"}],\"renderers\":[{\"id\":\"1239\"}],\"title\":{\"id\":\"1252\"},\"toolbar\":{\"id\":\"1229\"},\"x_range\":{\"id\":\"1206\"},\"x_scale\":{\"id\":\"1210\"},\"y_range\":{\"id\":\"1208\"},\"y_scale\":{\"id\":\"1212\"}},\"id\":\"1205\",\"subtype\":\"Figure\",\"type\":\"Plot\"},{\"attributes\":{},\"id\":\"1259\",\"type\":\"UnionRenderers\"},{\"attributes\":{},\"id\":\"1212\",\"type\":\"LinearScale\"},{\"attributes\":{},\"id\":\"1210\",\"type\":\"LinearScale\"},{\"attributes\":{\"overlay\":{\"id\":\"1228\"}},\"id\":\"1224\",\"type\":\"BoxZoomTool\"},{\"attributes\":{},\"id\":\"1227\",\"type\":\"HelpTool\"},{\"attributes\":{},\"id\":\"1208\",\"type\":\"DataRange1d\"},{\"attributes\":{\"callback\":null,\"tooltips\":[[\"name\",\"@name\"],[\"index\",\"@ind\"]]},\"id\":\"1241\",\"type\":\"HoverTool\"},{\"attributes\":{\"data_source\":{\"id\":\"1204\"},\"glyph\":{\"id\":\"1237\"},\"hover_glyph\":null,\"muted_glyph\":null,\"nonselection_glyph\":{\"id\":\"1238\"},\"selection_glyph\":null,\"view\":{\"id\":\"1240\"}},\"id\":\"1239\",\"type\":\"GlyphRenderer\"},{\"attributes\":{},\"id\":\"1223\",\"type\":\"WheelZoomTool\"},{\"attributes\":{\"fill_color\":{\"value\":\"#1b9e77\"},\"line_color\":{\"value\":\"#1b9e77\"},\"x\":{\"field\":\"t\"},\"y\":{\"field\":\"y00\"}},\"id\":\"1237\",\"type\":\"Circle\"},{\"attributes\":{\"active_drag\":\"auto\",\"active_inspect\":\"auto\",\"active_multi\":null,\"active_scroll\":\"auto\",\"active_tap\":\"auto\",\"tools\":[{\"id\":\"1222\"},{\"id\":\"1223\"},{\"id\":\"1224\"},{\"id\":\"1225\"},{\"id\":\"1226\"},{\"id\":\"1227\"},{\"id\":\"1241\"}]},\"id\":\"1229\",\"type\":\"Toolbar\"},{\"attributes\":{\"source\":{\"id\":\"1204\"}},\"id\":\"1240\",\"type\":\"CDSView\"},{\"attributes\":{\"formatter\":{\"id\":\"1256\"},\"ticker\":{\"id\":\"1219\"}},\"id\":\"1218\",\"type\":\"LinearAxis\"},{\"attributes\":{\"axis\":{\"id\":\"1214\"},\"grid_line_color\":\"white\",\"ticker\":null},\"id\":\"1217\",\"type\":\"Grid\"},{\"attributes\":{\"formatter\":{\"id\":\"1254\"},\"ticker\":{\"id\":\"1215\"}},\"id\":\"1214\",\"type\":\"LinearAxis\"},{\"attributes\":{},\"id\":\"1219\",\"type\":\"BasicTicker\"},{\"attributes\":{\"fill_alpha\":{\"value\":0.1},\"fill_color\":{\"value\":\"#1b9e77\"},\"line_alpha\":{\"value\":0.1},\"line_color\":{\"value\":\"#1b9e77\"},\"x\":{\"field\":\"t\"},\"y\":{\"field\":\"y00\"}},\"id\":\"1238\",\"type\":\"Circle\"},{\"attributes\":{},\"id\":\"1225\",\"type\":\"SaveTool\"},{\"attributes\":{},\"id\":\"1226\",\"type\":\"ResetTool\"},{\"attributes\":{},\"id\":\"1222\",\"type\":\"PanTool\"},{\"attributes\":{\"axis\":{\"id\":\"1218\"},\"dimension\":1,\"grid_line_color\":\"white\",\"ticker\":null},\"id\":\"1221\",\"type\":\"Grid\"},{\"attributes\":{\"text\":\"\"},\"id\":\"1252\",\"type\":\"Title\"},{\"attributes\":{},\"id\":\"1215\",\"type\":\"BasicTicker\"},{\"attributes\":{\"data\":{\"ind\":[0,1,2,3,4,5,6,7,8,9,10,11,12,13,14,15,16,17,18,19,20,21,22,23,24,25,26,27,28,29,30,31,32,33,34,35,36,37,38,39,40,41,42,43,44,45,46,47,48,49,50,51,52,53,54,55,56,57,58,59,60,61,62,63,64,65,66,67,68,69,70,71,72,73,74,75,76,77,78,79,80,81,82,83,84,85,86,87,88,89,90,91,92,93,94,95,96,97],\"name\":[\"ibh719gmq_flt.fits\",\"ibh719gnq_flt.fits\",\"ibh719goq_flt.fits\",\"ibh719gpq_flt.fits\",\"ibh719gqq_flt.fits\",\"ibh719grq_flt.fits\",\"ibh719gsq_flt.fits\",\"ibh719gtq_flt.fits\",\"ibh719guq_flt.fits\",\"ibh719gvq_flt.fits\",\"ibh719gwq_flt.fits\",\"ibh719gxq_flt.fits\",\"ibh719gzq_flt.fits\",\"ibh719h0q_flt.fits\",\"ibh719h1q_flt.fits\",\"ibh719h2q_flt.fits\",\"ibh719h3q_flt.fits\",\"ibh719h4q_flt.fits\",\"ibh719h5q_flt.fits\",\"ibh719h6q_flt.fits\",\"ibh719h7q_flt.fits\",\"ibh719h8q_flt.fits\",\"ibh719h9q_flt.fits\",\"ibh719i2q_flt.fits\",\"ibh719i4q_flt.fits\",\"ibh719i5q_flt.fits\",\"ibh719i6q_flt.fits\",\"ibh719i7q_flt.fits\",\"ibh719i8q_flt.fits\",\"ibh719i9q_flt.fits\",\"ibh719iaq_flt.fits\",\"ibh719ibq_flt.fits\",\"ibh719icq_flt.fits\",\"ibh719idq_flt.fits\",\"ibh719ieq_flt.fits\",\"ibh719ifq_flt.fits\",\"ibh719ihq_flt.fits\",\"ibh719iiq_flt.fits\",\"ibh719ijq_flt.fits\",\"ibh719ikq_flt.fits\",\"ibh719ilq_flt.fits\",\"ibh719imq_flt.fits\",\"ibh719inq_flt.fits\",\"ibh719ioq_flt.fits\",\"ibh719ipq_flt.fits\",\"ibh719iqq_flt.fits\",\"ibh719irq_flt.fits\",\"ibh719isq_flt.fits\",\"ibh719iuq_flt.fits\",\"ibh719ivq_flt.fits\",\"ibh719iwq_flt.fits\",\"ibh719ixq_flt.fits\",\"ibh719iyq_flt.fits\",\"ibh719izq_flt.fits\",\"ibh719j0q_flt.fits\",\"ibh719j1q_flt.fits\",\"ibh719j2q_flt.fits\",\"ibh719j3q_flt.fits\",\"ibh719j4q_flt.fits\",\"ibh719j5q_flt.fits\",\"ibh719j7q_flt.fits\",\"ibh719j8q_flt.fits\",\"ibh719j9q_flt.fits\",\"ibh719jaq_flt.fits\",\"ibh719jbq_flt.fits\",\"ibh719jcq_flt.fits\",\"ibh719jdq_flt.fits\",\"ibh719jeq_flt.fits\",\"ibh719jfq_flt.fits\",\"ibh719jgq_flt.fits\",\"ibh719jhq_flt.fits\",\"ibh719jiq_flt.fits\",\"ibh719jkq_flt.fits\",\"ibh719jlq_flt.fits\",\"ibh719jmq_flt.fits\",\"ibh719jnq_flt.fits\",\"ibh719joq_flt.fits\",\"ibh719jpq_flt.fits\",\"ibh719jqq_flt.fits\",\"ibh719jrq_flt.fits\",\"ibh719jsq_flt.fits\",\"ibh719jtq_flt.fits\",\"ibh719juq_flt.fits\",\"ibh719jvq_flt.fits\",\"ibh719jxq_flt.fits\",\"ibh719jyq_flt.fits\",\"ibh719jzq_flt.fits\",\"ibh719k0q_flt.fits\",\"ibh719k1q_flt.fits\",\"ibh719k2q_flt.fits\",\"ibh719k3q_flt.fits\",\"ibh719k4q_flt.fits\",\"ibh719k5q_flt.fits\",\"ibh719k6q_flt.fits\",\"ibh719k7q_flt.fits\",\"ibh719k8q_flt.fits\",\"ibh719k9q_flt.fits\",\"ibh719kaq_flt.fits\"],\"t\":{\"__ndarray__\":\"AABA9FTg4z8AAIBknevjPwAAwNTl9uM/AAAARS4C5D8AAEC1dg3kPwAAgCW/GOQ/AADAlQck5D8AAAAGUC/kPwAAQHaYOuQ/AACA5uBF5D8AAMBWKVHkPwAAAMdxXOQ/AABAN7pn5D8AAMCnAnPkPwAAABhLfuQ/AABAiJOJ5D8AAID425TkPwAAwGgkoOQ/AAAA2Wyr5D8AAEBJtbbkPwAAgLn9weQ/AADAKUbN5D8AAACajtjkPwAAAHzz6uU/AABA7Dv25T8AAIBchAHmPwAAwMzMDOY/AAAAPRUY5j8AAECtXSPmPwAAgB2mLuY/AADAje455j8AAAD+NkXmPwAAQG5/UOY/AADA3sdb5j8AAABPEGfmPwAAQL9YcuY/AACAL6F95j8AAMCf6YjmPwAAABAylOY/AABAgHqf5j8AAIDwwqrmPwAAwGALtuY/AAAA0VPB5j8AAEBBnMzmPwAAgLHk1+Y/AADAIS3j5j8AAACSde7mPwAAQAK++eY/AACAngoM6D8AAMAOUxfoPwAAAH+bIug/AABA7+Mt6D8AAIBfLDnoPwAAwM90ROg/AAAAQL1P6D8AAECwBVvoPwAAgCBOZug/AAAAkZZx6D8AAEAB33zoPwAAgHEniOg/AADA4W+T6D8AAABSuJ7oPwAAQMIAqug/AACAMkm16D8AAMCikcDoPwAAABPay+g/AABAgyLX6D8AAIDzauLoPwAAwGOz7eg/AAAA1Pv46D8AAEBERATpPwAAgLSMD+k/AADAJNUa6T8AAMDv2CzqPwAAAGAhOOo/AABA0GlD6j8AAIBAsk7qPwAAwLD6Weo/AAAAIUNl6j8AAECRi3DqPwAAgAHUe+o/AADAcRyH6j8AAADiZJLqPwAAQFKtneo/AACAwvWo6j8AAMAyPrTqPwAAAKOGv+o/AABAE8/K6j8AAICDF9bqPwAAwPNf4eo/AAAAZKjs6j8AAIDU8PfqPwAAwEQ5A+s/AAAAtYEO6z8AAEAlyhnrPwAAgJUSJes/AADABVsw6z8AAAB2ozvrPw==\",\"dtype\":\"float64\",\"order\":\"little\",\"shape\":[98]},\"y00\":{\"__ndarray__\":\"h2TXd1ON7z9GGN1Xk7TvPwcpJhHSz+8/bryqux/X7z9HVMpmGN/vP6j5qtdB6O8/BOi+T/jo7z9IfZrqjvDvP2nTyb2e8O8/4uR3QuPy7z/ctOXXl/PvPxrHU0sk+O8/Al8g+1D37z80Q7j94/nvPx0p/zro+O8/x3OW9A397z902BhHMP7vP1UPU+kv/u8/OBZJrWP97z+NLU4R6vjvP8NUUh0A/u8/vYYDac4A8D+897IJMP3vP+XfobyJ6e8/e0/ideX37z9IOEXi4f7vP4Vw3uif/O8/L+aMdP3/7z/gzUldewPwP8c4xNgrAvA/jss/5jEB8D8Jlxyt/QDwP/3eyatPAfA/CZ67lBwD8D9RJE4yFwLwP4fTmPUeBPA/B13QKOgB8D81Eh6oyADwP7o6FimABPA/vFisjGwD8D9BD7XSDwLwPw6T3XYgA/A/lktyVhMD8D/pD5f6gALwP+ipabLAA/A/JwebrgUC8D9JNsT2hQTwP5wYiVeOA/A/34aRQFzp7z+VmxOOe/zvP/3Kdmab/+8/6Iy5RQEA8D+2xcq/SwDwP25vRTVD/O8/ZplodIr/7z9i74+AEgLwP/6Xg+YI/+8/owHCxyX/7z/ikF44EgLwP+CgAWIa/+8/louSbxX97z/a1txydQDwP0WmZZlNAfA/pmsmJpsC8D88HpYjzP/vPx0t7juWAPA/p2uGJFEB8D/vr+l/0//vP1qy8aPh/u8/V5QSJCMA8D9n+RhQcADwP4OvJlRSAfA/Z+R8DGAB8D8HrsXTfubvP8FclFvA8+8/NByuwWP+7z9TW/rr9/rvP+ezz+RE/O8/VVEk3R/67z/wi8tHif/vPx2weLv4/u8/0JBE0Pr+7z8QKuAS/gDwP4KprlJDAPA/6mkbEMcA8D/RW+8vgf3vP2oRvXQVAvA/cZo7HN4B8D8kn7y/wwDwP0IQprRHAPA/ES93QkwA8D9siu5cgQDwP7x72YsVA/A/5qhSAiYB8D+erYI/JADwPyTrLGuLAvA/k6VBUyQD8D9OWFU9wwPwPw==\",\"dtype\":\"float64\",\"order\":\"little\",\"shape\":[98]}},\"selected\":{\"id\":\"1258\"},\"selection_policy\":{\"id\":\"1259\"}},\"id\":\"1204\",\"type\":\"ColumnDataSource\"},{\"attributes\":{},\"id\":\"1256\",\"type\":\"BasicTickFormatter\"},{\"attributes\":{},\"id\":\"1258\",\"type\":\"Selection\"},{\"attributes\":{\"bottom_units\":\"screen\",\"fill_alpha\":0.5,\"fill_color\":\"lightgrey\",\"left_units\":\"screen\",\"level\":\"overlay\",\"line_alpha\":1.0,\"line_color\":\"black\",\"line_dash\":[4,4],\"line_width\":2,\"right_units\":\"screen\",\"top_units\":\"screen\"},\"id\":\"1228\",\"type\":\"BoxAnnotation\"},{\"attributes\":{},\"id\":\"1254\",\"type\":\"BasicTickFormatter\"},{\"attributes\":{},\"id\":\"1206\",\"type\":\"DataRange1d\"}],\"root_ids\":[\"1205\"]},\"title\":\"Bokeh Application\",\"version\":\"2.1.0\"}};\n",
       "  var render_items = [{\"docid\":\"2aed04c6-c313-4a25-b25b-cdf47770fd17\",\"root_ids\":[\"1205\"],\"roots\":{\"1205\":\"a6ed12ed-ce4a-4947-b533-a44cd99d2b45\"}}];\n",
       "  root.Bokeh.embed.embed_items_notebook(docs_json, render_items);\n",
       "\n",
       "  }\n",
       "  if (root.Bokeh !== undefined) {\n",
       "    embed_document(root);\n",
       "  } else {\n",
       "    var attempts = 0;\n",
       "    var timer = setInterval(function(root) {\n",
       "      if (root.Bokeh !== undefined) {\n",
       "        clearInterval(timer);\n",
       "        embed_document(root);\n",
       "      } else {\n",
       "        attempts++;\n",
       "        if (attempts > 100) {\n",
       "          clearInterval(timer);\n",
       "          console.log(\"Bokeh: ERROR: Unable to run BokehJS code because BokehJS library is missing\");\n",
       "        }\n",
       "      }\n",
       "    }, 10, root)\n",
       "  }\n",
       "})(window);"
      ],
      "application/vnd.bokehjs_exec.v0+json": ""
     },
     "metadata": {
      "application/vnd.bokehjs_exec.v0+json": {
       "id": "1205"
      }
     },
     "output_type": "display_data"
    },
    {
     "name": "stdout",
     "output_type": "stream",
     "text": [
      "Working on plot_wavebin_series for batch CoRoT-1 corot1_visit3 \n"
     ]
    },
    {
     "data": {
      "text/html": [
       "\n",
       "\n",
       "\n",
       "\n",
       "\n",
       "\n",
       "  <div class=\"bk-root\" id=\"19646146-9747-4752-8027-d654162b6df9\" data-root-id=\"1434\"></div>\n"
      ]
     },
     "metadata": {},
     "output_type": "display_data"
    },
    {
     "data": {
      "application/javascript": [
       "(function(root) {\n",
       "  function embed_document(root) {\n",
       "    \n",
       "  var docs_json = {\"04783b0f-e7bb-4629-b5a9-cddde672e614\":{\"roots\":{\"references\":[{\"attributes\":{\"background_fill_color\":\"#f5f5f5\",\"below\":[{\"id\":\"1443\"}],\"center\":[{\"id\":\"1446\"},{\"id\":\"1450\"}],\"left\":[{\"id\":\"1447\"}],\"renderers\":[{\"id\":\"1468\"}],\"title\":{\"id\":\"1490\"},\"toolbar\":{\"id\":\"1458\"},\"x_range\":{\"id\":\"1435\"},\"x_scale\":{\"id\":\"1439\"},\"y_range\":{\"id\":\"1437\"},\"y_scale\":{\"id\":\"1441\"}},\"id\":\"1434\",\"subtype\":\"Figure\",\"type\":\"Plot\"},{\"attributes\":{},\"id\":\"1496\",\"type\":\"Selection\"},{\"attributes\":{},\"id\":\"1439\",\"type\":\"LinearScale\"},{\"attributes\":{},\"id\":\"1452\",\"type\":\"WheelZoomTool\"},{\"attributes\":{\"fill_alpha\":{\"value\":0.1},\"fill_color\":{\"value\":\"#1b9e77\"},\"line_alpha\":{\"value\":0.1},\"line_color\":{\"value\":\"#1b9e77\"},\"x\":{\"field\":\"t\"},\"y\":{\"field\":\"y00\"}},\"id\":\"1467\",\"type\":\"Circle\"},{\"attributes\":{\"text\":\"\"},\"id\":\"1490\",\"type\":\"Title\"},{\"attributes\":{},\"id\":\"1437\",\"type\":\"DataRange1d\"},{\"attributes\":{},\"id\":\"1451\",\"type\":\"PanTool\"},{\"attributes\":{},\"id\":\"1456\",\"type\":\"HelpTool\"},{\"attributes\":{\"axis\":{\"id\":\"1447\"},\"dimension\":1,\"grid_line_color\":\"white\",\"ticker\":null},\"id\":\"1450\",\"type\":\"Grid\"},{\"attributes\":{},\"id\":\"1444\",\"type\":\"BasicTicker\"},{\"attributes\":{\"formatter\":{\"id\":\"1492\"},\"ticker\":{\"id\":\"1444\"}},\"id\":\"1443\",\"type\":\"LinearAxis\"},{\"attributes\":{\"fill_color\":{\"value\":\"#1b9e77\"},\"line_color\":{\"value\":\"#1b9e77\"},\"x\":{\"field\":\"t\"},\"y\":{\"field\":\"y00\"}},\"id\":\"1466\",\"type\":\"Circle\"},{\"attributes\":{\"data_source\":{\"id\":\"1433\"},\"glyph\":{\"id\":\"1466\"},\"hover_glyph\":null,\"muted_glyph\":null,\"nonselection_glyph\":{\"id\":\"1467\"},\"selection_glyph\":null,\"view\":{\"id\":\"1469\"}},\"id\":\"1468\",\"type\":\"GlyphRenderer\"},{\"attributes\":{},\"id\":\"1448\",\"type\":\"BasicTicker\"},{\"attributes\":{\"source\":{\"id\":\"1433\"}},\"id\":\"1469\",\"type\":\"CDSView\"},{\"attributes\":{},\"id\":\"1435\",\"type\":\"DataRange1d\"},{\"attributes\":{},\"id\":\"1494\",\"type\":\"BasicTickFormatter\"},{\"attributes\":{\"data\":{\"ind\":[0,1,2,3,4,5,6,7,8,9,10,11,12,13,14,15,16,17,18,19,20,21,22,23,24,25,26,27,28,29,30,31,32,33,34,35,36,37,38,39,40,41,42,43,44,45,46,47,48,49,50,51,52,53,54,55,56,57,58,59,60,61,62,63,64,65,66,67,68,69,70,71,72,73,74,75,76,77,78,79,80,81,82,83,84,85,86,87,88,89,90,91,92,93,94,95,96,97],\"name\":[\"ibh720i6q_flt.fits\",\"ibh720i7q_flt.fits\",\"ibh720i8q_flt.fits\",\"ibh720i9q_flt.fits\",\"ibh720iaq_flt.fits\",\"ibh720ibq_flt.fits\",\"ibh720icq_flt.fits\",\"ibh720idq_flt.fits\",\"ibh720ieq_flt.fits\",\"ibh720ifq_flt.fits\",\"ibh720igq_flt.fits\",\"ibh720ihq_flt.fits\",\"ibh720ijq_flt.fits\",\"ibh720ikq_flt.fits\",\"ibh720ilq_flt.fits\",\"ibh720imq_flt.fits\",\"ibh720inq_flt.fits\",\"ibh720ioq_flt.fits\",\"ibh720ipq_flt.fits\",\"ibh720iqq_flt.fits\",\"ibh720irq_flt.fits\",\"ibh720isq_flt.fits\",\"ibh720itq_flt.fits\",\"ibh720iuq_flt.fits\",\"ibh720iwq_flt.fits\",\"ibh720ixq_flt.fits\",\"ibh720iyq_flt.fits\",\"ibh720izq_flt.fits\",\"ibh720j0q_flt.fits\",\"ibh720j1q_flt.fits\",\"ibh720j2q_flt.fits\",\"ibh720j3q_flt.fits\",\"ibh720j4q_flt.fits\",\"ibh720j5q_flt.fits\",\"ibh720j6q_flt.fits\",\"ibh720j7q_flt.fits\",\"ibh720j9q_flt.fits\",\"ibh720jaq_flt.fits\",\"ibh720jbq_flt.fits\",\"ibh720jcq_flt.fits\",\"ibh720jdq_flt.fits\",\"ibh720jeq_flt.fits\",\"ibh720jfq_flt.fits\",\"ibh720jgq_flt.fits\",\"ibh720jhq_flt.fits\",\"ibh720jiq_flt.fits\",\"ibh720jjq_flt.fits\",\"ibh720jkq_flt.fits\",\"ibh720jmq_flt.fits\",\"ibh720jnq_flt.fits\",\"ibh720joq_flt.fits\",\"ibh720jpq_flt.fits\",\"ibh720jqq_flt.fits\",\"ibh720jrq_flt.fits\",\"ibh720jsq_flt.fits\",\"ibh720jtq_flt.fits\",\"ibh720juq_flt.fits\",\"ibh720jvq_flt.fits\",\"ibh720jwq_flt.fits\",\"ibh720jxq_flt.fits\",\"ibh720jzq_flt.fits\",\"ibh720k0q_flt.fits\",\"ibh720k1q_flt.fits\",\"ibh720k2q_flt.fits\",\"ibh720k3q_flt.fits\",\"ibh720k4q_flt.fits\",\"ibh720k5q_flt.fits\",\"ibh720k6q_flt.fits\",\"ibh720k7q_flt.fits\",\"ibh720k8q_flt.fits\",\"ibh720k9q_flt.fits\",\"ibh720kaq_flt.fits\",\"ibh720kcq_flt.fits\",\"ibh720kdq_flt.fits\",\"ibh720keq_flt.fits\",\"ibh720kfq_flt.fits\",\"ibh720kgq_flt.fits\",\"ibh720khq_flt.fits\",\"ibh720kiq_flt.fits\",\"ibh720kjq_flt.fits\",\"ibh720kkq_flt.fits\",\"ibh720klq_flt.fits\",\"ibh720kmq_flt.fits\",\"ibh720knq_flt.fits\",\"ibh720kpq_flt.fits\",\"ibh720kqq_flt.fits\",\"ibh720krq_flt.fits\",\"ibh720ksq_flt.fits\",\"ibh720ktq_flt.fits\",\"ibh720kuq_flt.fits\",\"ibh720kvq_flt.fits\",\"ibh720kwq_flt.fits\",\"ibh720kxq_flt.fits\",\"ibh720kyq_flt.fits\",\"ibh720kzq_flt.fits\",\"ibh720l0q_flt.fits\",\"ibh720l1q_flt.fits\",\"ibh720l2q_flt.fits\"],\"t\":{\"__ndarray__\":\"AAAAeVY0yT8AAAA6eGHJPwAAAPuZjsk/AAAAvLu7yT8AAAB93ejJPwAAAD7/Fco/AAAA/yBDyj8AAADAQnDKPwAAAIFknco/AAAAQobKyj8AAAADqPfKPwAAAMTJJMs/AAAAhetRyz8AAABGDX/LPwAAAAcvrMs/AAAAyFDZyz8AAACJcgbMPwAAAEqUM8w/AAAAC7ZgzD8AAADM143MPwAAAI35usw/AAAATxvozD8AAAAQPRXNPwAAgIFZ3NA/AAAAYury0D8AAIBCewnRPwAAACMMINE/AACAA5020T8AAADkLU3RPwAAgMS+Y9E/AAAApU960T8AAICF4JDRPwAAAGZxp9E/AACARgK+0T8AAAAnk9TRPwAAgAck69E/AAAA6LQB0j8AAIDIRRjSPwAAAKnWLtI/AACAiWdF0j8AAABq+FvSPwAAgEqJctI/AAAAKxqJ0j8AAAAMq5/SPwAAgOw7ttI/AAAAzczM0j8AAICtXePSPwAAAI7u+dI/AACAxoce1T8AAACnGDXVPwAAgIepS9U/AAAAaDpi1T8AAIBIy3jVPwAAAClcj9U/AACACe2l1T8AAADqfbzVPwAAgMoO09U/AAAAq5/p1T8AAICLMADWPwAAAGzBFtY/AACATFIt1j8AAAAt40PWPwAAgA10WtY/AAAA7gRx1j8AAIDOlYfWPwAAAK8mntY/AACAj7e01j8AAIBwSMvWPwAAAFHZ4dY/AACAMWr41j8AAAAS+w7XPwAAgPKLJdc/AAAA0xw81z8AAACAhWDZPwAAgGAWd9k/AAAAQaeN2T8AAIAhOKTZPwAAAALJutk/AACA4lnR2T8AAADD6ufZPwAAgKN7/tk/AAAAhAwV2j8AAIBknSvaPwAAAEUuQto/AACAJb9Y2j8AAAAGUG/aPwAAgObghdo/AAAAx3Gc2j8AAICnArPaPwAAAIiTydo/AACAaCTg2j8AAABJtfbaPwAAgClGDds/AAAACtcj2z8AAADrZzrbPwAAgMv4UNs/AAAArIln2z8AAICMGn7bPw==\",\"dtype\":\"float64\",\"order\":\"little\",\"shape\":[98]},\"y00\":{\"__ndarray__\":\"jgAWqPGt7z87vHqzhtDvPyvU1DiT3e8/Tz6BWqri7z8yWGb2i+rvP3Hdou9+8e8/duCzPpTz7z+Rx79cxvLvP1K9IqV09+8/iBtLEQD37z/A1EycbPrvPxC8YEUH/u8/uqj2Gdf77z/N1+1br/7vP9sq91jS/+8/LYsbusQC8D9Mj++jEQDwP8OyM58s/+8/rD+nPNUA8D8+A4MJWAPwP0WNGPQ9AfA/i+zCw7kC8D9hnmEdsQPwP0ls3K816O8/W4YP0Qj67z8quBElqPvvP0wtUNVuAPA/ORMPhUj/7z9tXj6EwADwP70vxdw7A/A/T+58s+sB8D9f1x7j2QPwPyrSY7e/AvA/a1/JC9QD8D89FzCZKgTwP4wOD7R+A/A/WXP+NvUC8D9y+3VoKQLwP+FWc8oDAvA/uyrwcKwD8D9vJlH/wALwP55D0fqWBPA/dz8OD/cD8D9S41BxIQTwP3fbZVVgAvA/FOEuSJ8D8D8CQNBzQAPwP7q9RUi5BPA/HLdT+3fj7z9xWz34VfbvP8yF/GzU9u8/pAgzP+f77z8eLA5OSvfvP85VHDkZ++8/LZXojQr97z/Z++O9Gv/vP9GFPQu0/e8/sEdh+PX57z8OCK7z3gDwP8rJA6UnAPA/IdfS6osA8D9wZ23aE/7vP6quECml/e8/i/X403X/7z/5gxW76QDwP3buEnJbAfA/V5WM66387z+WU07OCwDwP62ihlwh/+8/HwCyex3+7z+nDAiAq//vP8JKVAxlAfA/1FhjY+j/7z9rHaoFpePvP9mIH5C79e8/Z+CdCAv47z+77yuks/rvPy1/VsGJ/O8/ZppOWhv77z+tqm2mLv7vP+oYt0Yk/+8/sr0U61n/7z+5ls7Bxf/vP3EL9PXIAPA/eANJZusA8D/fzZl4gADwP6//wKnY/e8/PrV/o6ED8D828oAhsQPwP9eAUDrZAfA/GaLqkt0E8D9nxeNp3wXwP9/ELL5/AvA/74j3TxID8D88eAQzCQTwP4ofapmSA/A/NrQ9RnwE8D80VcqlTAPwPw==\",\"dtype\":\"float64\",\"order\":\"little\",\"shape\":[98]}},\"selected\":{\"id\":\"1496\"},\"selection_policy\":{\"id\":\"1497\"}},\"id\":\"1433\",\"type\":\"ColumnDataSource\"},{\"attributes\":{\"formatter\":{\"id\":\"1494\"},\"ticker\":{\"id\":\"1448\"}},\"id\":\"1447\",\"type\":\"LinearAxis\"},{\"attributes\":{\"callback\":null,\"tooltips\":[[\"name\",\"@name\"],[\"index\",\"@ind\"]]},\"id\":\"1470\",\"type\":\"HoverTool\"},{\"attributes\":{},\"id\":\"1441\",\"type\":\"LinearScale\"},{\"attributes\":{},\"id\":\"1497\",\"type\":\"UnionRenderers\"},{\"attributes\":{},\"id\":\"1455\",\"type\":\"ResetTool\"},{\"attributes\":{\"axis\":{\"id\":\"1443\"},\"grid_line_color\":\"white\",\"ticker\":null},\"id\":\"1446\",\"type\":\"Grid\"},{\"attributes\":{},\"id\":\"1454\",\"type\":\"SaveTool\"},{\"attributes\":{\"bottom_units\":\"screen\",\"fill_alpha\":0.5,\"fill_color\":\"lightgrey\",\"left_units\":\"screen\",\"level\":\"overlay\",\"line_alpha\":1.0,\"line_color\":\"black\",\"line_dash\":[4,4],\"line_width\":2,\"right_units\":\"screen\",\"top_units\":\"screen\"},\"id\":\"1457\",\"type\":\"BoxAnnotation\"},{\"attributes\":{\"overlay\":{\"id\":\"1457\"}},\"id\":\"1453\",\"type\":\"BoxZoomTool\"},{\"attributes\":{\"active_drag\":\"auto\",\"active_inspect\":\"auto\",\"active_multi\":null,\"active_scroll\":\"auto\",\"active_tap\":\"auto\",\"tools\":[{\"id\":\"1451\"},{\"id\":\"1452\"},{\"id\":\"1453\"},{\"id\":\"1454\"},{\"id\":\"1455\"},{\"id\":\"1456\"},{\"id\":\"1470\"}]},\"id\":\"1458\",\"type\":\"Toolbar\"},{\"attributes\":{},\"id\":\"1492\",\"type\":\"BasicTickFormatter\"}],\"root_ids\":[\"1434\"]},\"title\":\"Bokeh Application\",\"version\":\"2.1.0\"}};\n",
       "  var render_items = [{\"docid\":\"04783b0f-e7bb-4629-b5a9-cddde672e614\",\"root_ids\":[\"1434\"],\"roots\":{\"1434\":\"19646146-9747-4752-8027-d654162b6df9\"}}];\n",
       "  root.Bokeh.embed.embed_items_notebook(docs_json, render_items);\n",
       "\n",
       "  }\n",
       "  if (root.Bokeh !== undefined) {\n",
       "    embed_document(root);\n",
       "  } else {\n",
       "    var attempts = 0;\n",
       "    var timer = setInterval(function(root) {\n",
       "      if (root.Bokeh !== undefined) {\n",
       "        clearInterval(timer);\n",
       "        embed_document(root);\n",
       "      } else {\n",
       "        attempts++;\n",
       "        if (attempts > 100) {\n",
       "          clearInterval(timer);\n",
       "          console.log(\"Bokeh: ERROR: Unable to run BokehJS code because BokehJS library is missing\");\n",
       "        }\n",
       "      }\n",
       "    }, 10, root)\n",
       "  }\n",
       "})(window);"
      ],
      "application/vnd.bokehjs_exec.v0+json": ""
     },
     "metadata": {
      "application/vnd.bokehjs_exec.v0+json": {
       "id": "1434"
      }
     },
     "output_type": "display_data"
    },
    {
     "name": "stdout",
     "output_type": "stream",
     "text": [
      "Working on plot_wavebin_series for batch CoRoT-1 corot1_visit4 \n"
     ]
    },
    {
     "data": {
      "text/html": [
       "\n",
       "\n",
       "\n",
       "\n",
       "\n",
       "\n",
       "  <div class=\"bk-root\" id=\"b428379c-499f-4ed2-9689-baf251fc1f00\" data-root-id=\"1672\"></div>\n"
      ]
     },
     "metadata": {},
     "output_type": "display_data"
    },
    {
     "data": {
      "application/javascript": [
       "(function(root) {\n",
       "  function embed_document(root) {\n",
       "    \n",
       "  var docs_json = {\"7160b771-807e-499d-afbe-282f4d9a3fb6\":{\"roots\":{\"references\":[{\"attributes\":{\"background_fill_color\":\"#f5f5f5\",\"below\":[{\"id\":\"1681\"}],\"center\":[{\"id\":\"1684\"},{\"id\":\"1688\"}],\"left\":[{\"id\":\"1685\"}],\"renderers\":[{\"id\":\"1706\"}],\"title\":{\"id\":\"1737\"},\"toolbar\":{\"id\":\"1696\"},\"x_range\":{\"id\":\"1673\"},\"x_scale\":{\"id\":\"1677\"},\"y_range\":{\"id\":\"1675\"},\"y_scale\":{\"id\":\"1679\"}},\"id\":\"1672\",\"subtype\":\"Figure\",\"type\":\"Plot\"},{\"attributes\":{},\"id\":\"1686\",\"type\":\"BasicTicker\"},{\"attributes\":{},\"id\":\"1675\",\"type\":\"DataRange1d\"},{\"attributes\":{\"axis\":{\"id\":\"1681\"},\"grid_line_color\":\"white\",\"ticker\":null},\"id\":\"1684\",\"type\":\"Grid\"},{\"attributes\":{},\"id\":\"1679\",\"type\":\"LinearScale\"},{\"attributes\":{\"active_drag\":\"auto\",\"active_inspect\":\"auto\",\"active_multi\":null,\"active_scroll\":\"auto\",\"active_tap\":\"auto\",\"tools\":[{\"id\":\"1689\"},{\"id\":\"1690\"},{\"id\":\"1691\"},{\"id\":\"1692\"},{\"id\":\"1693\"},{\"id\":\"1694\"},{\"id\":\"1708\"}]},\"id\":\"1696\",\"type\":\"Toolbar\"},{\"attributes\":{},\"id\":\"1744\",\"type\":\"UnionRenderers\"},{\"attributes\":{\"axis\":{\"id\":\"1685\"},\"dimension\":1,\"grid_line_color\":\"white\",\"ticker\":null},\"id\":\"1688\",\"type\":\"Grid\"},{\"attributes\":{},\"id\":\"1694\",\"type\":\"HelpTool\"},{\"attributes\":{\"formatter\":{\"id\":\"1739\"},\"ticker\":{\"id\":\"1682\"}},\"id\":\"1681\",\"type\":\"LinearAxis\"},{\"attributes\":{\"bottom_units\":\"screen\",\"fill_alpha\":0.5,\"fill_color\":\"lightgrey\",\"left_units\":\"screen\",\"level\":\"overlay\",\"line_alpha\":1.0,\"line_color\":\"black\",\"line_dash\":[4,4],\"line_width\":2,\"right_units\":\"screen\",\"top_units\":\"screen\"},\"id\":\"1695\",\"type\":\"BoxAnnotation\"},{\"attributes\":{},\"id\":\"1682\",\"type\":\"BasicTicker\"},{\"attributes\":{\"formatter\":{\"id\":\"1741\"},\"ticker\":{\"id\":\"1686\"}},\"id\":\"1685\",\"type\":\"LinearAxis\"},{\"attributes\":{\"overlay\":{\"id\":\"1695\"}},\"id\":\"1691\",\"type\":\"BoxZoomTool\"},{\"attributes\":{},\"id\":\"1739\",\"type\":\"BasicTickFormatter\"},{\"attributes\":{\"text\":\"\"},\"id\":\"1737\",\"type\":\"Title\"},{\"attributes\":{\"data_source\":{\"id\":\"1671\"},\"glyph\":{\"id\":\"1704\"},\"hover_glyph\":null,\"muted_glyph\":null,\"nonselection_glyph\":{\"id\":\"1705\"},\"selection_glyph\":null,\"view\":{\"id\":\"1707\"}},\"id\":\"1706\",\"type\":\"GlyphRenderer\"},{\"attributes\":{\"source\":{\"id\":\"1671\"}},\"id\":\"1707\",\"type\":\"CDSView\"},{\"attributes\":{},\"id\":\"1690\",\"type\":\"WheelZoomTool\"},{\"attributes\":{},\"id\":\"1689\",\"type\":\"PanTool\"},{\"attributes\":{},\"id\":\"1673\",\"type\":\"DataRange1d\"},{\"attributes\":{\"data\":{\"ind\":[0,1,2,3,4,5,6,7,8,9,10,11,12,13,14,15,16,17,18,19,20,21,22,23,24,25,26,27,28,29,30,31,32,33,34,35,36,37,38,39,40,41,42,43,44,45,46,47,48,49,50,51,52,53,54,55,56,57,58,59,60,61,62,63,64,65,66,67,68,69,70,71,72,73,74,75,76,77,78,79,80,81,82,83,84,85,86,87,88,89,90,91,92,93,94,95,96,97],\"name\":[\"ibh721omq_flt.fits\",\"ibh721onq_flt.fits\",\"ibh721ooq_flt.fits\",\"ibh721opq_flt.fits\",\"ibh721oqq_flt.fits\",\"ibh721orq_flt.fits\",\"ibh721osq_flt.fits\",\"ibh721otq_flt.fits\",\"ibh721ouq_flt.fits\",\"ibh721ovq_flt.fits\",\"ibh721owq_flt.fits\",\"ibh721oxq_flt.fits\",\"ibh721ozq_flt.fits\",\"ibh721p0q_flt.fits\",\"ibh721p1q_flt.fits\",\"ibh721p2q_flt.fits\",\"ibh721p3q_flt.fits\",\"ibh721p4q_flt.fits\",\"ibh721p5q_flt.fits\",\"ibh721p6q_flt.fits\",\"ibh721p7q_flt.fits\",\"ibh721p8q_flt.fits\",\"ibh721p9q_flt.fits\",\"ibh721paq_flt.fits\",\"ibh721pcq_flt.fits\",\"ibh721pdq_flt.fits\",\"ibh721peq_flt.fits\",\"ibh721pfq_flt.fits\",\"ibh721pgq_flt.fits\",\"ibh721phq_flt.fits\",\"ibh721piq_flt.fits\",\"ibh721pjq_flt.fits\",\"ibh721pkq_flt.fits\",\"ibh721plq_flt.fits\",\"ibh721pmq_flt.fits\",\"ibh721pnq_flt.fits\",\"ibh721ppq_flt.fits\",\"ibh721pqq_flt.fits\",\"ibh721prq_flt.fits\",\"ibh721psq_flt.fits\",\"ibh721ptq_flt.fits\",\"ibh721puq_flt.fits\",\"ibh721pvq_flt.fits\",\"ibh721pwq_flt.fits\",\"ibh721pxq_flt.fits\",\"ibh721pyq_flt.fits\",\"ibh721pzq_flt.fits\",\"ibh721q0q_flt.fits\",\"ibh721q2q_flt.fits\",\"ibh721q3q_flt.fits\",\"ibh721q4q_flt.fits\",\"ibh721q5q_flt.fits\",\"ibh721q6q_flt.fits\",\"ibh721q7q_flt.fits\",\"ibh721q8q_flt.fits\",\"ibh721q9q_flt.fits\",\"ibh721qaq_flt.fits\",\"ibh721qbq_flt.fits\",\"ibh721qcq_flt.fits\",\"ibh721qdq_flt.fits\",\"ibh721qfq_flt.fits\",\"ibh721qgq_flt.fits\",\"ibh721qhq_flt.fits\",\"ibh721qiq_flt.fits\",\"ibh721qjq_flt.fits\",\"ibh721qkq_flt.fits\",\"ibh721qlq_flt.fits\",\"ibh721qmq_flt.fits\",\"ibh721qnq_flt.fits\",\"ibh721qoq_flt.fits\",\"ibh721qpq_flt.fits\",\"ibh721qqq_flt.fits\",\"ibh721qsq_flt.fits\",\"ibh721qtq_flt.fits\",\"ibh721quq_flt.fits\",\"ibh721qvq_flt.fits\",\"ibh721qwq_flt.fits\",\"ibh721qxq_flt.fits\",\"ibh721qyq_flt.fits\",\"ibh721qzq_flt.fits\",\"ibh721r0q_flt.fits\",\"ibh721r1q_flt.fits\",\"ibh721r2q_flt.fits\",\"ibh721r3q_flt.fits\",\"ibh721r5q_flt.fits\",\"ibh721r6q_flt.fits\",\"ibh721r7q_flt.fits\",\"ibh721r8q_flt.fits\",\"ibh721r9q_flt.fits\",\"ibh721raq_flt.fits\",\"ibh721rbq_flt.fits\",\"ibh721rcq_flt.fits\",\"ibh721rdq_flt.fits\",\"ibh721req_flt.fits\",\"ibh721rfq_flt.fits\",\"ibh721rgq_flt.fits\",\"ibh721rhq_flt.fits\",\"ibh721riq_flt.fits\"],\"t\":{\"__ndarray__\":\"AAAAiYiIzz8AAABKqrXPPwAAAAvM4s8/AAAA5vYH0D8AAIDGhx7QPwAAAKcYNdA/AACAh6lL0D8AAABoOmLQPwAAgEjLeNA/AAAAKVyP0D8AAIAJ7aXQPwAAAOp9vNA/AACAyg7T0D8AAACrn+nQPwAAgIswANE/AAAAbMEW0T8AAIBMUi3RPwAAAC3jQ9E/AACADXRa0T8AAADuBHHRPwAAgM6Vh9E/AAAAryae0T8AAICPt7TRPwAAAGr429M/AACASony0z8AAAArGgnUPwAAAAyrH9Q/AACA7Ds21D8AAADNzEzUPwAAgK1dY9Q/AAAAju551D8AAIBuf5DUPwAAAE8Qp9Q/AACAL6G91D8AAAAQMtTUPwAAgPDC6tQ/AAAA0VMB1T8AAICx5BfVPwAAAJJ1LtU/AACAcgZF1T8AAABTl1vVPwAAgDMoctU/AAAAFLmI1T8AAID0SZ/VPwAAANXatdU/AACAtWvM1T8AAACW/OLVPwAAgHaN+dU/AACAI/Yd2D8AAAAEhzTYPwAAgOQXS9g/AAAAxahh2D8AAIClOXjYPwAAgIbKjtg/AAAAZ1ul2D8AAIBH7LvYPwAAACh90tg/AACACA7p2D8AAADpnv/YPwAAgMkvFtk/AAAAqsAs2T8AAICKUUPZPwAAAGviWdk/AACAS3Nw2T8AAAAsBIfZPwAAgAyVndk/AAAA7SW02T8AAIDNtsrZPwAAAK5H4dk/AACAjtj32T8AAABvaQ7aPwAAgE/6JNo/AAAAMIs72j8AAIA6Yl/cPwAAABvzddw/AACA+4OM3D8AAADcFKPcPwAAgLyludw/AAAAnTbQ3D8AAIB9x+bcPwAAAF5Y/dw/AACAPukT3T8AAAAfeirdPwAAgP8KQd0/AAAA4JtX3T8AAIDALG7dPwAAAKG9hN0/AACAgU6b3T8AAABi37HdPwAAgEJwyN0/AACAIwHf3T8AAAAEkvXdPwAAgOQiDN4/AAAAxbMi3j8AAIClRDnePwAAAIbVT94/AACAZmZm3j8AAABH93zePw==\",\"dtype\":\"float64\",\"order\":\"little\",\"shape\":[98]},\"y00\":{\"__ndarray__\":\"Kwi49ZSI7z/RfjNmOLnvP31LcYMkzO8/qXO2K1/a7z8XIilLXuPvPzG3jk+J5u8/VB5GiW3o7z+jwtRoQfDvP3CPxD828O8/4tzXE8n07z9eAUdByvTvP+B3DPhm+e8/ivjNmm717z9smWM/A/nvPyinRkDK/O8/6BW+Tqf+7z/lov1nevvvPwyka8o3/+8/qKOaBJP77z8ff7cLNADwP89j5ptNAPA/BSjsM/wB8D+aDugjwgDwP8wPLCKi5u8/96/j6dH57z9yHuk7afjvP4SfFKEb/e8/huKmiu387z+0OhYGEgDwPy+xEsus/O8/z/szhsMB8D/LFAMeBgDwP0clHgwNAfA/fkXU5wYC8D8KNqjlxgDwPxL5jCXSA/A/KTbhgv8A8D8vXihTBgPwP9ESJtt4A/A/vxuJ5c8C8D9VtSEFWgDwP6oLeSq8BPA/9T3f20YC8D/M8b/8OAPwPx6rKzxdA/A/1/1YVwAE8D8tDSvDPQHwPz/bxVa6AvA/mGBjq/Po7z/6tCX8M/fvP8Ln94Ee9e8/xI52wY317z8IsfoV8vbvP3s/Z+06+u8/s8dGj1r77z8X8MzGJ/3vP32dqWZc+u8/GzQgYMP67z+tB8iyngDwP3/3R+Tr/O8/BpLRVF0B8D/wZtTHi/rvPwr+SHQh/+8/b7nPAtMA8D9s6tDolPzvPwydLISsAfA/GOMSvkv97z/8EL9aEwDwPynshmfFAvA/4Zc5O4IA8D9yVz13/ADwP2zW+cPz/+8/iYsbSAMC8D8OH4dSv+fvP4ZlctIl9u8/DAZD9Ar67z/I+df/rv7vP8OKGK47/O8/HfRpVi787z+Vebx1SQDwP7L2bOkHAPA/+bP7yhcB8D9kSMxVmADwP3zP8LVZ/u8/iZo7TYEB8D9yrbU0uf/vPwJO/ZItAPA/nOBOmpkB8D/WPy87rAPwP0LyBDUlAfA/IkpC8MwB8D9+XIPwWAXwP6Ol8V8JB/A/svM0LEsF8D+YPvGvQAbwP7mdnLcHBPA/3VyLHJED8D9dQCuA9gXwPw==\",\"dtype\":\"float64\",\"order\":\"little\",\"shape\":[98]}},\"selected\":{\"id\":\"1743\"},\"selection_policy\":{\"id\":\"1744\"}},\"id\":\"1671\",\"type\":\"ColumnDataSource\"},{\"attributes\":{},\"id\":\"1692\",\"type\":\"SaveTool\"},{\"attributes\":{},\"id\":\"1741\",\"type\":\"BasicTickFormatter\"},{\"attributes\":{\"fill_color\":{\"value\":\"#1b9e77\"},\"line_color\":{\"value\":\"#1b9e77\"},\"x\":{\"field\":\"t\"},\"y\":{\"field\":\"y00\"}},\"id\":\"1704\",\"type\":\"Circle\"},{\"attributes\":{},\"id\":\"1677\",\"type\":\"LinearScale\"},{\"attributes\":{\"callback\":null,\"tooltips\":[[\"name\",\"@name\"],[\"index\",\"@ind\"]]},\"id\":\"1708\",\"type\":\"HoverTool\"},{\"attributes\":{},\"id\":\"1693\",\"type\":\"ResetTool\"},{\"attributes\":{\"fill_alpha\":{\"value\":0.1},\"fill_color\":{\"value\":\"#1b9e77\"},\"line_alpha\":{\"value\":0.1},\"line_color\":{\"value\":\"#1b9e77\"},\"x\":{\"field\":\"t\"},\"y\":{\"field\":\"y00\"}},\"id\":\"1705\",\"type\":\"Circle\"},{\"attributes\":{},\"id\":\"1743\",\"type\":\"Selection\"}],\"root_ids\":[\"1672\"]},\"title\":\"Bokeh Application\",\"version\":\"2.1.0\"}};\n",
       "  var render_items = [{\"docid\":\"7160b771-807e-499d-afbe-282f4d9a3fb6\",\"root_ids\":[\"1672\"],\"roots\":{\"1672\":\"b428379c-499f-4ed2-9689-baf251fc1f00\"}}];\n",
       "  root.Bokeh.embed.embed_items_notebook(docs_json, render_items);\n",
       "\n",
       "  }\n",
       "  if (root.Bokeh !== undefined) {\n",
       "    embed_document(root);\n",
       "  } else {\n",
       "    var attempts = 0;\n",
       "    var timer = setInterval(function(root) {\n",
       "      if (root.Bokeh !== undefined) {\n",
       "        clearInterval(timer);\n",
       "        embed_document(root);\n",
       "      } else {\n",
       "        attempts++;\n",
       "        if (attempts > 100) {\n",
       "          clearInterval(timer);\n",
       "          console.log(\"Bokeh: ERROR: Unable to run BokehJS code because BokehJS library is missing\");\n",
       "        }\n",
       "      }\n",
       "    }, 10, root)\n",
       "  }\n",
       "})(window);"
      ],
      "application/vnd.bokehjs_exec.v0+json": ""
     },
     "metadata": {
      "application/vnd.bokehjs_exec.v0+json": {
       "id": "1672"
      }
     },
     "output_type": "display_data"
    }
   ],
   "source": [
    "bspec.batch_run('plot_wavebin_series', nbins=1, interactive=True)"
   ]
  },
  {
   "cell_type": "code",
   "execution_count": 13,
   "metadata": {},
   "outputs": [
    {
     "name": "stdout",
     "output_type": "stream",
     "text": [
      "Working on get_wavebin_series for batch CoRoT-1 corot1_visit1 \n",
      "Working on get_wavebin_series for batch CoRoT-1 corot1_visit2 \n",
      "Working on get_wavebin_series for batch CoRoT-1 corot1_visit3 \n",
      "Working on get_wavebin_series for batch CoRoT-1 corot1_visit4 \n"
     ]
    }
   ],
   "source": [
    "result = bspec.batch_run('get_wavebin_series',nbins=10, recalculate=True)"
   ]
  },
  {
   "cell_type": "code",
   "execution_count": 92,
   "metadata": {},
   "outputs": [
    {
     "data": {
      "text/plain": [
       "(98, 128, 128)"
      ]
     },
     "execution_count": 92,
     "metadata": {},
     "output_type": "execute_result"
    }
   ],
   "source": [
    "cube3d = np.zeros([len(corot1),head['NAXIS2'],head['NAXIS1']])\n",
    "cube3d.shape"
   ]
  },
  {
   "cell_type": "code",
   "execution_count": 94,
   "metadata": {},
   "outputs": [],
   "source": [
    "for ind,oneFile in enumerate(corot1['file names']):\n",
    "    cube3d[ind,:,:] = fits.getdata(\"/home/kglidic/Software/tser_tools/tshirt/corot1_visit1/{}\".format(oneFile),extname='SCI')"
   ]
  },
  {
   "cell_type": "code",
   "execution_count": 98,
   "metadata": {},
   "outputs": [
    {
     "data": {
      "text/plain": [
       "<matplotlib.image.AxesImage at 0x7f90700d0358>"
      ]
     },
     "execution_count": 98,
     "metadata": {},
     "output_type": "execute_result"
    },
    {
     "data": {
      "image/png": "[encoded data removed]",
      "text/plain": [
       "<Figure size 432x288 with 1 Axes>"
      ]
     },
     "metadata": {
      "needs_background": "light"
     },
     "output_type": "display_data"
    }
   ],
   "source": [
    "plt.imshow(cube3d[15,:,:])"
   ]
  },
  {
   "cell_type": "code",
   "execution_count": 101,
   "metadata": {},
   "outputs": [
    {
     "data": {
      "text/plain": [
       "<matplotlib.image.AxesImage at 0x7f9063e16da0>"
      ]
     },
     "execution_count": 101,
     "metadata": {},
     "output_type": "execute_result"
    },
    {
     "data": {
      "image/png": "[encoded data removed]",
      "text/plain": [
       "<Figure size 432x288 with 1 Axes>"
      ]
     },
     "metadata": {
      "needs_background": "light"
     },
     "output_type": "display_data"
    }
   ],
   "source": [
    "medianImage = np.median(cube3d,axis=0)\n",
    "plt.imshow(medianImage)\n"
   ]
  },
  {
   "cell_type": "code",
   "execution_count": 103,
   "metadata": {},
   "outputs": [],
   "source": [
    "outHDU = fits.PrimaryHDU(medianImage,head)\n",
    "outHDU.writeto('median_image.fits')"
   ]
  },
  {
   "cell_type": "code",
   "execution_count": 89,
   "metadata": {},
   "outputs": [
    {
     "data": {
      "text/plain": [
       "XTENSION= 'IMAGE   '           / IMAGE extension                                \n",
       "BITPIX  =                  -32                                                  \n",
       "NAXIS   =                    2                                                  \n",
       "NAXIS1  =                  128                                                  \n",
       "NAXIS2  =                  128                                                  \n",
       "PCOUNT  =                    0 / required keyword; must = 0                     \n",
       "GCOUNT  =                    1 / required keyword; must = 1                     \n",
       "ORIGIN  = 'HSTIO/CFITSIO March 2010'                                            \n",
       "DATE    = '2016-09-15' / date this file was written (yyyy-mm-dd)                \n",
       "INHERIT =                    T / inherit the primary header                     \n",
       "EXTNAME = 'SCI     '           / extension name                                 \n",
       "EXTVER  =                    1 / extension version number                       \n",
       "ROOTNAME= 'ibh717gjq                         ' / rootname of the observation set\n",
       "EXPNAME = 'ibh717gjq                ' / exposure identifier                     \n",
       "BUNIT   = 'ELECTRONS/S'        / brightness units                               \n",
       "                                                                                \n",
       "              / World Coordinate System and Related Parameters                  \n",
       "                                                                                \n",
       "WCSAXES =                    2 / number of World Coordinate System axes         \n",
       "CRPIX1  =                -38.0 / x-coordinate of reference pixel                \n",
       "CRPIX2  =                 74.0 / y-coordinate of reference pixel                \n",
       "CRVAL1  =       102.0798511189 / first axis value at reference pixel            \n",
       "CRVAL2  =   -3.102201447544999 / second axis value at reference pixel           \n",
       "CTYPE1  = 'RA---TAN-SIP'       / the coordinate type for the first axis         \n",
       "CTYPE2  = 'DEC--TAN-SIP'       / the coordinate type for the second axis        \n",
       "CD1_1   = 4.68861567790806E-07 / partial of first axis coordinate w.r.t. x      \n",
       "CD1_2   = -3.3619438354968E-05 / partial of first axis coordinate w.r.t. y      \n",
       "CD2_1   = -3.7627333639820E-05 / partial of second axis coordinate w.r.t. x     \n",
       "CD2_2   = -3.9530809200918E-07 / partial of second axis coordinate w.r.t. y     \n",
       "LTV1    =       -4.4300000E+02 / offset in X to subsection start                \n",
       "LTV2    =       -4.4300000E+02 / offset in Y to subsection start                \n",
       "LTM1_1  =                  1.0 / reciprocal of sampling rate in X               \n",
       "LTM2_2  =                  1.0 / reciprocal of sampling rate in Y               \n",
       "PA_APER =             -90.6366 / Position Angle of reference aperture center (de\n",
       "VAFACTOR=   9.999898062965E-01 / velocity aberration plate scale factor         \n",
       "ORIENTAT=             -90.6366 / position angle of image y axis (deg. e of n)   \n",
       "RA_APER =   1.020798511189E+02 / RA of aperture reference position              \n",
       "DEC_APER=  -3.102201447545E+00 / Declination of aperture reference position     \n",
       "                                                                                \n",
       "              / REPEATED EXPOSURES INFORMATION                                  \n",
       "                                                                                \n",
       "NCOMBINE=                    1 / number of image sets combined during CR rejecti\n",
       "                                                                                \n",
       "              / READOUT DEFINITION PARAMETERS                                   \n",
       "                                                                                \n",
       "CENTERA1=                  513 / subarray axis1 center pt in unbinned dect. pix \n",
       "CENTERA2=                  513 / subarray axis2 center pt in unbinned dect. pix \n",
       "SIZAXIS1=                  138 / subarray axis1 size in unbinned detector pixels\n",
       "SIZAXIS2=                  138 / subarray axis2 size in unbinned detector pixels\n",
       "BINAXIS1=                    1 / axis1 data bin size in unbinned detector pixels\n",
       "BINAXIS2=                    1 / axis2 data bin size in unbinned detector pixels\n",
       "                                                                                \n",
       "              / READOUT PARAMETERS                                              \n",
       "                                                                                \n",
       "SAMPNUM =                   15 / MULTIACCUM sample number                       \n",
       "SAMPTIME=           100.651947 / total integration time (sec)                   \n",
       "DELTATIM=             7.181375 / integration time of this sample (sec)          \n",
       "ROUTTIME=   5.594990832160E+04 / UT time of array readout (MJD)                 \n",
       "TDFTRANS=                    0 / number of TDF transitions during current sample\n",
       "                                                                                \n",
       "              / DATA PACKET INFORMATION                                         \n",
       "                                                                                \n",
       "FILLCNT =                    0 / number of segments containing fill             \n",
       "ERRCNT  =                    0 / number of segments containing errors           \n",
       "PODPSFF =                    F / podps fill present (T/F)                       \n",
       "STDCFFF =                    F / science telemetry fill data present (T=1/F=0)  \n",
       "STDCFFP = '0x5569'             / science telemetry fill pattern (hex)           \n",
       "                                                                                \n",
       "              / IMAGE STATISTICS AND DATA QUALITY FLAGS                         \n",
       "                                                                                \n",
       "NGOODPIX=                15972 / number of good pixels                          \n",
       "SDQFLAGS=                31743 / serious data quality flags                     \n",
       "GOODMIN =        8.1917101E-01 / minimum value of good pixels                   \n",
       "GOODMAX =        8.0752533E+02 / maximum value of good pixels                   \n",
       "GOODMEAN=        1.3349674E+01 / mean value of good pixels                      \n",
       "SNRMIN  =        1.9520858E-01 / minimum signal to noise of good pixels         \n",
       "SNRMAX  =        3.0719912E+00 / maximum signal to noise of good pixels         \n",
       "SNRMEAN =        3.0742168E-01 / mean value of signal to noise of good pixels   \n",
       "SOFTERRS=                    0 / number of soft error pixels (DQF=1)            \n",
       "MEANDARK=       -3.9673743E+00 / average of the dark values subtracted          \n",
       "MEANBLEV=        1.4538948E+04 / average of all bias levels subtracted          \n",
       "RADESYS = 'ICRS    '                                                            \n",
       "OCX10   = 0.000442103888368057                                                  \n",
       "OCX11   =   0.1354690133194842                                                  \n",
       "OCY10   =   0.1210387708842425                                                  \n",
       "OCY11   = -0.00058994281414582                                                  \n",
       "IDCSCALE=   0.1282500028610229                                                  \n",
       "IDCTHETA=                 45.0                                                  \n",
       "IDCXREF =                507.0                                                  \n",
       "IDCYREF =                507.0                                                  \n",
       "IDCV2REF=    1.019000053405762                                                  \n",
       "IDCV3REF=  -0.5070000290870667                                                  \n",
       "WCSNAMEO= 'OPUS    '                                                            \n",
       "WCSAXESO=                    2                                                  \n",
       "CRPIX1O =                -38.0                                                  \n",
       "CRPIX2O =                 74.0                                                  \n",
       "CDELT1O =                  1.0                                                  \n",
       "CDELT2O =                  1.0                                                  \n",
       "CUNIT1O = 'deg     '                                                            \n",
       "CUNIT2O = 'deg     '                                                            \n",
       "CTYPE1O = 'RA---TAN'                                                            \n",
       "CTYPE2O = 'DEC--TAN'                                                            \n",
       "CRVAL1O =       102.0798511189                                                  \n",
       "CRVAL2O =      -3.102201447545                                                  \n",
       "LONPOLEO=                180.0                                                  \n",
       "LATPOLEO=      -3.102201447545                                                  \n",
       "RADESYSO= 'ICRS    '                                                            \n",
       "CD1_1O  =          4.57232E-07                                                  \n",
       "CD1_2O  =         -3.36143E-05                                                  \n",
       "CD2_1O  =         -3.76289E-05                                                  \n",
       "CD2_2O  =          -3.7348E-07                                                  \n",
       "IDCTAB  = 'iref$w3m18525i_idc.fits'                                             \n",
       "B_ORDER =                    4                                                  \n",
       "A_0_2   = 1.24436957691533E-07                                                  \n",
       "B_1_1   = -6.9882854591851E-08                                                  \n",
       "A_1_3   = 5.17581681619967E-13                                                  \n",
       "B_2_0   = 6.89909918315535E-06                                                  \n",
       "A_2_1   = -3.7423319219369E-11                                                  \n",
       "A_2_2   = 2.31317007291978E-14                                                  \n",
       "B_2_2   = -1.7566056803198E-13                                                  \n",
       "A_3_1   = 5.43700294207622E-13                                                  \n",
       "B_2_1   = -3.2881296879495E-10                                                  \n",
       "A_1_1   = 2.43924733089287E-05                                                  \n",
       "B_0_4   = 7.22479057384121E-13                                                  \n",
       "B_3_0   = 2.77138821186727E-10                                                  \n",
       "B_3_1   = 5.68344670220538E-14                                                  \n",
       "A_4_0   = -2.8242271739783E-13                                                  \n",
       "B_0_3   = -2.0384625296622E-10                                                  \n",
       "B_0_2   = 2.98940839850508E-05                                                  \n",
       "B_4_0   = -5.9247559918125E-13                                                  \n",
       "A_3_0   = -1.1634183181317E-10                                                  \n",
       "A_2_0   = -1.6946180848370E-07                                                  \n",
       "B_1_3   = -5.0910265091773E-14                                                  \n",
       "A_ORDER =                    4                                                  \n",
       "B_1_2   = 9.74331884552490E-11                                                  \n",
       "A_1_2   = 3.90969926814345E-11                                                  \n",
       "A_0_4   = -2.0025655222498E-13                                                  \n",
       "A_0_3   = -2.4030733418809E-11                                                  \n",
       "WCSNAME = 'IDC_w3m18525i'                                                       \n",
       "MDRIZSKY=    1.342961339926346 / Sky value computed by AstroDrizzle             "
      ]
     },
     "execution_count": 89,
     "metadata": {},
     "output_type": "execute_result"
    }
   ],
   "source": [
    "from astropy.io import fits\n",
    "head = fits.getheader('/home/kglidic/Software/tser_tools/tshirt/corot1_visit1/ibh717gjq_flt.fits',extname='SCI')\n",
    "head"
   ]
  },
  {
   "cell_type": "code",
   "execution_count": 80,
   "metadata": {},
   "outputs": [],
   "source": [
    "#! /usr/bin/env python\n",
    "\"\"\"calculate RECTE model using a a template grism Image\n",
    "\"\"\"\n",
    "from __future__ import division, absolute_import\n",
    "from __future__ import print_function\n",
    "import numpy as np\n",
    "import itertools\n",
    "\n",
    "import matplotlib.pyplot as plt\n",
    "\n",
    "\n",
    "def RECTE(\n",
    "        cRates,\n",
    "        tExp,\n",
    "        exptime=100.651947,\n",
    "        trap_pop_s=0,\n",
    "        trap_pop_f=0,\n",
    "        dTrap_s=0,\n",
    "        dTrap_f=0,\n",
    "        dt0=0,\n",
    "        lost=0,\n",
    "        mode='staring'\n",
    "):\n",
    "    \"\"\"Hubble Space Telescope ramp effet model\n",
    "\n",
    "    Parameters:\n",
    "    cRates -- intrinsic count rate of each exposures, unit e/s\n",
    "    tExp -- start time of every exposures\n",
    "    expTime -- (default 180 seconds) exposure time of the time series\n",
    "    trap_pop -- (default 0) number of occupied traps at the beginning of the observations\n",
    "    dTrap -- (default [0])number of extra trap added in the gap\n",
    "    between two orbits\n",
    "    dt0 -- (default 0) possible exposures before very beginning, e.g.,\n",
    "    possible guiding adjustment\n",
    "    lost -- (default 0, no lost) proportion of trapped electrons that are not eventually detected\n",
    "    (mode) -- (default scanning, scanning or staring, or others), for scanning mode\n",
    "      observation , the pixel no longer receive photons during the overhead\n",
    "      time, in staring mode, the pixel keps receiving elctrons\n",
    "    \"\"\"\n",
    "    nTrap_s = 2192  # = 1525.38  # 1320.0\n",
    "    eta_trap_s = 0.02075  # = 0.013318  # 0.01311\n",
    "    tau_trap_s = 1.63e4  # = 1.63e4\n",
    "    nTrap_f = 225.7  # = 162.38\n",
    "    eta_trap_f = 0.0116  # = 0.008407\n",
    "    tau_trap_f = 3344  # = 281.463\n",
    "    # nTrap_s = 1525.38  # 1320.0\n",
    "    # eta_trap_s = 0.013318  # 0.01311\n",
    "    # tau_trap_s = 1.63e4\n",
    "    # nTrap_f = 162.38\n",
    "    # eta_trap_f = 0.008407\n",
    "    # tau_trap_f = 281.463\n",
    "\n",
    "    try:\n",
    "        dTrap_f = itertools.cycle(dTrap_f)\n",
    "        dTrap_s = itertools.cycle(dTrap_s)\n",
    "        dt0 = itertools.cycle(dt0)\n",
    "    except TypeError:\n",
    "        dTrap_f = itertools.cycle([dTrap_f])\n",
    "        dTrap_s = itertools.cycle([dTrap_s])\n",
    "        dt0 = itertools.cycle([dt0])\n",
    "    obsCounts = np.zeros(len(tExp))\n",
    "    trap_pop_s = min(trap_pop_s, nTrap_s)\n",
    "    trap_pop_f = min(trap_pop_f, nTrap_f)\n",
    "    dEsList = np.zeros(len(tExp))\n",
    "    dEfList = np.zeros(len(tExp))\n",
    "    dt0_i = next(dt0)\n",
    "    f0 = cRates[0]\n",
    "    c1_s = eta_trap_s * f0 / nTrap_s + 1 / tau_trap_s  # a key factor\n",
    "    c1_f = eta_trap_f * f0 / nTrap_f + 1 / tau_trap_f\n",
    "    dE0_s = (eta_trap_s * f0 / c1_s - trap_pop_s) * (1 - np.exp(-c1_s * dt0_i))\n",
    "    dE0_f = (eta_trap_f * f0 / c1_f - trap_pop_f) * (1 - np.exp(-c1_f * dt0_i))\n",
    "    dE0_s = min(trap_pop_s + dE0_s, nTrap_s) - trap_pop_s\n",
    "    dE0_f = min(trap_pop_f + dE0_f, nTrap_f) - trap_pop_f\n",
    "    trap_pop_s = min(trap_pop_s + dE0_s, nTrap_s)\n",
    "    trap_pop_f = min(trap_pop_f + dE0_f, nTrap_f)\n",
    "    for i in range(len(tExp)):\n",
    "        try:\n",
    "            dt = tExp[i+1] - tExp[i]\n",
    "        except IndexError:\n",
    "            dt = exptime\n",
    "        f_i = cRates[i]\n",
    "        c1_s = eta_trap_s * f_i / nTrap_s + 1 / tau_trap_s  # a key factor\n",
    "        c1_f = eta_trap_f * f_i / nTrap_f + 1 / tau_trap_f\n",
    "        # number of trapped electron during one exposure\n",
    "        dE1_s = (eta_trap_s * f_i / c1_s - trap_pop_s) * (1 - np.exp(-c1_s * exptime))\n",
    "        dE1_f = (eta_trap_f * f_i / c1_f - trap_pop_f) * (1 - np.exp(-c1_f * exptime))\n",
    "        dE1_s = min(trap_pop_s + dE1_s, nTrap_s) - trap_pop_s\n",
    "        dE1_f = min(trap_pop_f + dE1_f, nTrap_f) - trap_pop_f\n",
    "        trap_pop_s = min(trap_pop_s + dE1_s, nTrap_s)\n",
    "        trap_pop_f = min(trap_pop_f + dE1_f, nTrap_f)\n",
    "        obsCounts[i] = f_i * exptime - dE1_s - dE1_f\n",
    "        if dt < 5 * exptime:  # whether next exposure is in next batch of exposures\n",
    "            # same orbits\n",
    "            if mode == 'scanning':\n",
    "                # scanning mode, no incoming flux between exposures\n",
    "                dE2_s = - trap_pop_s * (1 - np.exp(-(dt - exptime)/tau_trap_s))\n",
    "                dE2_f = - trap_pop_f * (1 - np.exp(-(dt - exptime)/tau_trap_f))\n",
    "                dEsList[i] = dE1_s + dE2_s\n",
    "                dEfList[i] = dE1_f + dE2_f\n",
    "            elif mode == 'staring':\n",
    "                # for staring mode, there is flux between exposures\n",
    "                dE2_s = (eta_trap_s * f_i / c1_s - trap_pop_s) * (1 - np.exp(-c1_s * (dt - exptime)))\n",
    "                dE2_f = (eta_trap_f * f_i / c1_f - trap_pop_f) * (1 - np.exp(-c1_f * (dt - exptime)))\n",
    "            else:\n",
    "                # others, same as scanning\n",
    "                dE2_s = - trap_pop_s * (1 - np.exp(-(dt - exptime)/tau_trap_s))\n",
    "                dE2_f = - trap_pop_f * (1 - np.exp(-(dt - exptime)/tau_trap_f))\n",
    "            trap_pop_s = min(trap_pop_s + dE2_s, nTrap_s)\n",
    "            trap_pop_f = min(trap_pop_f + dE2_f, nTrap_f)\n",
    "        elif dt < 1200:\n",
    "            trap_pop_s = min(trap_pop_s * np.exp(-(dt-exptime)/tau_trap_s), nTrap_s)\n",
    "            trap_pop_f = min(trap_pop_f * np.exp(-(dt-exptime)/tau_trap_f), nTrap_f)\n",
    "        else:\n",
    "            # switch orbit\n",
    "            dt0_i = next(dt0)\n",
    "            trap_pop_s = min(trap_pop_s * np.exp(-(dt-exptime-dt0_i)/tau_trap_s) + next(dTrap_s), nTrap_s)\n",
    "            trap_pop_f = min(trap_pop_f * np.exp(-(dt-exptime-dt0_i)/tau_trap_f) + next(dTrap_f), nTrap_f)\n",
    "            f_i = cRates[i + 1]\n",
    "            c1_s = eta_trap_s * f_i / nTrap_s + 1 / tau_trap_s  # a key factor\n",
    "            c1_f = eta_trap_f * f_i / nTrap_f + 1 / tau_trap_f\n",
    "            dE3_s = (eta_trap_s * f_i / c1_s - trap_pop_s) * (1 - np.exp(-c1_s * dt0_i))\n",
    "            dE3_f = (eta_trap_f * f_i / c1_f - trap_pop_f) * (1 - np.exp(-c1_f * dt0_i))\n",
    "            dE3_s = min(trap_pop_s + dE3_s, nTrap_s) - trap_pop_s\n",
    "            dE3_f = min(trap_pop_f + dE3_f, nTrap_f) - trap_pop_f\n",
    "            trap_pop_s = min(trap_pop_s + dE3_s, nTrap_s)\n",
    "            trap_pop_f = min(trap_pop_f + dE3_f, nTrap_f)\n",
    "        trap_pop_s = max(trap_pop_s, 0)\n",
    "        trap_pop_f = max(trap_pop_f, 0)\n",
    "\n",
    "    return obsCounts\n",
    "\n",
    "\n",
    "def RECTEMulti(template,\n",
    "                 variability,\n",
    "                 tExp,\n",
    "                 exptime,\n",
    "                 trap_pop_s=0,\n",
    "                 trap_pop_f=0,\n",
    "                 dTrap_s=0,\n",
    "                 dTrap_f=0,\n",
    "                 dt0=0,\n",
    "                 mode='staring'):\n",
    "    \"\"\"loop through every pixel in the template\n",
    "    calculate for 6 orbit\n",
    "    return\n",
    "    model light curves\n",
    "\n",
    "    template -- a template image of the input sereis\n",
    "    variablities -- normalized model light curves\n",
    "    tExp -- starting times of each exposure of the time resolved observations\n",
    "    trap_pop_s -- (default=0)number of initially occupied traps -- slow poplulation\n",
    "    trap_pop_f -- number of initially occupied traps -- fast poplulation\n",
    "    dTrap_s -- (default=0, can be either number or list) number of extra\n",
    "        trapped charge carriers added in the middle of two orbits\n",
    "        -- slow population. If it is a number, it assumes that all\n",
    "        the extra added trap charge carriers are the same\n",
    "    dTrap_f -- (default=0, can be either number or list) number of extra\n",
    "         trapped charge carriers added in the middle of two orbits\n",
    "        -- fast population. If it is a number, it assumes that all\n",
    "        the extra added trap charge carriers are the same\n",
    "    \"\"\"\n",
    "    specShape = template.shape\n",
    "    outSpec = np.zeros((specShape[0], len(tExp)))\n",
    "    for i in range(specShape[0]):\n",
    "        outSpec[i, :] = RECTE(\n",
    "            variability * template[i],\n",
    "            tExp,\n",
    "            exptime,\n",
    "            trap_pop_s,\n",
    "            trap_pop_f,\n",
    "            dTrap_s=dTrap_s,\n",
    "            dTrap_f=dTrap_f,\n",
    "            dt0=dt0,\n",
    "            lost=0,\n",
    "            mode=mode)\n",
    "    return np.sum(outSpec, axis=(0))"
   ]
  },
  {
   "cell_type": "code",
   "execution_count": 83,
   "metadata": {},
   "outputs": [
    {
     "data": {
      "text/plain": [
       "array([0.0e+00, 1.0e-09, 2.0e-09, 3.0e-09, 4.0e-09, 5.0e-09, 6.0e-09,\n",
       "       7.0e-09, 8.0e-09, 9.0e-09, 1.0e-08, 1.1e-08, 1.2e-08, 1.3e-08,\n",
       "       1.4e-08, 1.5e-08, 1.6e-08, 1.7e-08, 1.8e-08, 1.9e-08, 2.0e-08,\n",
       "       2.1e-08, 2.2e-08, 2.3e-08, 2.4e-08, 2.5e-08, 2.6e-08, 2.7e-08,\n",
       "       2.8e-08, 2.9e-08, 3.0e-08, 3.1e-08, 3.2e-08, 3.3e-08, 3.4e-08,\n",
       "       3.5e-08, 3.6e-08, 3.7e-08, 3.8e-08, 3.9e-08, 4.0e-08, 4.1e-08,\n",
       "       4.2e-08, 4.3e-08, 4.4e-08, 4.5e-08, 4.6e-08, 4.7e-08, 4.8e-08,\n",
       "       4.9e-08, 5.0e-08, 5.1e-08, 5.2e-08, 5.3e-08, 5.4e-08, 5.5e-08,\n",
       "       5.6e-08, 5.7e-08, 5.8e-08, 5.9e-08, 6.0e-08, 6.1e-08, 6.2e-08,\n",
       "       6.3e-08, 6.4e-08, 6.5e-08, 6.6e-08, 6.7e-08, 6.8e-08, 6.9e-08,\n",
       "       7.0e-08, 7.1e-08, 7.2e-08, 7.3e-08, 7.4e-08, 7.5e-08, 7.6e-08,\n",
       "       7.7e-08, 7.8e-08, 7.9e-08, 8.0e-08, 8.1e-08, 8.2e-08, 8.3e-08,\n",
       "       8.4e-08, 8.5e-08, 8.6e-08, 8.7e-08, 8.8e-08, 8.9e-08, 9.0e-08,\n",
       "       9.1e-08, 9.2e-08, 9.3e-08, 9.4e-08, 9.5e-08, 9.6e-08, 9.7e-08],\n",
       "      dtype=float32)"
      ]
     },
     "execution_count": 83,
     "metadata": {},
     "output_type": "execute_result"
    }
   ],
   "source": [
    "tExp"
   ]
  },
  {
   "cell_type": "code",
   "execution_count": 106,
   "metadata": {},
   "outputs": [
    {
     "ename": "TypeError",
     "evalue": "list indices must be integers or slices, not str",
     "output_type": "error",
     "traceback": [
      "\u001b[0;31m---------------------------------------------------------------------------\u001b[0m",
      "\u001b[0;31mTypeError\u001b[0m                                 Traceback (most recent call last)",
      "\u001b[0;32m<ipython-input-106-72c543c9c487>\u001b[0m in \u001b[0;36m<module>\u001b[0;34m\u001b[0m\n\u001b[1;32m      1\u001b[0m \u001b[0;32mfrom\u001b[0m \u001b[0mastropy\u001b[0m\u001b[0;34m.\u001b[0m\u001b[0mtable\u001b[0m \u001b[0;32mimport\u001b[0m \u001b[0mTable\u001b[0m\u001b[0;34m\u001b[0m\u001b[0;34m\u001b[0m\u001b[0m\n\u001b[1;32m      2\u001b[0m \u001b[0;32mfrom\u001b[0m \u001b[0mastropy\u001b[0m\u001b[0;34m.\u001b[0m\u001b[0mtime\u001b[0m \u001b[0;32mimport\u001b[0m \u001b[0mTime\u001b[0m\u001b[0;34m\u001b[0m\u001b[0;34m\u001b[0m\u001b[0m\n\u001b[0;32m----> 3\u001b[0;31m \u001b[0mtime_visit1\u001b[0m \u001b[0;34m=\u001b[0m \u001b[0mTime\u001b[0m\u001b[0;34m(\u001b[0m\u001b[0mresult\u001b[0m\u001b[0;34m[\u001b[0m\u001b[0;34m'Time'\u001b[0m\u001b[0;34m]\u001b[0m\u001b[0;34m,\u001b[0m\u001b[0mformat\u001b[0m\u001b[0;34m=\u001b[0m\u001b[0;34m'jd'\u001b[0m\u001b[0;34m)\u001b[0m\u001b[0;34m\u001b[0m\u001b[0;34m\u001b[0m\u001b[0m\n\u001b[0m\u001b[1;32m      4\u001b[0m \u001b[0mresult\u001b[0m\u001b[0;34m[\u001b[0m\u001b[0;34m'Time (UTC)'\u001b[0m\u001b[0;34m]\u001b[0m \u001b[0;34m=\u001b[0m \u001b[0mtime_visit1\u001b[0m\u001b[0;34m.\u001b[0m\u001b[0mfits\u001b[0m\u001b[0;34m\u001b[0m\u001b[0;34m\u001b[0m\u001b[0m\n\u001b[1;32m      5\u001b[0m \u001b[0mresult\u001b[0m\u001b[0;34m[\u001b[0m\u001b[0;34m'Time'\u001b[0m\u001b[0;34m]\u001b[0m \u001b[0;34m=\u001b[0m \u001b[0mtime_visit1\u001b[0m\u001b[0;34m.\u001b[0m\u001b[0mjd\u001b[0m\u001b[0;34m\u001b[0m\u001b[0;34m\u001b[0m\u001b[0m\n",
      "\u001b[0;31mTypeError\u001b[0m: list indices must be integers or slices, not str"
     ]
    }
   ],
   "source": [
    "df = pd.DataFrame(result[0][0]['Time'])\n",
    "corot1_visit1_files = os.listdir('/home/kglidic/Software/tser_tools/tshirt/corot1_visit1/')\n",
    "#remove the direct image from this array\n",
    "corot1_visit1_files.remove('ibh717giq_flt.fits')\n",
    "df1 =pd.DataFrame(corot1_visit1_files,columns = ['orbit'])\n"
   ]
  },
  {
   "cell_type": "code",
   "execution_count": 76,
   "metadata": {},
   "outputs": [],
   "source": [
    "expTime=np.full((98, 1), 100.651947, dtype=np.float64)\n",
    "df2 = pd.DataFrame(expTime,columns = ['Exp Time'])\n",
    "Filter = np.full((98,1), 'G141')\n",
    "df3 = pd.DataFrame(Filter,columns = ['Filter'])\n",
    "orbit1 = np.full((23,1), 0, dtype=np.float64)\n",
    "orbit2 = np.full((25,1), 1, dtype=np.float64)\n",
    "orbit3 = np.full((25,1),2,dtype=np.float64)\n",
    "orbit4 = np.full((25,1),3,dtype=np.float64)\n",
    "orbits_visit1 = (orbit1,orbit2,orbit3,orbit4)\n",
    "orbits_visit1 = np.concatenate(orbits_visit1)\n",
    "df4 = pd.DataFrame(orbits_visit1,columns = ['orbit'])"
   ]
  },
  {
   "cell_type": "code",
   "execution_count": 77,
   "metadata": {
    "scrolled": false
   },
   "outputs": [
    {
     "data": {
      "text/html": [
       "<div>\n",
       "<style scoped>\n",
       "    .dataframe tbody tr th:only-of-type {\n",
       "        vertical-align: middle;\n",
       "    }\n",
       "\n",
       "    .dataframe tbody tr th {\n",
       "        vertical-align: top;\n",
       "    }\n",
       "\n",
       "    .dataframe thead th {\n",
       "        text-align: right;\n",
       "    }\n",
       "</style>\n",
       "<table border=\"1\" class=\"dataframe\">\n",
       "  <thead>\n",
       "    <tr style=\"text-align: right;\">\n",
       "      <th></th>\n",
       "      <th>Time</th>\n",
       "      <th>file names</th>\n",
       "      <th>Exp Time</th>\n",
       "      <th>Filter</th>\n",
       "      <th>orbit</th>\n",
       "    </tr>\n",
       "  </thead>\n",
       "  <tbody>\n",
       "    <tr>\n",
       "      <th>0</th>\n",
       "      <td>2.455950e+06</td>\n",
       "      <td>ibh717gjq_flt.fits</td>\n",
       "      <td>100.651947</td>\n",
       "      <td>G141</td>\n",
       "      <td>0.0</td>\n",
       "    </tr>\n",
       "    <tr>\n",
       "      <th>1</th>\n",
       "      <td>2.455950e+06</td>\n",
       "      <td>ibh717gkq_flt.fits</td>\n",
       "      <td>100.651947</td>\n",
       "      <td>G141</td>\n",
       "      <td>0.0</td>\n",
       "    </tr>\n",
       "    <tr>\n",
       "      <th>2</th>\n",
       "      <td>2.455950e+06</td>\n",
       "      <td>ibh717glq_flt.fits</td>\n",
       "      <td>100.651947</td>\n",
       "      <td>G141</td>\n",
       "      <td>0.0</td>\n",
       "    </tr>\n",
       "    <tr>\n",
       "      <th>3</th>\n",
       "      <td>2.455950e+06</td>\n",
       "      <td>ibh717gmq_flt.fits</td>\n",
       "      <td>100.651947</td>\n",
       "      <td>G141</td>\n",
       "      <td>0.0</td>\n",
       "    </tr>\n",
       "    <tr>\n",
       "      <th>4</th>\n",
       "      <td>2.455950e+06</td>\n",
       "      <td>ibh717gnq_flt.fits</td>\n",
       "      <td>100.651947</td>\n",
       "      <td>G141</td>\n",
       "      <td>0.0</td>\n",
       "    </tr>\n",
       "    <tr>\n",
       "      <th>...</th>\n",
       "      <td>...</td>\n",
       "      <td>...</td>\n",
       "      <td>...</td>\n",
       "      <td>...</td>\n",
       "      <td>...</td>\n",
       "    </tr>\n",
       "    <tr>\n",
       "      <th>93</th>\n",
       "      <td>2.455951e+06</td>\n",
       "      <td>ibh717klq_flt.fits</td>\n",
       "      <td>100.651947</td>\n",
       "      <td>G141</td>\n",
       "      <td>3.0</td>\n",
       "    </tr>\n",
       "    <tr>\n",
       "      <th>94</th>\n",
       "      <td>2.455951e+06</td>\n",
       "      <td>ibh717kmq_flt.fits</td>\n",
       "      <td>100.651947</td>\n",
       "      <td>G141</td>\n",
       "      <td>3.0</td>\n",
       "    </tr>\n",
       "    <tr>\n",
       "      <th>95</th>\n",
       "      <td>2.455951e+06</td>\n",
       "      <td>ibh717knq_flt.fits</td>\n",
       "      <td>100.651947</td>\n",
       "      <td>G141</td>\n",
       "      <td>3.0</td>\n",
       "    </tr>\n",
       "    <tr>\n",
       "      <th>96</th>\n",
       "      <td>2.455951e+06</td>\n",
       "      <td>ibh717koq_flt.fits</td>\n",
       "      <td>100.651947</td>\n",
       "      <td>G141</td>\n",
       "      <td>3.0</td>\n",
       "    </tr>\n",
       "    <tr>\n",
       "      <th>97</th>\n",
       "      <td>2.455951e+06</td>\n",
       "      <td>ibh717kpq_flt.fits</td>\n",
       "      <td>100.651947</td>\n",
       "      <td>G141</td>\n",
       "      <td>3.0</td>\n",
       "    </tr>\n",
       "  </tbody>\n",
       "</table>\n",
       "<p>98 rows × 5 columns</p>\n",
       "</div>"
      ],
      "text/plain": [
       "            Time          file names    Exp Time Filter  orbit\n",
       "0   2.455950e+06  ibh717gjq_flt.fits  100.651947   G141    0.0\n",
       "1   2.455950e+06  ibh717gkq_flt.fits  100.651947   G141    0.0\n",
       "2   2.455950e+06  ibh717glq_flt.fits  100.651947   G141    0.0\n",
       "3   2.455950e+06  ibh717gmq_flt.fits  100.651947   G141    0.0\n",
       "4   2.455950e+06  ibh717gnq_flt.fits  100.651947   G141    0.0\n",
       "..           ...                 ...         ...    ...    ...\n",
       "93  2.455951e+06  ibh717klq_flt.fits  100.651947   G141    3.0\n",
       "94  2.455951e+06  ibh717kmq_flt.fits  100.651947   G141    3.0\n",
       "95  2.455951e+06  ibh717knq_flt.fits  100.651947   G141    3.0\n",
       "96  2.455951e+06  ibh717koq_flt.fits  100.651947   G141    3.0\n",
       "97  2.455951e+06  ibh717kpq_flt.fits  100.651947   G141    3.0\n",
       "\n",
       "[98 rows x 5 columns]"
      ]
     },
     "execution_count": 77,
     "metadata": {},
     "output_type": "execute_result"
    }
   ],
   "source": [
    "data = [df,df1,df2,df3,df4]\n",
    "corot1= pd.concat(data,axis=1)\n",
    "corot1.to_csv('corot1EXAMPLERECTE.csv')\n",
    "corot1"
   ]
  },
  {
   "cell_type": "code",
   "execution_count": 84,
   "metadata": {},
   "outputs": [
    {
     "data": {
      "image/png": "[encoded data removed]",
      "text/plain": [
       "<Figure size 432x288 with 1 Axes>"
      ]
     },
     "metadata": {
      "needs_background": "light"
     },
     "output_type": "display_data"
    }
   ],
   "source": [
    "if __name__ == '__main__':\n",
    "    import pandas as pd\n",
    "    from astropy.io import fits\n",
    "    import pickle\n",
    "    info = pd.read_csv(\n",
    "        'corot1EXAMPLERECTE.csv',\n",
    "        parse_dates=True,\n",
    "        index_col='Datetime')\n",
    "    info['Time'] = np.float32(info.index - info.index.values[0]) / 1e9\n",
    "    grismInfo = info[info['Filter'] == 'G141']\n",
    "    exptime = grismInfo['Exp Time'].values[0]\n",
    "    tExp = grismInfo['Time'].values\n",
    "    tExp = tExp - tExp[0]\n",
    "    # cRates = np.ones(len(LC)) * LC.mean() * 1.002\n",
    "    cRates = np.ones(len(tExp))\n",
    "    variability = cRates / cRates.mean()\n",
    "    fig = plt.figure()\n",
    "    ax = fig.add_subplot(111)\n",
    "    im = fits.getdata('./MedianImage.fits')\n",
    "    bbox = [5, 181, 174, 196]  # define the bounding box of the area of interest\n",
    "    xList = np.arange(bbox[0], bbox[1])\n",
    "    ramps = np.zeros((len(xList), len(tExp)))\n",
    "    dTrap_fList = [0]\n",
    "    dTrap_sList = [0]\n",
    "    dtList = [0]\n",
    "    full_well = 8e4\n",
    "    for i, x in enumerate(xList):\n",
    "        template = im[bbox[2]:bbox[3], x]\n",
    "        for j, flux in enumerate(template):\n",
    "            if flux * exptime > full_well:\n",
    "                template[j] = full_well / exptime\n",
    "\n",
    "        obs = RECTEMulti(template, variability, tExp, exptime,\n",
    "                         dTrap_f=dTrap_fList,\n",
    "                         dTrap_s=dTrap_sList,\n",
    "                         trap_pop_f=0,\n",
    "                         trap_pop_s=0,\n",
    "                         dt0=dtList,\n",
    "                         mode='staring')\n",
    "        obs = obs / exptime / np.nansum(template)\n",
    "        # ax.plot(tExp, obs, '.', color='0.8', ms=1)\n",
    "        ramps[i, :] = obs\n",
    "    ax.plot(tExp, ramps[30, :], '.')\n",
    "    plt.show()"
   ]
  },
  {
   "cell_type": "code",
   "execution_count": null,
   "metadata": {},
   "outputs": [],
   "source": []
  }
 ],
 "metadata": {
  "kernelspec": {
   "display_name": "Python 3",
   "language": "python",
   "name": "python3"
  },
  "language_info": {
   "codemirror_mode": {
    "name": "ipython",
    "version": 3
   },
   "file_extension": ".py",
   "mimetype": "text/x-python",
   "name": "python",
   "nbconvert_exporter": "python",
   "pygments_lexer": "ipython3",
   "version": "3.6.10"
  }
 },
 "nbformat": 4,
 "nbformat_minor": 4
}

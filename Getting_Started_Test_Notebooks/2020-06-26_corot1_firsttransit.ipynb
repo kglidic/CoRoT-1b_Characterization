{
 "cells": [
  {
   "cell_type": "markdown",
   "metadata": {},
   "source": [
    "# Import Library"
   ]
  },
  {
   "cell_type": "code",
   "execution_count": 1,
   "metadata": {},
   "outputs": [
    {
     "data": {
      "text/html": [
       "\n",
       "    <div class=\"bk-root\">\n",
       "        <a href=\"https://bokeh.org\" target=\"_blank\" class=\"bk-logo bk-logo-small bk-logo-notebook\"></a>\n",
       "        <span id=\"1001\">Loading BokehJS ...</span>\n",
       "    </div>"
      ]
     },
     "metadata": {},
     "output_type": "display_data"
    },
    {
     "data": {
      "application/javascript": [
       "\n",
       "(function(root) {\n",
       "  function now() {\n",
       "    return new Date();\n",
       "  }\n",
       "\n",
       "  var force = true;\n",
       "\n",
       "  if (typeof root._bokeh_onload_callbacks === \"undefined\" || force === true) {\n",
       "    root._bokeh_onload_callbacks = [];\n",
       "    root._bokeh_is_loading = undefined;\n",
       "  }\n",
       "\n",
       "  var JS_MIME_TYPE = 'application/javascript';\n",
       "  var HTML_MIME_TYPE = 'text/html';\n",
       "  var EXEC_MIME_TYPE = 'application/vnd.bokehjs_exec.v0+json';\n",
       "  var CLASS_NAME = 'output_bokeh rendered_html';\n",
       "\n",
       "  /**\n",
       "   * Render data to the DOM node\n",
       "   */\n",
       "  function render(props, node) {\n",
       "    var script = document.createElement(\"script\");\n",
       "    node.appendChild(script);\n",
       "  }\n",
       "\n",
       "  /**\n",
       "   * Handle when an output is cleared or removed\n",
       "   */\n",
       "  function handleClearOutput(event, handle) {\n",
       "    var cell = handle.cell;\n",
       "\n",
       "    var id = cell.output_area._bokeh_element_id;\n",
       "    var server_id = cell.output_area._bokeh_server_id;\n",
       "    // Clean up Bokeh references\n",
       "    if (id != null && id in Bokeh.index) {\n",
       "      Bokeh.index[id].model.document.clear();\n",
       "      delete Bokeh.index[id];\n",
       "    }\n",
       "\n",
       "    if (server_id !== undefined) {\n",
       "      // Clean up Bokeh references\n",
       "      var cmd = \"from bokeh.io.state import curstate; print(curstate().uuid_to_server['\" + server_id + \"'].get_sessions()[0].document.roots[0]._id)\";\n",
       "      cell.notebook.kernel.execute(cmd, {\n",
       "        iopub: {\n",
       "          output: function(msg) {\n",
       "            var id = msg.content.text.trim();\n",
       "            if (id in Bokeh.index) {\n",
       "              Bokeh.index[id].model.document.clear();\n",
       "              delete Bokeh.index[id];\n",
       "            }\n",
       "          }\n",
       "        }\n",
       "      });\n",
       "      // Destroy server and session\n",
       "      var cmd = \"import bokeh.io.notebook as ion; ion.destroy_server('\" + server_id + \"')\";\n",
       "      cell.notebook.kernel.execute(cmd);\n",
       "    }\n",
       "  }\n",
       "\n",
       "  /**\n",
       "   * Handle when a new output is added\n",
       "   */\n",
       "  function handleAddOutput(event, handle) {\n",
       "    var output_area = handle.output_area;\n",
       "    var output = handle.output;\n",
       "\n",
       "    // limit handleAddOutput to display_data with EXEC_MIME_TYPE content only\n",
       "    if ((output.output_type != \"display_data\") || (!output.data.hasOwnProperty(EXEC_MIME_TYPE))) {\n",
       "      return\n",
       "    }\n",
       "\n",
       "    var toinsert = output_area.element.find(\".\" + CLASS_NAME.split(' ')[0]);\n",
       "\n",
       "    if (output.metadata[EXEC_MIME_TYPE][\"id\"] !== undefined) {\n",
       "      toinsert[toinsert.length - 1].firstChild.textContent = output.data[JS_MIME_TYPE];\n",
       "      // store reference to embed id on output_area\n",
       "      output_area._bokeh_element_id = output.metadata[EXEC_MIME_TYPE][\"id\"];\n",
       "    }\n",
       "    if (output.metadata[EXEC_MIME_TYPE][\"server_id\"] !== undefined) {\n",
       "      var bk_div = document.createElement(\"div\");\n",
       "      bk_div.innerHTML = output.data[HTML_MIME_TYPE];\n",
       "      var script_attrs = bk_div.children[0].attributes;\n",
       "      for (var i = 0; i < script_attrs.length; i++) {\n",
       "        toinsert[toinsert.length - 1].firstChild.setAttribute(script_attrs[i].name, script_attrs[i].value);\n",
       "        toinsert[toinsert.length - 1].firstChild.textContent = bk_div.children[0].textContent\n",
       "      }\n",
       "      // store reference to server id on output_area\n",
       "      output_area._bokeh_server_id = output.metadata[EXEC_MIME_TYPE][\"server_id\"];\n",
       "    }\n",
       "  }\n",
       "\n",
       "  function register_renderer(events, OutputArea) {\n",
       "\n",
       "    function append_mime(data, metadata, element) {\n",
       "      // create a DOM node to render to\n",
       "      var toinsert = this.create_output_subarea(\n",
       "        metadata,\n",
       "        CLASS_NAME,\n",
       "        EXEC_MIME_TYPE\n",
       "      );\n",
       "      this.keyboard_manager.register_events(toinsert);\n",
       "      // Render to node\n",
       "      var props = {data: data, metadata: metadata[EXEC_MIME_TYPE]};\n",
       "      render(props, toinsert[toinsert.length - 1]);\n",
       "      element.append(toinsert);\n",
       "      return toinsert\n",
       "    }\n",
       "\n",
       "    /* Handle when an output is cleared or removed */\n",
       "    events.on('clear_output.CodeCell', handleClearOutput);\n",
       "    events.on('delete.Cell', handleClearOutput);\n",
       "\n",
       "    /* Handle when a new output is added */\n",
       "    events.on('output_added.OutputArea', handleAddOutput);\n",
       "\n",
       "    /**\n",
       "     * Register the mime type and append_mime function with output_area\n",
       "     */\n",
       "    OutputArea.prototype.register_mime_type(EXEC_MIME_TYPE, append_mime, {\n",
       "      /* Is output safe? */\n",
       "      safe: true,\n",
       "      /* Index of renderer in `output_area.display_order` */\n",
       "      index: 0\n",
       "    });\n",
       "  }\n",
       "\n",
       "  // register the mime type if in Jupyter Notebook environment and previously unregistered\n",
       "  if (root.Jupyter !== undefined) {\n",
       "    var events = require('base/js/events');\n",
       "    var OutputArea = require('notebook/js/outputarea').OutputArea;\n",
       "\n",
       "    if (OutputArea.prototype.mime_types().indexOf(EXEC_MIME_TYPE) == -1) {\n",
       "      register_renderer(events, OutputArea);\n",
       "    }\n",
       "  }\n",
       "\n",
       "  \n",
       "  if (typeof (root._bokeh_timeout) === \"undefined\" || force === true) {\n",
       "    root._bokeh_timeout = Date.now() + 5000;\n",
       "    root._bokeh_failed_load = false;\n",
       "  }\n",
       "\n",
       "  var NB_LOAD_WARNING = {'data': {'text/html':\n",
       "     \"<div style='background-color: #fdd'>\\n\"+\n",
       "     \"<p>\\n\"+\n",
       "     \"BokehJS does not appear to have successfully loaded. If loading BokehJS from CDN, this \\n\"+\n",
       "     \"may be due to a slow or bad network connection. Possible fixes:\\n\"+\n",
       "     \"</p>\\n\"+\n",
       "     \"<ul>\\n\"+\n",
       "     \"<li>re-rerun `output_notebook()` to attempt to load from CDN again, or</li>\\n\"+\n",
       "     \"<li>use INLINE resources instead, as so:</li>\\n\"+\n",
       "     \"</ul>\\n\"+\n",
       "     \"<code>\\n\"+\n",
       "     \"from bokeh.resources import INLINE\\n\"+\n",
       "     \"output_notebook(resources=INLINE)\\n\"+\n",
       "     \"</code>\\n\"+\n",
       "     \"</div>\"}};\n",
       "\n",
       "  function display_loaded() {\n",
       "    var el = document.getElementById(\"1001\");\n",
       "    if (el != null) {\n",
       "      el.textContent = \"BokehJS is loading...\";\n",
       "    }\n",
       "    if (root.Bokeh !== undefined) {\n",
       "      if (el != null) {\n",
       "        el.textContent = \"BokehJS \" + root.Bokeh.version + \" successfully loaded.\";\n",
       "      }\n",
       "    } else if (Date.now() < root._bokeh_timeout) {\n",
       "      setTimeout(display_loaded, 100)\n",
       "    }\n",
       "  }\n",
       "\n",
       "\n",
       "  function run_callbacks() {\n",
       "    try {\n",
       "      root._bokeh_onload_callbacks.forEach(function(callback) {\n",
       "        if (callback != null)\n",
       "          callback();\n",
       "      });\n",
       "    } finally {\n",
       "      delete root._bokeh_onload_callbacks\n",
       "    }\n",
       "    console.debug(\"Bokeh: all callbacks have finished\");\n",
       "  }\n",
       "\n",
       "  function load_libs(css_urls, js_urls, callback) {\n",
       "    if (css_urls == null) css_urls = [];\n",
       "    if (js_urls == null) js_urls = [];\n",
       "\n",
       "    root._bokeh_onload_callbacks.push(callback);\n",
       "    if (root._bokeh_is_loading > 0) {\n",
       "      console.debug(\"Bokeh: BokehJS is being loaded, scheduling callback at\", now());\n",
       "      return null;\n",
       "    }\n",
       "    if (js_urls == null || js_urls.length === 0) {\n",
       "      run_callbacks();\n",
       "      return null;\n",
       "    }\n",
       "    console.debug(\"Bokeh: BokehJS not loaded, scheduling load and callback at\", now());\n",
       "    root._bokeh_is_loading = css_urls.length + js_urls.length;\n",
       "\n",
       "    function on_load() {\n",
       "      root._bokeh_is_loading--;\n",
       "      if (root._bokeh_is_loading === 0) {\n",
       "        console.debug(\"Bokeh: all BokehJS libraries/stylesheets loaded\");\n",
       "        run_callbacks()\n",
       "      }\n",
       "    }\n",
       "\n",
       "    function on_error() {\n",
       "      console.error(\"failed to load \" + url);\n",
       "    }\n",
       "\n",
       "    for (var i = 0; i < css_urls.length; i++) {\n",
       "      var url = css_urls[i];\n",
       "      const element = document.createElement(\"link\");\n",
       "      element.onload = on_load;\n",
       "      element.onerror = on_error;\n",
       "      element.rel = \"stylesheet\";\n",
       "      element.type = \"text/css\";\n",
       "      element.href = url;\n",
       "      console.debug(\"Bokeh: injecting link tag for BokehJS stylesheet: \", url);\n",
       "      document.body.appendChild(element);\n",
       "    }\n",
       "\n",
       "    const hashes = {\"https://cdn.bokeh.org/bokeh/release/bokeh-2.1.0.min.js\": \"YobFyzPeVUsFQydHkJGsJL1kyfHnWxOlPc3EwaV22TmBaeGoXHLWx5aRRVPS9xlE\", \"https://cdn.bokeh.org/bokeh/release/bokeh-widgets-2.1.0.min.js\": \"NuAg9+TcTQQqvQCTtkCneRrpkTiMhhfiq0KHiBzx8ECiKiLWXHN6i6ia3q7b3eHu\", \"https://cdn.bokeh.org/bokeh/release/bokeh-tables-2.1.0.min.js\": \"uMVqQc8JqHitD67bXTn9a06Mrk3EiHRaZ18EJENQenAKJ/KL71SakdXYomZQpGRr\", \"https://cdn.bokeh.org/bokeh/release/bokeh-gl-2.1.0.min.js\": \"u+eGuEXC8aw0VSCm2mH+b/tQEAitUOYiR1H6SuIVEdUmXsf4vN8m/SmXpmjb7U/X\"};\n",
       "\n",
       "    for (var i = 0; i < js_urls.length; i++) {\n",
       "      var url = js_urls[i];\n",
       "      var element = document.createElement('script');\n",
       "      element.onload = on_load;\n",
       "      element.onerror = on_error;\n",
       "      element.async = false;\n",
       "      element.src = url;\n",
       "      if (url in hashes) {\n",
       "        element.crossOrigin = \"anonymous\";\n",
       "        element.integrity = \"sha384-\" + hashes[url];\n",
       "      }\n",
       "      console.debug(\"Bokeh: injecting script tag for BokehJS library: \", url);\n",
       "      document.head.appendChild(element);\n",
       "    }\n",
       "  };\n",
       "\n",
       "  function inject_raw_css(css) {\n",
       "    const element = document.createElement(\"style\");\n",
       "    element.appendChild(document.createTextNode(css));\n",
       "    document.body.appendChild(element);\n",
       "  }\n",
       "\n",
       "  \n",
       "  var js_urls = [\"https://cdn.bokeh.org/bokeh/release/bokeh-2.1.0.min.js\", \"https://cdn.bokeh.org/bokeh/release/bokeh-widgets-2.1.0.min.js\", \"https://cdn.bokeh.org/bokeh/release/bokeh-tables-2.1.0.min.js\", \"https://cdn.bokeh.org/bokeh/release/bokeh-gl-2.1.0.min.js\"];\n",
       "  var css_urls = [];\n",
       "  \n",
       "\n",
       "  var inline_js = [\n",
       "    function(Bokeh) {\n",
       "      Bokeh.set_log_level(\"info\");\n",
       "    },\n",
       "    function(Bokeh) {\n",
       "    \n",
       "    \n",
       "    }\n",
       "  ];\n",
       "\n",
       "  function run_inline_js() {\n",
       "    \n",
       "    if (root.Bokeh !== undefined || force === true) {\n",
       "      \n",
       "    for (var i = 0; i < inline_js.length; i++) {\n",
       "      inline_js[i].call(root, root.Bokeh);\n",
       "    }\n",
       "    if (force === true) {\n",
       "        display_loaded();\n",
       "      }} else if (Date.now() < root._bokeh_timeout) {\n",
       "      setTimeout(run_inline_js, 100);\n",
       "    } else if (!root._bokeh_failed_load) {\n",
       "      console.log(\"Bokeh: BokehJS failed to load within specified timeout.\");\n",
       "      root._bokeh_failed_load = true;\n",
       "    } else if (force !== true) {\n",
       "      var cell = $(document.getElementById(\"1001\")).parents('.cell').data().cell;\n",
       "      cell.output_area.append_execute_result(NB_LOAD_WARNING)\n",
       "    }\n",
       "\n",
       "  }\n",
       "\n",
       "  if (root._bokeh_is_loading === 0) {\n",
       "    console.debug(\"Bokeh: BokehJS loaded, going straight to plotting\");\n",
       "    run_inline_js();\n",
       "  } else {\n",
       "    load_libs(css_urls, js_urls, function() {\n",
       "      console.debug(\"Bokeh: BokehJS plotting callback run at\", now());\n",
       "      run_inline_js();\n",
       "    });\n",
       "  }\n",
       "}(window));"
      ],
      "application/vnd.bokehjs_load.v0+json": "\n(function(root) {\n  function now() {\n    return new Date();\n  }\n\n  var force = true;\n\n  if (typeof root._bokeh_onload_callbacks === \"undefined\" || force === true) {\n    root._bokeh_onload_callbacks = [];\n    root._bokeh_is_loading = undefined;\n  }\n\n  \n\n  \n  if (typeof (root._bokeh_timeout) === \"undefined\" || force === true) {\n    root._bokeh_timeout = Date.now() + 5000;\n    root._bokeh_failed_load = false;\n  }\n\n  var NB_LOAD_WARNING = {'data': {'text/html':\n     \"<div style='background-color: #fdd'>\\n\"+\n     \"<p>\\n\"+\n     \"BokehJS does not appear to have successfully loaded. If loading BokehJS from CDN, this \\n\"+\n     \"may be due to a slow or bad network connection. Possible fixes:\\n\"+\n     \"</p>\\n\"+\n     \"<ul>\\n\"+\n     \"<li>re-rerun `output_notebook()` to attempt to load from CDN again, or</li>\\n\"+\n     \"<li>use INLINE resources instead, as so:</li>\\n\"+\n     \"</ul>\\n\"+\n     \"<code>\\n\"+\n     \"from bokeh.resources import INLINE\\n\"+\n     \"output_notebook(resources=INLINE)\\n\"+\n     \"</code>\\n\"+\n     \"</div>\"}};\n\n  function display_loaded() {\n    var el = document.getElementById(\"1001\");\n    if (el != null) {\n      el.textContent = \"BokehJS is loading...\";\n    }\n    if (root.Bokeh !== undefined) {\n      if (el != null) {\n        el.textContent = \"BokehJS \" + root.Bokeh.version + \" successfully loaded.\";\n      }\n    } else if (Date.now() < root._bokeh_timeout) {\n      setTimeout(display_loaded, 100)\n    }\n  }\n\n\n  function run_callbacks() {\n    try {\n      root._bokeh_onload_callbacks.forEach(function(callback) {\n        if (callback != null)\n          callback();\n      });\n    } finally {\n      delete root._bokeh_onload_callbacks\n    }\n    console.debug(\"Bokeh: all callbacks have finished\");\n  }\n\n  function load_libs(css_urls, js_urls, callback) {\n    if (css_urls == null) css_urls = [];\n    if (js_urls == null) js_urls = [];\n\n    root._bokeh_onload_callbacks.push(callback);\n    if (root._bokeh_is_loading > 0) {\n      console.debug(\"Bokeh: BokehJS is being loaded, scheduling callback at\", now());\n      return null;\n    }\n    if (js_urls == null || js_urls.length === 0) {\n      run_callbacks();\n      return null;\n    }\n    console.debug(\"Bokeh: BokehJS not loaded, scheduling load and callback at\", now());\n    root._bokeh_is_loading = css_urls.length + js_urls.length;\n\n    function on_load() {\n      root._bokeh_is_loading--;\n      if (root._bokeh_is_loading === 0) {\n        console.debug(\"Bokeh: all BokehJS libraries/stylesheets loaded\");\n        run_callbacks()\n      }\n    }\n\n    function on_error() {\n      console.error(\"failed to load \" + url);\n    }\n\n    for (var i = 0; i < css_urls.length; i++) {\n      var url = css_urls[i];\n      const element = document.createElement(\"link\");\n      element.onload = on_load;\n      element.onerror = on_error;\n      element.rel = \"stylesheet\";\n      element.type = \"text/css\";\n      element.href = url;\n      console.debug(\"Bokeh: injecting link tag for BokehJS stylesheet: \", url);\n      document.body.appendChild(element);\n    }\n\n    const hashes = {\"https://cdn.bokeh.org/bokeh/release/bokeh-2.1.0.min.js\": \"YobFyzPeVUsFQydHkJGsJL1kyfHnWxOlPc3EwaV22TmBaeGoXHLWx5aRRVPS9xlE\", \"https://cdn.bokeh.org/bokeh/release/bokeh-widgets-2.1.0.min.js\": \"NuAg9+TcTQQqvQCTtkCneRrpkTiMhhfiq0KHiBzx8ECiKiLWXHN6i6ia3q7b3eHu\", \"https://cdn.bokeh.org/bokeh/release/bokeh-tables-2.1.0.min.js\": \"uMVqQc8JqHitD67bXTn9a06Mrk3EiHRaZ18EJENQenAKJ/KL71SakdXYomZQpGRr\", \"https://cdn.bokeh.org/bokeh/release/bokeh-gl-2.1.0.min.js\": \"u+eGuEXC8aw0VSCm2mH+b/tQEAitUOYiR1H6SuIVEdUmXsf4vN8m/SmXpmjb7U/X\"};\n\n    for (var i = 0; i < js_urls.length; i++) {\n      var url = js_urls[i];\n      var element = document.createElement('script');\n      element.onload = on_load;\n      element.onerror = on_error;\n      element.async = false;\n      element.src = url;\n      if (url in hashes) {\n        element.crossOrigin = \"anonymous\";\n        element.integrity = \"sha384-\" + hashes[url];\n      }\n      console.debug(\"Bokeh: injecting script tag for BokehJS library: \", url);\n      document.head.appendChild(element);\n    }\n  };\n\n  function inject_raw_css(css) {\n    const element = document.createElement(\"style\");\n    element.appendChild(document.createTextNode(css));\n    document.body.appendChild(element);\n  }\n\n  \n  var js_urls = [\"https://cdn.bokeh.org/bokeh/release/bokeh-2.1.0.min.js\", \"https://cdn.bokeh.org/bokeh/release/bokeh-widgets-2.1.0.min.js\", \"https://cdn.bokeh.org/bokeh/release/bokeh-tables-2.1.0.min.js\", \"https://cdn.bokeh.org/bokeh/release/bokeh-gl-2.1.0.min.js\"];\n  var css_urls = [];\n  \n\n  var inline_js = [\n    function(Bokeh) {\n      Bokeh.set_log_level(\"info\");\n    },\n    function(Bokeh) {\n    \n    \n    }\n  ];\n\n  function run_inline_js() {\n    \n    if (root.Bokeh !== undefined || force === true) {\n      \n    for (var i = 0; i < inline_js.length; i++) {\n      inline_js[i].call(root, root.Bokeh);\n    }\n    if (force === true) {\n        display_loaded();\n      }} else if (Date.now() < root._bokeh_timeout) {\n      setTimeout(run_inline_js, 100);\n    } else if (!root._bokeh_failed_load) {\n      console.log(\"Bokeh: BokehJS failed to load within specified timeout.\");\n      root._bokeh_failed_load = true;\n    } else if (force !== true) {\n      var cell = $(document.getElementById(\"1001\")).parents('.cell').data().cell;\n      cell.output_area.append_execute_result(NB_LOAD_WARNING)\n    }\n\n  }\n\n  if (root._bokeh_is_loading === 0) {\n    console.debug(\"Bokeh: BokehJS loaded, going straight to plotting\");\n    run_inline_js();\n  } else {\n    load_libs(css_urls, js_urls, function() {\n      console.debug(\"Bokeh: BokehJS plotting callback run at\", now());\n      run_inline_js();\n    });\n  }\n}(window));"
     },
     "metadata": {},
     "output_type": "display_data"
    }
   ],
   "source": [
    "from pipeline import spec_pipeline\n",
    "import matplotlib.pyplot as plt\n",
    "%matplotlib inline\n",
    "\n",
    "from bokeh.plotting import figure\n",
    "from bokeh.io import output_notebook, push_notebook, show\n",
    "\n",
    "output_notebook()"
   ]
  },
  {
   "cell_type": "code",
   "execution_count": 2,
   "metadata": {},
   "outputs": [],
   "source": [
    "#useful help commands\n",
    "#help(spec_pipeline.spec)\n",
    "#spec.fileL\n",
    "#!fitsheader --help\n",
    "#--------\n",
    "#This will help filter direct images \n",
    "#!fitsheader -e 0 -k FILTER /surtrdata1/tso_analysis/hst/corot1/*_flt.fits "
   ]
  },
  {
   "cell_type": "markdown",
   "metadata": {},
   "source": [
    "# CoRoT1 Observations"
   ]
  },
  {
   "cell_type": "code",
   "execution_count": 3,
   "metadata": {},
   "outputs": [
    {
     "name": "stderr",
     "output_type": "stream",
     "text": [
      "/home/kglidic/Software/tser_tools/tshirt/pipeline/spec_pipeline.py:121: UserWarning: Deprecated parameter bkgSubY used in parameter file. Setting bkgSubDirections to [Y]\n",
      "  warnings.warn('Deprecated parameter bkgSubY used in parameter file. Setting bkgSubDirections to [{}]'.format(' '.join(bkgSubDirections)))\n"
     ]
    }
   ],
   "source": [
    "#call the desired parameters file\n",
    "spec = spec_pipeline.spec(paramFile='corot1_firsttransit.yaml')"
   ]
  },
  {
   "cell_type": "code",
   "execution_count": 4,
   "metadata": {},
   "outputs": [
    {
     "name": "stderr",
     "output_type": "stream",
     "text": [
      "/home/kglidic/Software/tser_tools/tshirt/pipeline/phot_pipeline.py:1478: UserWarning: Couldn't find INTTIME in header. Trying EXPTIME\n",
      "  warnings.warn(\"Couldn't find INTTIME in header. Trying EXPTIME\")\n"
     ]
    }
   ],
   "source": [
    "#check the appetures \n",
    "spec.showStarChoices()"
   ]
  },
  {
   "cell_type": "code",
   "execution_count": 5,
   "metadata": {},
   "outputs": [
    {
     "name": "stdout",
     "output_type": "stream",
     "text": [
      "On 0 of 392\n"
     ]
    },
    {
     "name": "stderr",
     "output_type": "stream",
     "text": [
      "/home/kglidic/Software/tser_tools/tshirt/pipeline/phot_pipeline.py:1478: UserWarning: Couldn't find INTTIME in header. Trying EXPTIME\n",
      "  warnings.warn(\"Couldn't find INTTIME in header. Trying EXPTIME\")\n"
     ]
    },
    {
     "name": "stdout",
     "output_type": "stream",
     "text": [
      "On 30 of 392\n"
     ]
    },
    {
     "name": "stderr",
     "output_type": "stream",
     "text": [
      "/home/kglidic/Software/tser_tools/tshirt/pipeline/phot_pipeline.py:1478: UserWarning: Couldn't find INTTIME in header. Trying EXPTIME\n",
      "  warnings.warn(\"Couldn't find INTTIME in header. Trying EXPTIME\")\n",
      "/home/kglidic/Software/tser_tools/tshirt/pipeline/phot_pipeline.py:1478: UserWarning: Couldn't find INTTIME in header. Trying EXPTIME\n",
      "  warnings.warn(\"Couldn't find INTTIME in header. Trying EXPTIME\")\n",
      "/home/kglidic/Software/tser_tools/tshirt/pipeline/phot_pipeline.py:1478: UserWarning: Couldn't find INTTIME in header. Trying EXPTIME\n",
      "  warnings.warn(\"Couldn't find INTTIME in header. Trying EXPTIME\")\n",
      "/home/kglidic/Software/tser_tools/tshirt/pipeline/phot_pipeline.py:1478: UserWarning: Couldn't find INTTIME in header. Trying EXPTIME\n",
      "  warnings.warn(\"Couldn't find INTTIME in header. Trying EXPTIME\")\n"
     ]
    },
    {
     "name": "stdout",
     "output_type": "stream",
     "text": [
      "\n",
      "On 60 of 392"
     ]
    },
    {
     "name": "stderr",
     "output_type": "stream",
     "text": [
      "/home/kglidic/Software/tser_tools/tshirt/pipeline/phot_pipeline.py:1478: UserWarning: Couldn't find INTTIME in header. Trying EXPTIME\n",
      "  warnings.warn(\"Couldn't find INTTIME in header. Trying EXPTIME\")\n",
      "/home/kglidic/Software/tser_tools/tshirt/pipeline/phot_pipeline.py:1478: UserWarning: Couldn't find INTTIME in header. Trying EXPTIME\n",
      "  warnings.warn(\"Couldn't find INTTIME in header. Trying EXPTIME\")\n",
      "/home/kglidic/Software/tser_tools/tshirt/pipeline/phot_pipeline.py:1478: UserWarning: Couldn't find INTTIME in header. Trying EXPTIME\n",
      "  warnings.warn(\"Couldn't find INTTIME in header. Trying EXPTIME\")\n",
      "/home/kglidic/Software/tser_tools/tshirt/pipeline/phot_pipeline.py:1478: UserWarning: Couldn't find INTTIME in header. Trying EXPTIME\n",
      "  warnings.warn(\"Couldn't find INTTIME in header. Trying EXPTIME\")\n"
     ]
    },
    {
     "name": "stdout",
     "output_type": "stream",
     "text": [
      "On 90 of 392\n"
     ]
    },
    {
     "name": "stderr",
     "output_type": "stream",
     "text": [
      "/home/kglidic/Software/tser_tools/tshirt/pipeline/phot_pipeline.py:1478: UserWarning: Couldn't find INTTIME in header. Trying EXPTIME\n",
      "  warnings.warn(\"Couldn't find INTTIME in header. Trying EXPTIME\")\n"
     ]
    },
    {
     "name": "stdout",
     "output_type": "stream",
     "text": [
      "On 45 of 392\n",
      "On 15 of 392\n",
      "On 75 of 392\n",
      "On 120 of 392\n",
      "On 150 of 392\n",
      "On 180 of 392\n",
      "On 105 of 392\n",
      "On 135 of 392\n",
      "On 165 of 392\n",
      "On 195 of 392\n",
      "On 210 of 392\n",
      "On 240 of 392\n",
      "On 270 of 392\n",
      "On 225 of 392\n",
      "On 255 of 392\n",
      "On 285 of 392\n",
      "On 300 of 392\n",
      "On 330 of 392\n",
      "On 360 of 392\n",
      "On 390 of 392\n",
      "On 315 of 392\n",
      "On 345 of 392\n",
      "On 375 of 392\n"
     ]
    },
    {
     "name": "stderr",
     "output_type": "stream",
     "text": [
      "/home/kglidic/Software/tser_tools/tshirt/pipeline/phot_pipeline.py:1478: UserWarning: Couldn't find INTTIME in header. Trying EXPTIME\n",
      "  warnings.warn(\"Couldn't find INTTIME in header. Trying EXPTIME\")\n"
     ]
    }
   ],
   "source": [
    "#Extract all spectroscopy\n",
    "spec.do_extraction(useMultiprocessing=True)"
   ]
  },
  {
   "cell_type": "code",
   "execution_count": 6,
   "metadata": {},
   "outputs": [
    {
     "data": {
      "image/png": "[encoded data removed]",
      "text/plain": [
       "<Figure size 432x288 with 1 Axes>"
      ]
     },
     "metadata": {
      "needs_background": "light"
     },
     "output_type": "display_data"
    }
   ],
   "source": [
    "spec.plot_one_spec()"
   ]
  },
  {
   "cell_type": "code",
   "execution_count": 7,
   "metadata": {},
   "outputs": [
    {
     "data": {
      "text/html": [
       "\n",
       "\n",
       "\n",
       "\n",
       "\n",
       "\n",
       "  <div class=\"bk-root\" id=\"d85e70e8-7bde-4325-8823-ac2b9b888d78\" data-root-id=\"1003\"></div>\n"
      ]
     },
     "metadata": {},
     "output_type": "display_data"
    },
    {
     "data": {
      "application/javascript": [
       "(function(root) {\n",
       "  function embed_document(root) {\n",
       "    \n",
       "  var docs_json = {\"6e1c5b5d-d161-4757-81ce-d0d709a054bd\":{\"roots\":{\"references\":[{\"attributes\":{\"background_fill_color\":\"#f5f5f5\",\"below\":[{\"id\":\"1012\"}],\"center\":[{\"id\":\"1015\"},{\"id\":\"1019\"}],\"left\":[{\"id\":\"1016\"}],\"renderers\":[{\"id\":\"1037\"}],\"title\":{\"id\":\"1042\"},\"toolbar\":{\"id\":\"1027\"},\"x_range\":{\"id\":\"1004\"},\"x_scale\":{\"id\":\"1008\"},\"y_range\":{\"id\":\"1006\"},\"y_scale\":{\"id\":\"1010\"}},\"id\":\"1003\",\"subtype\":\"Figure\",\"type\":\"Plot\"},{\"attributes\":{\"data\":{\"ind\":[0,1,2,3,4,5,6,7,8,9,10,11,12,13,14,15,16,17,18,19,20,21,22,23,24,25,26,27,28,29,30,31,32,33,34,35,36,37,38,39,40,41,42,43,44,45,46,47,48,49,50,51,52,53,54,55,56,57,58,59,60,61,62,63,64,65,66,67,68,69,70,71,72,73,74,75,76,77,78,79,80,81,82,83,84,85,86,87,88,89,90,91,92,93,94,95,96,97,98,99,100,101,102,103,104,105,106,107,108,109,110,111,112,113,114,115,116,117,118,119,120,121,122,123,124,125,126,127,128,129,130,131,132,133,134,135,136,137,138,139,140,141,142,143,144,145,146,147,148,149,150,151,152,153,154,155,156,157,158,159,160,161,162,163,164,165,166,167,168,169,170,171,172,173,174,175,176,177,178,179,180,181,182,183,184,185,186,187,188,189,190,191,192,193,194,195,196,197,198,199,200,201,202,203,204,205,206,207,208,209,210,211,212,213,214,215,216,217,218,219,220,221,222,223,224,225,226,227,228,229,230,231,232,233,234,235,236,237,238,239,240,241,242,243,244,245,246,247,248,249,250,251,252,253,254,255,256,257,258,259,260,261,262,263,264,265,266,267,268,269,270,271,272,273,274,275,276,277,278,279,280,281,282,283,284,285,286,287,288,289,290,291,292,293,294,295,296,297,298,299,300,301,302,303,304,305,306,307,308,309,310,311,312,313,314,315,316,317,318,319,320,321,322,323,324,325,326,327,328,329,330,331,332,333,334,335,336,337,338,339,340,341,342,343,344,345,346,347,348,349,350,351,352,353,354,355,356,357,358,359,360,361,362,363,364,365,366,367,368,369,370,371,372,373,374,375,376,377,378,379,380,381,382,383,384,385,386,387,388,389,390,391],\"name\":[\"ibh717gjq_flt.fits\",\"ibh717gkq_flt.fits\",\"ibh717glq_flt.fits\",\"ibh717gmq_flt.fits\",\"ibh717gnq_flt.fits\",\"ibh717goq_flt.fits\",\"ibh717gpq_flt.fits\",\"ibh717gqq_flt.fits\",\"ibh717grq_flt.fits\",\"ibh717gsq_flt.fits\",\"ibh717gtq_flt.fits\",\"ibh717guq_flt.fits\",\"ibh717gwq_flt.fits\",\"ibh717gxq_flt.fits\",\"ibh717gyq_flt.fits\",\"ibh717gzq_flt.fits\",\"ibh717h0q_flt.fits\",\"ibh717h1q_flt.fits\",\"ibh717h2q_flt.fits\",\"ibh717h3q_flt.fits\",\"ibh717h4q_flt.fits\",\"ibh717h5q_flt.fits\",\"ibh717h6q_flt.fits\",\"ibh717hrq_flt.fits\",\"ibh717htq_flt.fits\",\"ibh717huq_flt.fits\",\"ibh717hvq_flt.fits\",\"ibh717hwq_flt.fits\",\"ibh717hxq_flt.fits\",\"ibh717hyq_flt.fits\",\"ibh717hzq_flt.fits\",\"ibh717i0q_flt.fits\",\"ibh717i1q_flt.fits\",\"ibh717i2q_flt.fits\",\"ibh717i3q_flt.fits\",\"ibh717i4q_flt.fits\",\"ibh717i6q_flt.fits\",\"ibh717i7q_flt.fits\",\"ibh717i8q_flt.fits\",\"ibh717i9q_flt.fits\",\"ibh717iaq_flt.fits\",\"ibh717ibq_flt.fits\",\"ibh717icq_flt.fits\",\"ibh717idq_flt.fits\",\"ibh717ieq_flt.fits\",\"ibh717ifq_flt.fits\",\"ibh717igq_flt.fits\",\"ibh717ihq_flt.fits\",\"ibh717itq_flt.fits\",\"ibh717iuq_flt.fits\",\"ibh717ivq_flt.fits\",\"ibh717iwq_flt.fits\",\"ibh717ixq_flt.fits\",\"ibh717iyq_flt.fits\",\"ibh717izq_flt.fits\",\"ibh717j0q_flt.fits\",\"ibh717j1q_flt.fits\",\"ibh717j2q_flt.fits\",\"ibh717j3q_flt.fits\",\"ibh717j4q_flt.fits\",\"ibh717j6q_flt.fits\",\"ibh717j7q_flt.fits\",\"ibh717j8q_flt.fits\",\"ibh717j9q_flt.fits\",\"ibh717jaq_flt.fits\",\"ibh717jbq_flt.fits\",\"ibh717jcq_flt.fits\",\"ibh717jdq_flt.fits\",\"ibh717jeq_flt.fits\",\"ibh717jfq_flt.fits\",\"ibh717jgq_flt.fits\",\"ibh717jhq_flt.fits\",\"ibh717jjq_flt.fits\",\"ibh717k0q_flt.fits\",\"ibh717k1q_flt.fits\",\"ibh717k2q_flt.fits\",\"ibh717k3q_flt.fits\",\"ibh717k4q_flt.fits\",\"ibh717k5q_flt.fits\",\"ibh717k6q_flt.fits\",\"ibh717k7q_flt.fits\",\"ibh717k8q_flt.fits\",\"ibh717k9q_flt.fits\",\"ibh717kaq_flt.fits\",\"ibh717kcq_flt.fits\",\"ibh717kdq_flt.fits\",\"ibh717keq_flt.fits\",\"ibh717kfq_flt.fits\",\"ibh717kgq_flt.fits\",\"ibh717khq_flt.fits\",\"ibh717kiq_flt.fits\",\"ibh717kjq_flt.fits\",\"ibh717kkq_flt.fits\",\"ibh717klq_flt.fits\",\"ibh717kmq_flt.fits\",\"ibh717knq_flt.fits\",\"ibh717koq_flt.fits\",\"ibh717kpq_flt.fits\",\"ibh719gmq_flt.fits\",\"ibh719gnq_flt.fits\",\"ibh719goq_flt.fits\",\"ibh719gpq_flt.fits\",\"ibh719gqq_flt.fits\",\"ibh719grq_flt.fits\",\"ibh719gsq_flt.fits\",\"ibh719gtq_flt.fits\",\"ibh719guq_flt.fits\",\"ibh719gvq_flt.fits\",\"ibh719gwq_flt.fits\",\"ibh719gxq_flt.fits\",\"ibh719gzq_flt.fits\",\"ibh719h0q_flt.fits\",\"ibh719h1q_flt.fits\",\"ibh719h2q_flt.fits\",\"ibh719h3q_flt.fits\",\"ibh719h4q_flt.fits\",\"ibh719h5q_flt.fits\",\"ibh719h6q_flt.fits\",\"ibh719h7q_flt.fits\",\"ibh719h8q_flt.fits\",\"ibh719h9q_flt.fits\",\"ibh719i2q_flt.fits\",\"ibh719i4q_flt.fits\",\"ibh719i5q_flt.fits\",\"ibh719i6q_flt.fits\",\"ibh719i7q_flt.fits\",\"ibh719i8q_flt.fits\",\"ibh719i9q_flt.fits\",\"ibh719iaq_flt.fits\",\"ibh719ibq_flt.fits\",\"ibh719icq_flt.fits\",\"ibh719idq_flt.fits\",\"ibh719ieq_flt.fits\",\"ibh719ifq_flt.fits\",\"ibh719ihq_flt.fits\",\"ibh719iiq_flt.fits\",\"ibh719ijq_flt.fits\",\"ibh719ikq_flt.fits\",\"ibh719ilq_flt.fits\",\"ibh719imq_flt.fits\",\"ibh719inq_flt.fits\",\"ibh719ioq_flt.fits\",\"ibh719ipq_flt.fits\",\"ibh719iqq_flt.fits\",\"ibh719irq_flt.fits\",\"ibh719isq_flt.fits\",\"ibh719iuq_flt.fits\",\"ibh719ivq_flt.fits\",\"ibh719iwq_flt.fits\",\"ibh719ixq_flt.fits\",\"ibh719iyq_flt.fits\",\"ibh719izq_flt.fits\",\"ibh719j0q_flt.fits\",\"ibh719j1q_flt.fits\",\"ibh719j2q_flt.fits\",\"ibh719j3q_flt.fits\",\"ibh719j4q_flt.fits\",\"ibh719j5q_flt.fits\",\"ibh719j7q_flt.fits\",\"ibh719j8q_flt.fits\",\"ibh719j9q_flt.fits\",\"ibh719jaq_flt.fits\",\"ibh719jbq_flt.fits\",\"ibh719jcq_flt.fits\",\"ibh719jdq_flt.fits\",\"ibh719jeq_flt.fits\",\"ibh719jfq_flt.fits\",\"ibh719jgq_flt.fits\",\"ibh719jhq_flt.fits\",\"ibh719jiq_flt.fits\",\"ibh719jkq_flt.fits\",\"ibh719jlq_flt.fits\",\"ibh719jmq_flt.fits\",\"ibh719jnq_flt.fits\",\"ibh719joq_flt.fits\",\"ibh719jpq_flt.fits\",\"ibh719jqq_flt.fits\",\"ibh719jrq_flt.fits\",\"ibh719jsq_flt.fits\",\"ibh719jtq_flt.fits\",\"ibh719juq_flt.fits\",\"ibh719jvq_flt.fits\",\"ibh719jxq_flt.fits\",\"ibh719jyq_flt.fits\",\"ibh719jzq_flt.fits\",\"ibh719k0q_flt.fits\",\"ibh719k1q_flt.fits\",\"ibh719k2q_flt.fits\",\"ibh719k3q_flt.fits\",\"ibh719k4q_flt.fits\",\"ibh719k5q_flt.fits\",\"ibh719k6q_flt.fits\",\"ibh719k7q_flt.fits\",\"ibh719k8q_flt.fits\",\"ibh719k9q_flt.fits\",\"ibh719kaq_flt.fits\",\"ibh720i6q_flt.fits\",\"ibh720i7q_flt.fits\",\"ibh720i8q_flt.fits\",\"ibh720i9q_flt.fits\",\"ibh720iaq_flt.fits\",\"ibh720ibq_flt.fits\",\"ibh720icq_flt.fits\",\"ibh720idq_flt.fits\",\"ibh720ieq_flt.fits\",\"ibh720ifq_flt.fits\",\"ibh720igq_flt.fits\",\"ibh720ihq_flt.fits\",\"ibh720ijq_flt.fits\",\"ibh720ikq_flt.fits\",\"ibh720ilq_flt.fits\",\"ibh720imq_flt.fits\",\"ibh720inq_flt.fits\",\"ibh720ioq_flt.fits\",\"ibh720ipq_flt.fits\",\"ibh720iqq_flt.fits\",\"ibh720irq_flt.fits\",\"ibh720isq_flt.fits\",\"ibh720itq_flt.fits\",\"ibh720iuq_flt.fits\",\"ibh720iwq_flt.fits\",\"ibh720ixq_flt.fits\",\"ibh720iyq_flt.fits\",\"ibh720izq_flt.fits\",\"ibh720j0q_flt.fits\",\"ibh720j1q_flt.fits\",\"ibh720j2q_flt.fits\",\"ibh720j3q_flt.fits\",\"ibh720j4q_flt.fits\",\"ibh720j5q_flt.fits\",\"ibh720j6q_flt.fits\",\"ibh720j7q_flt.fits\",\"ibh720j9q_flt.fits\",\"ibh720jaq_flt.fits\",\"ibh720jbq_flt.fits\",\"ibh720jcq_flt.fits\",\"ibh720jdq_flt.fits\",\"ibh720jeq_flt.fits\",\"ibh720jfq_flt.fits\",\"ibh720jgq_flt.fits\",\"ibh720jhq_flt.fits\",\"ibh720jiq_flt.fits\",\"ibh720jjq_flt.fits\",\"ibh720jkq_flt.fits\",\"ibh720jmq_flt.fits\",\"ibh720jnq_flt.fits\",\"ibh720joq_flt.fits\",\"ibh720jpq_flt.fits\",\"ibh720jqq_flt.fits\",\"ibh720jrq_flt.fits\",\"ibh720jsq_flt.fits\",\"ibh720jtq_flt.fits\",\"ibh720juq_flt.fits\",\"ibh720jvq_flt.fits\",\"ibh720jwq_flt.fits\",\"ibh720jxq_flt.fits\",\"ibh720jzq_flt.fits\",\"ibh720k0q_flt.fits\",\"ibh720k1q_flt.fits\",\"ibh720k2q_flt.fits\",\"ibh720k3q_flt.fits\",\"ibh720k4q_flt.fits\",\"ibh720k5q_flt.fits\",\"ibh720k6q_flt.fits\",\"ibh720k7q_flt.fits\",\"ibh720k8q_flt.fits\",\"ibh720k9q_flt.fits\",\"ibh720kaq_flt.fits\",\"ibh720kcq_flt.fits\",\"ibh720kdq_flt.fits\",\"ibh720keq_flt.fits\",\"ibh720kfq_flt.fits\",\"ibh720kgq_flt.fits\",\"ibh720khq_flt.fits\",\"ibh720kiq_flt.fits\",\"ibh720kjq_flt.fits\",\"ibh720kkq_flt.fits\",\"ibh720klq_flt.fits\",\"ibh720kmq_flt.fits\",\"ibh720knq_flt.fits\",\"ibh720kpq_flt.fits\",\"ibh720kqq_flt.fits\",\"ibh720krq_flt.fits\",\"ibh720ksq_flt.fits\",\"ibh720ktq_flt.fits\",\"ibh720kuq_flt.fits\",\"ibh720kvq_flt.fits\",\"ibh720kwq_flt.fits\",\"ibh720kxq_flt.fits\",\"ibh720kyq_flt.fits\",\"ibh720kzq_flt.fits\",\"ibh720l0q_flt.fits\",\"ibh720l1q_flt.fits\",\"ibh720l2q_flt.fits\",\"ibh721omq_flt.fits\",\"ibh721onq_flt.fits\",\"ibh721ooq_flt.fits\",\"ibh721opq_flt.fits\",\"ibh721oqq_flt.fits\",\"ibh721orq_flt.fits\",\"ibh721osq_flt.fits\",\"ibh721otq_flt.fits\",\"ibh721ouq_flt.fits\",\"ibh721ovq_flt.fits\",\"ibh721owq_flt.fits\",\"ibh721oxq_flt.fits\",\"ibh721ozq_flt.fits\",\"ibh721p0q_flt.fits\",\"ibh721p1q_flt.fits\",\"ibh721p2q_flt.fits\",\"ibh721p3q_flt.fits\",\"ibh721p4q_flt.fits\",\"ibh721p5q_flt.fits\",\"ibh721p6q_flt.fits\",\"ibh721p7q_flt.fits\",\"ibh721p8q_flt.fits\",\"ibh721p9q_flt.fits\",\"ibh721paq_flt.fits\",\"ibh721pcq_flt.fits\",\"ibh721pdq_flt.fits\",\"ibh721peq_flt.fits\",\"ibh721pfq_flt.fits\",\"ibh721pgq_flt.fits\",\"ibh721phq_flt.fits\",\"ibh721piq_flt.fits\",\"ibh721pjq_flt.fits\",\"ibh721pkq_flt.fits\",\"ibh721plq_flt.fits\",\"ibh721pmq_flt.fits\",\"ibh721pnq_flt.fits\",\"ibh721ppq_flt.fits\",\"ibh721pqq_flt.fits\",\"ibh721prq_flt.fits\",\"ibh721psq_flt.fits\",\"ibh721ptq_flt.fits\",\"ibh721puq_flt.fits\",\"ibh721pvq_flt.fits\",\"ibh721pwq_flt.fits\",\"ibh721pxq_flt.fits\",\"ibh721pyq_flt.fits\",\"ibh721pzq_flt.fits\",\"ibh721q0q_flt.fits\",\"ibh721q2q_flt.fits\",\"ibh721q3q_flt.fits\",\"ibh721q4q_flt.fits\",\"ibh721q5q_flt.fits\",\"ibh721q6q_flt.fits\",\"ibh721q7q_flt.fits\",\"ibh721q8q_flt.fits\",\"ibh721q9q_flt.fits\",\"ibh721qaq_flt.fits\",\"ibh721qbq_flt.fits\",\"ibh721qcq_flt.fits\",\"ibh721qdq_flt.fits\",\"ibh721qfq_flt.fits\",\"ibh721qgq_flt.fits\",\"ibh721qhq_flt.fits\",\"ibh721qiq_flt.fits\",\"ibh721qjq_flt.fits\",\"ibh721qkq_flt.fits\",\"ibh721qlq_flt.fits\",\"ibh721qmq_flt.fits\",\"ibh721qnq_flt.fits\",\"ibh721qoq_flt.fits\",\"ibh721qpq_flt.fits\",\"ibh721qqq_flt.fits\",\"ibh721qsq_flt.fits\",\"ibh721qtq_flt.fits\",\"ibh721quq_flt.fits\",\"ibh721qvq_flt.fits\",\"ibh721qwq_flt.fits\",\"ibh721qxq_flt.fits\",\"ibh721qyq_flt.fits\",\"ibh721qzq_flt.fits\",\"ibh721r0q_flt.fits\",\"ibh721r1q_flt.fits\",\"ibh721r2q_flt.fits\",\"ibh721r3q_flt.fits\",\"ibh721r5q_flt.fits\",\"ibh721r6q_flt.fits\",\"ibh721r7q_flt.fits\",\"ibh721r8q_flt.fits\",\"ibh721r9q_flt.fits\",\"ibh721raq_flt.fits\",\"ibh721rbq_flt.fits\",\"ibh721rcq_flt.fits\",\"ibh721rdq_flt.fits\",\"ibh721req_flt.fits\",\"ibh721rfq_flt.fits\",\"ibh721rgq_flt.fits\",\"ibh721rhq_flt.fits\",\"ibh721riq_flt.fits\"],\"t\":{\"__ndarray__\":\"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\",\"dtype\":\"float64\",\"order\":\"little\",\"shape\":[392]},\"y00\":{\"__ndarray__\":\"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\",\"dtype\":\"float64\",\"order\":\"little\",\"shape\":[392]}},\"selected\":{\"id\":\"1049\"},\"selection_policy\":{\"id\":\"1048\"}},\"id\":\"1002\",\"type\":\"ColumnDataSource\"},{\"attributes\":{},\"id\":\"1008\",\"type\":\"LinearScale\"},{\"attributes\":{},\"id\":\"1017\",\"type\":\"BasicTicker\"},{\"attributes\":{\"data_source\":{\"id\":\"1002\"},\"glyph\":{\"id\":\"1035\"},\"hover_glyph\":null,\"muted_glyph\":null,\"nonselection_glyph\":{\"id\":\"1036\"},\"selection_glyph\":null,\"view\":{\"id\":\"1038\"}},\"id\":\"1037\",\"type\":\"GlyphRenderer\"},{\"attributes\":{},\"id\":\"1025\",\"type\":\"HelpTool\"},{\"attributes\":{\"axis\":{\"id\":\"1016\"},\"dimension\":1,\"grid_line_color\":\"white\",\"ticker\":null},\"id\":\"1019\",\"type\":\"Grid\"},{\"attributes\":{},\"id\":\"1046\",\"type\":\"BasicTickFormatter\"},{\"attributes\":{},\"id\":\"1048\",\"type\":\"UnionRenderers\"},{\"attributes\":{},\"id\":\"1023\",\"type\":\"SaveTool\"},{\"attributes\":{\"callback\":null,\"tooltips\":[[\"name\",\"@name\"],[\"index\",\"@ind\"]]},\"id\":\"1039\",\"type\":\"HoverTool\"},{\"attributes\":{},\"id\":\"1020\",\"type\":\"PanTool\"},{\"attributes\":{},\"id\":\"1006\",\"type\":\"DataRange1d\"},{\"attributes\":{},\"id\":\"1021\",\"type\":\"WheelZoomTool\"},{\"attributes\":{\"source\":{\"id\":\"1002\"}},\"id\":\"1038\",\"type\":\"CDSView\"},{\"attributes\":{\"text\":\"\"},\"id\":\"1042\",\"type\":\"Title\"},{\"attributes\":{\"fill_alpha\":{\"value\":0.1},\"fill_color\":{\"value\":\"#1b9e77\"},\"line_alpha\":{\"value\":0.1},\"line_color\":{\"value\":\"#1b9e77\"},\"x\":{\"field\":\"t\"},\"y\":{\"field\":\"y00\"}},\"id\":\"1036\",\"type\":\"Circle\"},{\"attributes\":{\"formatter\":{\"id\":\"1044\"},\"ticker\":{\"id\":\"1017\"}},\"id\":\"1016\",\"type\":\"LinearAxis\"},{\"attributes\":{},\"id\":\"1044\",\"type\":\"BasicTickFormatter\"},{\"attributes\":{},\"id\":\"1004\",\"type\":\"DataRange1d\"},{\"attributes\":{\"axis\":{\"id\":\"1012\"},\"grid_line_color\":\"white\",\"ticker\":null},\"id\":\"1015\",\"type\":\"Grid\"},{\"attributes\":{},\"id\":\"1013\",\"type\":\"BasicTicker\"},{\"attributes\":{},\"id\":\"1049\",\"type\":\"Selection\"},{\"attributes\":{\"formatter\":{\"id\":\"1046\"},\"ticker\":{\"id\":\"1013\"}},\"id\":\"1012\",\"type\":\"LinearAxis\"},{\"attributes\":{},\"id\":\"1024\",\"type\":\"ResetTool\"},{\"attributes\":{},\"id\":\"1010\",\"type\":\"LinearScale\"},{\"attributes\":{\"bottom_units\":\"screen\",\"fill_alpha\":0.5,\"fill_color\":\"lightgrey\",\"left_units\":\"screen\",\"level\":\"overlay\",\"line_alpha\":1.0,\"line_color\":\"black\",\"line_dash\":[4,4],\"line_width\":2,\"right_units\":\"screen\",\"top_units\":\"screen\"},\"id\":\"1026\",\"type\":\"BoxAnnotation\"},{\"attributes\":{\"fill_color\":{\"value\":\"#1b9e77\"},\"line_color\":{\"value\":\"#1b9e77\"},\"x\":{\"field\":\"t\"},\"y\":{\"field\":\"y00\"}},\"id\":\"1035\",\"type\":\"Circle\"},{\"attributes\":{\"overlay\":{\"id\":\"1026\"}},\"id\":\"1022\",\"type\":\"BoxZoomTool\"},{\"attributes\":{\"active_drag\":\"auto\",\"active_inspect\":\"auto\",\"active_multi\":null,\"active_scroll\":\"auto\",\"active_tap\":\"auto\",\"tools\":[{\"id\":\"1020\"},{\"id\":\"1021\"},{\"id\":\"1022\"},{\"id\":\"1023\"},{\"id\":\"1024\"},{\"id\":\"1025\"},{\"id\":\"1039\"}]},\"id\":\"1027\",\"type\":\"Toolbar\"}],\"root_ids\":[\"1003\"]},\"title\":\"Bokeh Application\",\"version\":\"2.1.0\"}};\n",
       "  var render_items = [{\"docid\":\"6e1c5b5d-d161-4757-81ce-d0d709a054bd\",\"root_ids\":[\"1003\"],\"roots\":{\"1003\":\"d85e70e8-7bde-4325-8823-ac2b9b888d78\"}}];\n",
       "  root.Bokeh.embed.embed_items_notebook(docs_json, render_items);\n",
       "\n",
       "  }\n",
       "  if (root.Bokeh !== undefined) {\n",
       "    embed_document(root);\n",
       "  } else {\n",
       "    var attempts = 0;\n",
       "    var timer = setInterval(function(root) {\n",
       "      if (root.Bokeh !== undefined) {\n",
       "        clearInterval(timer);\n",
       "        embed_document(root);\n",
       "      } else {\n",
       "        attempts++;\n",
       "        if (attempts > 100) {\n",
       "          clearInterval(timer);\n",
       "          console.log(\"Bokeh: ERROR: Unable to run BokehJS code because BokehJS library is missing\");\n",
       "        }\n",
       "      }\n",
       "    }, 10, root)\n",
       "  }\n",
       "})(window);"
      ],
      "application/vnd.bokehjs_exec.v0+json": ""
     },
     "metadata": {
      "application/vnd.bokehjs_exec.v0+json": {
       "id": "1003"
      }
     },
     "output_type": "display_data"
    }
   ],
   "source": [
    "#Plot wavelength-binned time series\n",
    "#this should show all 4 of the visits \n",
    "spec.plot_wavebin_series(nbins=1,savePlot=False, interactive=True)"
   ]
  },
  {
   "cell_type": "code",
   "execution_count": 8,
   "metadata": {},
   "outputs": [
    {
     "data": {
      "image/png": "[encoded data removed]",
      "text/plain": [
       "<Figure size 432x288 with 1 Axes>"
      ]
     },
     "metadata": {
      "needs_background": "light"
     },
     "output_type": "display_data"
    }
   ],
   "source": [
    "#zoom of visit 1\n",
    "spec.plot_wavebin_series(nbins=1,savePlot=False, xLim=(0.6,0.9),interactive=False)"
   ]
  },
  {
   "cell_type": "code",
   "execution_count": 9,
   "metadata": {},
   "outputs": [
    {
     "data": {
      "image/png": "[encoded data removed]",
      "text/plain": [
       "<Figure size 432x288 with 1 Axes>"
      ]
     },
     "metadata": {
      "needs_background": "light"
     },
     "output_type": "display_data"
    }
   ],
   "source": [
    "#zoom of visit 2\n",
    "spec.plot_wavebin_series(nbins=1,savePlot=False, xLim=(7.4,7.65), interactive=False)"
   ]
  },
  {
   "cell_type": "code",
   "execution_count": 10,
   "metadata": {},
   "outputs": [
    {
     "data": {
      "image/png": "[encoded data removed]",
      "text/plain": [
       "<Figure size 432x288 with 1 Axes>"
      ]
     },
     "metadata": {
      "needs_background": "light"
     },
     "output_type": "display_data"
    }
   ],
   "source": [
    "#zoom of visit 3\n",
    "spec.plot_wavebin_series(nbins=1,savePlot=False, xLim=(11.18,11.45), interactive=False)"
   ]
  },
  {
   "cell_type": "code",
   "execution_count": 11,
   "metadata": {},
   "outputs": [
    {
     "data": {
      "image/png": "[encoded data removed]",
      "text/plain": [
       "<Figure size 432x288 with 1 Axes>"
      ]
     },
     "metadata": {
      "needs_background": "light"
     },
     "output_type": "display_data"
    }
   ],
   "source": [
    "#zoom of visit 4\n",
    "spec.plot_wavebin_series(nbins=1,savePlot=False,xLim =(20.23,20.5),interactive=False)"
   ]
  },
  {
   "cell_type": "code",
   "execution_count": 12,
   "metadata": {},
   "outputs": [
    {
     "name": "stderr",
     "output_type": "stream",
     "text": [
      "WARNING: VerifyWarning: Card is too long, comment will be truncated. [astropy.io.fits.card]\n"
     ]
    }
   ],
   "source": [
    "spec.plot_dynamic_spec()\n",
    "#!ls plots/spectra/dynamic_spectra  ..... to check if it created a file"
   ]
  },
  {
   "cell_type": "markdown",
   "metadata": {},
   "source": [
    "# CoRoT1 Visit 1 Transit"
   ]
  },
  {
   "cell_type": "code",
   "execution_count": 24,
   "metadata": {},
   "outputs": [],
   "source": [
    "#call the desired parameters file\n",
    "spec1 = spec_pipeline.spec(paramFile='corot1_visit1_transit.yaml')"
   ]
  },
  {
   "cell_type": "code",
   "execution_count": 25,
   "metadata": {},
   "outputs": [
    {
     "name": "stderr",
     "output_type": "stream",
     "text": [
      "/home/kglidic/Software/tser_tools/tshirt/pipeline/phot_pipeline.py:1478: UserWarning: Couldn't find INTTIME in header. Trying EXPTIME\n",
      "  warnings.warn(\"Couldn't find INTTIME in header. Trying EXPTIME\")\n"
     ]
    }
   ],
   "source": [
    "#check the appetures \n",
    "spec1.showStarChoices()"
   ]
  },
  {
   "cell_type": "code",
   "execution_count": 27,
   "metadata": {},
   "outputs": [
    {
     "name": "stdout",
     "output_type": "stream",
     "text": [
      "On 0 of 98\n",
      "On 15 of 98\n",
      "On 30 of 98\n",
      "On 45 of 98\n",
      "On 60 of 98\n",
      "On 75 of 98\n",
      "On 90 of 98\n"
     ]
    }
   ],
   "source": [
    "#Extract all spectroscopy\n",
    "spec1.do_extraction(useMultiprocessing=True)"
   ]
  },
  {
   "cell_type": "code",
   "execution_count": 28,
   "metadata": {},
   "outputs": [
    {
     "data": {
      "image/png": "[encoded data removed]",
      "text/plain": [
       "<Figure size 432x288 with 1 Axes>"
      ]
     },
     "metadata": {
      "needs_background": "light"
     },
     "output_type": "display_data"
    }
   ],
   "source": [
    "spec1.plot_one_spec()"
   ]
  },
  {
   "cell_type": "code",
   "execution_count": 34,
   "metadata": {},
   "outputs": [
    {
     "data": {
      "text/html": [
       "\n",
       "\n",
       "\n",
       "\n",
       "\n",
       "\n",
       "  <div class=\"bk-root\" id=\"ca1170c0-60d8-4b13-ba32-0d3c5a19cfac\" data-root-id=\"2899\"></div>\n"
      ]
     },
     "metadata": {},
     "output_type": "display_data"
    },
    {
     "data": {
      "application/javascript": [
       "(function(root) {\n",
       "  function embed_document(root) {\n",
       "    \n",
       "  var docs_json = {\"73f941d9-afc3-4628-a6c0-9712ee062c36\":{\"roots\":{\"references\":[{\"attributes\":{\"background_fill_color\":\"#f5f5f5\",\"below\":[{\"id\":\"2908\"}],\"center\":[{\"id\":\"2911\"},{\"id\":\"2915\"}],\"left\":[{\"id\":\"2912\"}],\"renderers\":[{\"id\":\"2933\"}],\"title\":{\"id\":\"3001\"},\"toolbar\":{\"id\":\"2923\"},\"x_range\":{\"id\":\"2900\"},\"x_scale\":{\"id\":\"2904\"},\"y_range\":{\"id\":\"2902\"},\"y_scale\":{\"id\":\"2906\"}},\"id\":\"2899\",\"subtype\":\"Figure\",\"type\":\"Plot\"},{\"attributes\":{\"formatter\":{\"id\":\"3003\"},\"ticker\":{\"id\":\"2913\"}},\"id\":\"2912\",\"type\":\"LinearAxis\"},{\"attributes\":{},\"id\":\"2900\",\"type\":\"DataRange1d\"},{\"attributes\":{},\"id\":\"2906\",\"type\":\"LinearScale\"},{\"attributes\":{},\"id\":\"2921\",\"type\":\"HelpTool\"},{\"attributes\":{},\"id\":\"2920\",\"type\":\"ResetTool\"},{\"attributes\":{\"data\":{\"ind\":[0,1,2,3,4,5,6,7,8,9,10,11,12,13,14,15,16,17,18,19,20,21,22,23,24,25,26,27,28,29,30,31,32,33,34,35,36,37,38,39,40,41,42,43,44,45,46,47,48,49,50,51,52,53,54,55,56,57,58,59,60,61,62,63,64,65,66,67,68,69,70,71,72,73,74,75,76,77,78,79,80,81,82,83,84,85,86,87,88,89,90,91,92,93,94,95,96,97],\"name\":[\"ibh717gjq_flt.fits\",\"ibh717gkq_flt.fits\",\"ibh717glq_flt.fits\",\"ibh717gmq_flt.fits\",\"ibh717gnq_flt.fits\",\"ibh717goq_flt.fits\",\"ibh717gpq_flt.fits\",\"ibh717gqq_flt.fits\",\"ibh717grq_flt.fits\",\"ibh717gsq_flt.fits\",\"ibh717gtq_flt.fits\",\"ibh717guq_flt.fits\",\"ibh717gwq_flt.fits\",\"ibh717gxq_flt.fits\",\"ibh717gyq_flt.fits\",\"ibh717gzq_flt.fits\",\"ibh717h0q_flt.fits\",\"ibh717h1q_flt.fits\",\"ibh717h2q_flt.fits\",\"ibh717h3q_flt.fits\",\"ibh717h4q_flt.fits\",\"ibh717h5q_flt.fits\",\"ibh717h6q_flt.fits\",\"ibh717hrq_flt.fits\",\"ibh717htq_flt.fits\",\"ibh717huq_flt.fits\",\"ibh717hvq_flt.fits\",\"ibh717hwq_flt.fits\",\"ibh717hxq_flt.fits\",\"ibh717hyq_flt.fits\",\"ibh717hzq_flt.fits\",\"ibh717i0q_flt.fits\",\"ibh717i1q_flt.fits\",\"ibh717i2q_flt.fits\",\"ibh717i3q_flt.fits\",\"ibh717i4q_flt.fits\",\"ibh717i6q_flt.fits\",\"ibh717i7q_flt.fits\",\"ibh717i8q_flt.fits\",\"ibh717i9q_flt.fits\",\"ibh717iaq_flt.fits\",\"ibh717ibq_flt.fits\",\"ibh717icq_flt.fits\",\"ibh717idq_flt.fits\",\"ibh717ieq_flt.fits\",\"ibh717ifq_flt.fits\",\"ibh717igq_flt.fits\",\"ibh717ihq_flt.fits\",\"ibh717itq_flt.fits\",\"ibh717iuq_flt.fits\",\"ibh717ivq_flt.fits\",\"ibh717iwq_flt.fits\",\"ibh717ixq_flt.fits\",\"ibh717iyq_flt.fits\",\"ibh717izq_flt.fits\",\"ibh717j0q_flt.fits\",\"ibh717j1q_flt.fits\",\"ibh717j2q_flt.fits\",\"ibh717j3q_flt.fits\",\"ibh717j4q_flt.fits\",\"ibh717j6q_flt.fits\",\"ibh717j7q_flt.fits\",\"ibh717j8q_flt.fits\",\"ibh717j9q_flt.fits\",\"ibh717jaq_flt.fits\",\"ibh717jbq_flt.fits\",\"ibh717jcq_flt.fits\",\"ibh717jdq_flt.fits\",\"ibh717jeq_flt.fits\",\"ibh717jfq_flt.fits\",\"ibh717jgq_flt.fits\",\"ibh717jhq_flt.fits\",\"ibh717jjq_flt.fits\",\"ibh717k0q_flt.fits\",\"ibh717k1q_flt.fits\",\"ibh717k2q_flt.fits\",\"ibh717k3q_flt.fits\",\"ibh717k4q_flt.fits\",\"ibh717k5q_flt.fits\",\"ibh717k6q_flt.fits\",\"ibh717k7q_flt.fits\",\"ibh717k8q_flt.fits\",\"ibh717k9q_flt.fits\",\"ibh717kaq_flt.fits\",\"ibh717kcq_flt.fits\",\"ibh717kdq_flt.fits\",\"ibh717keq_flt.fits\",\"ibh717kfq_flt.fits\",\"ibh717kgq_flt.fits\",\"ibh717khq_flt.fits\",\"ibh717kiq_flt.fits\",\"ibh717kjq_flt.fits\",\"ibh717kkq_flt.fits\",\"ibh717klq_flt.fits\",\"ibh717kmq_flt.fits\",\"ibh717knq_flt.fits\",\"ibh717koq_flt.fits\",\"ibh717kpq_flt.fits\"],\"t\":{\"__ndarray__\":\"AACAhsoO2j8AAABnWyXaPwAAgEfsO9o/AAAAKH1S2j8AAIAIDmnaPwAAAOmef9o/AACAyS+W2j8AAACqwKzaPwAAgIpRw9o/AAAAa+LZ2j8AAIBLc/DaPwAAACwEB9s/AACADJUd2z8AAADtJTTbPwAAgM22Sts/AAAArkdh2z8AAICO2HfbPwAAAG9pjts/AACAT/qk2z8AAAAwi7vbPwAAgBAc0ts/AAAA8azo2z8AAIDRPf/bPwAAAArXI94/AAAA62c63j8AAIDL+FDePwAAAKyJZ94/AACAjBp+3j8AAABtq5TePwAAgE08q94/AAAALs3B3j8AAIAOXtjePwAAAO/u7t4/AACAz38F3z8AAACwEBzfPwAAgJChMt8/AAAAcTJJ3z8AAIBRw1/fPwAAADJUdt8/AACAEuWM3z8AAADzdaPfPwAAgNMGut8/AAAAtJfQ3z8AAICUKOffPwAAAHW5/d8/AADAKiUK4D8AAACbbRXgPwAAgAu2IOA/AADAYeoy4T8AAADSMj7hPwAAQEJ7SeE/AADAssNU4T8AAAAjDGDhPwAAQJNUa+E/AACAA5124T8AAMBz5YHhPwAAAOQtjeE/AABAVHaY4T8AAIDEvqPhPwAAwDQHr+E/AAAApU+64T8AAEAVmMXhPwAAgIXg0OE/AADA9Sjc4T8AAABmcefhPwAAQNa58uE/AACARgL+4T8AAMC2SgniPwAAACeTFOI/AABAl9sf4j8AAIAHJCviPwAAwHdsNuI/AAAA6LRB4j8AAECEAVTjPwAAgPRJX+M/AAAAZZJq4z8AAEDV2nXjPwAAgEUjgeM/AADAtWuM4z8AAAAmtJfjPwAAQJb8ouM/AACABkWu4z8AAMB2jbnjPwAAAOfVxOM/AABAVx7Q4z8AAIDHZtvjPwAAwDev5uM/AAAAqPfx4z8AAEAYQP3jPwAAgIiICOQ/AADA+NAT5D8AAABpGR/kPwAAQNlhKuQ/AACASao15D8AAMC58kDkPwAAACo7TOQ/AABAmoNX5D8AAIAKzGLkPw==\",\"dtype\":\"float64\",\"order\":\"little\",\"shape\":[98]},\"y00\":{\"__ndarray__\":\"DKtGkPC17z978vvpnODvP/T/AZYP7u8/AAJt9ZL17z/juoxM5wDwP9KaB+U6A/A/iZMgXPED8D+H3d1PNgbwPxv9CI8JBvA/g8wnC7cF8D8+6e5NRgbwP9Rtf6jHCfA/3BXCZeAJ8D9im5MaJwrwP9cg+rX4CvA/DPZO2i0L8D9x3G3J7ArwP0T2C+J9DPA/I1wyN7IL8D+r0n9W3Q7wP+3uMqVUDfA/wFE9ZXgN8D8ScBF4Ig7wP41KsCzc/u8/1chCmgAJ8D/w9Ut4awfwP3WmLncWC/A/SmbZquYK8D9TRure+AvwP+bWS1LoC/A/FAf2pl0N8D/imHx6zw7wP+Vj6tymDPA/x05gQVQN8D9EUb9ymAzwP3UbEhKiDvA/N1z5e1cM8D+mS13j/AzwP2BpeTkVEPA/tBTJcBcQ8D/mzVFxfg/wP4PS9C5GEPA/c9CG88UQ8D83DWdufw/wP+Bv549ODvA/3xYdKIwR8D8S13Q1rxDwP7tGIHyWEPA/utqn6ZEA8D8xkG0XXQnwP3PHmAguC/A/7yorh6IM8D+/zjhOZwjwP0Bi3IfQA/A/WPUWRbn37z+hUNaKtOnvP7Hsr7lj2u8/MGWhmXnK7z8eZbQI87rvP8ecvzO+qu8/v5c354eb7z9dMTVRrJDvP6gV5BEqiO8/fudEksGF7z/RizuETIDvPxP7DnQjge8//il0uDuA7z8haAd0HX7vP90QsFLgfu8/CrnLWzF97z/wvs4/SXvvP4XRsms5fO8/BatQLhl87z/JPY50FVvvP20AHBq4a+8/0udz1ZRz7z//WKhFcHLvP/x0M2rwdO8/wnraGgR17z9/91M9v3DvPyYWrAUiee8/0Dx7L+h47z/6PzmCTXrvP8yEXfVFde8/TVo41bl97z815euKb33vP7Rw4C6dfO8/h0DkmG6B7z8Vino93oLvPwk0W5/WhO8/oA+UZ5iF7z9IZNrnRobvP8RTV+Qwh+8/i5BzhVyT7z9q7zO6daPvPwX1v5w+tu8/L7a6EkjB7z/Dr9NS09fvPw==\",\"dtype\":\"float64\",\"order\":\"little\",\"shape\":[98]}},\"selected\":{\"id\":\"3008\"},\"selection_policy\":{\"id\":\"3007\"}},\"id\":\"2898\",\"type\":\"ColumnDataSource\"},{\"attributes\":{},\"id\":\"2916\",\"type\":\"PanTool\"},{\"attributes\":{\"fill_alpha\":{\"value\":0.1},\"fill_color\":{\"value\":\"#1b9e77\"},\"line_alpha\":{\"value\":0.1},\"line_color\":{\"value\":\"#1b9e77\"},\"x\":{\"field\":\"t\"},\"y\":{\"field\":\"y00\"}},\"id\":\"2932\",\"type\":\"Circle\"},{\"attributes\":{\"fill_color\":{\"value\":\"#1b9e77\"},\"line_color\":{\"value\":\"#1b9e77\"},\"x\":{\"field\":\"t\"},\"y\":{\"field\":\"y00\"}},\"id\":\"2931\",\"type\":\"Circle\"},{\"attributes\":{\"active_drag\":\"auto\",\"active_inspect\":\"auto\",\"active_multi\":null,\"active_scroll\":\"auto\",\"active_tap\":\"auto\",\"tools\":[{\"id\":\"2916\"},{\"id\":\"2917\"},{\"id\":\"2918\"},{\"id\":\"2919\"},{\"id\":\"2920\"},{\"id\":\"2921\"},{\"id\":\"2935\"}]},\"id\":\"2923\",\"type\":\"Toolbar\"},{\"attributes\":{\"overlay\":{\"id\":\"2922\"}},\"id\":\"2918\",\"type\":\"BoxZoomTool\"},{\"attributes\":{\"callback\":null,\"tooltips\":[[\"name\",\"@name\"],[\"index\",\"@ind\"]]},\"id\":\"2935\",\"type\":\"HoverTool\"},{\"attributes\":{\"bottom_units\":\"screen\",\"fill_alpha\":0.5,\"fill_color\":\"lightgrey\",\"left_units\":\"screen\",\"level\":\"overlay\",\"line_alpha\":1.0,\"line_color\":\"black\",\"line_dash\":[4,4],\"line_width\":2,\"right_units\":\"screen\",\"top_units\":\"screen\"},\"id\":\"2922\",\"type\":\"BoxAnnotation\"},{\"attributes\":{\"source\":{\"id\":\"2898\"}},\"id\":\"2934\",\"type\":\"CDSView\"},{\"attributes\":{\"axis\":{\"id\":\"2908\"},\"grid_line_color\":\"white\",\"ticker\":null},\"id\":\"2911\",\"type\":\"Grid\"},{\"attributes\":{},\"id\":\"2913\",\"type\":\"BasicTicker\"},{\"attributes\":{},\"id\":\"3005\",\"type\":\"BasicTickFormatter\"},{\"attributes\":{\"data_source\":{\"id\":\"2898\"},\"glyph\":{\"id\":\"2931\"},\"hover_glyph\":null,\"muted_glyph\":null,\"nonselection_glyph\":{\"id\":\"2932\"},\"selection_glyph\":null,\"view\":{\"id\":\"2934\"}},\"id\":\"2933\",\"type\":\"GlyphRenderer\"},{\"attributes\":{\"formatter\":{\"id\":\"3005\"},\"ticker\":{\"id\":\"2909\"}},\"id\":\"2908\",\"type\":\"LinearAxis\"},{\"attributes\":{},\"id\":\"2917\",\"type\":\"WheelZoomTool\"},{\"attributes\":{\"axis\":{\"id\":\"2912\"},\"dimension\":1,\"grid_line_color\":\"white\",\"ticker\":null},\"id\":\"2915\",\"type\":\"Grid\"},{\"attributes\":{},\"id\":\"2904\",\"type\":\"LinearScale\"},{\"attributes\":{\"text\":\"\"},\"id\":\"3001\",\"type\":\"Title\"},{\"attributes\":{},\"id\":\"3003\",\"type\":\"BasicTickFormatter\"},{\"attributes\":{},\"id\":\"3008\",\"type\":\"Selection\"},{\"attributes\":{},\"id\":\"3007\",\"type\":\"UnionRenderers\"},{\"attributes\":{},\"id\":\"2909\",\"type\":\"BasicTicker\"},{\"attributes\":{},\"id\":\"2919\",\"type\":\"SaveTool\"},{\"attributes\":{},\"id\":\"2902\",\"type\":\"DataRange1d\"}],\"root_ids\":[\"2899\"]},\"title\":\"Bokeh Application\",\"version\":\"2.1.0\"}};\n",
       "  var render_items = [{\"docid\":\"73f941d9-afc3-4628-a6c0-9712ee062c36\",\"root_ids\":[\"2899\"],\"roots\":{\"2899\":\"ca1170c0-60d8-4b13-ba32-0d3c5a19cfac\"}}];\n",
       "  root.Bokeh.embed.embed_items_notebook(docs_json, render_items);\n",
       "\n",
       "  }\n",
       "  if (root.Bokeh !== undefined) {\n",
       "    embed_document(root);\n",
       "  } else {\n",
       "    var attempts = 0;\n",
       "    var timer = setInterval(function(root) {\n",
       "      if (root.Bokeh !== undefined) {\n",
       "        clearInterval(timer);\n",
       "        embed_document(root);\n",
       "      } else {\n",
       "        attempts++;\n",
       "        if (attempts > 100) {\n",
       "          clearInterval(timer);\n",
       "          console.log(\"Bokeh: ERROR: Unable to run BokehJS code because BokehJS library is missing\");\n",
       "        }\n",
       "      }\n",
       "    }, 10, root)\n",
       "  }\n",
       "})(window);"
      ],
      "application/vnd.bokehjs_exec.v0+json": ""
     },
     "metadata": {
      "application/vnd.bokehjs_exec.v0+json": {
       "id": "2899"
      }
     },
     "output_type": "display_data"
    }
   ],
   "source": [
    "#Plot wavelength-binned time series\n",
    "#this should show all 4 of the visits \n",
    "spec1.plot_wavebin_series(nbins=1,savePlot=False, interactive=True)"
   ]
  },
  {
   "cell_type": "code",
   "execution_count": 30,
   "metadata": {},
   "outputs": [
    {
     "name": "stderr",
     "output_type": "stream",
     "text": [
      "WARNING: VerifyWarning: Card is too long, comment will be truncated. [astropy.io.fits.card]\n"
     ]
    }
   ],
   "source": [
    "spec1.plot_dynamic_spec()"
   ]
  },
  {
   "cell_type": "code",
   "execution_count": null,
   "metadata": {},
   "outputs": [],
   "source": []
  }
 ],
 "metadata": {
  "kernelspec": {
   "display_name": "Python 3",
   "language": "python",
   "name": "python3"
  },
  "language_info": {
   "codemirror_mode": {
    "name": "ipython",
    "version": 3
   },
   "file_extension": ".py",
   "mimetype": "text/x-python",
   "name": "python",
   "nbconvert_exporter": "python",
   "pygments_lexer": "ipython3",
   "version": "3.6.10"
  }
 },
 "nbformat": 4,
 "nbformat_minor": 4
}
